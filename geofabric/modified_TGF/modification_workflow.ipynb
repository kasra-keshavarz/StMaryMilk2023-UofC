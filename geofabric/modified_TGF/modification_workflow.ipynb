{
 "cells": [
  {
   "cell_type": "markdown",
   "id": "cb929c64-beb2-40ee-9c2f-3c98b4bd54d9",
   "metadata": {
    "user_expressions": []
   },
   "source": [
    "# Workflow to modify `TGF` dataset"
   ]
  },
  {
   "cell_type": "markdown",
   "id": "131ff984-57b3-44a4-b2b8-d75cfc61d6e0",
   "metadata": {
    "tags": [],
    "user_expressions": []
   },
   "source": [
    "## Importing necessary libraries"
   ]
  },
  {
   "cell_type": "code",
   "execution_count": 1,
   "id": "7551ad88-49c1-4344-aef0-8f2472b5697b",
   "metadata": {
    "tags": []
   },
   "outputs": [],
   "source": [
    "import xarray as xr # version 2023.2.0\n",
    "import pandas as pd # version 1.5.3\n",
    "import numpy as np # version 1.24.2\n",
    "import geopandas as gpd # version 0.12.2\n",
    "import networkx as nx # version 3.1\n",
    "\n",
    "import matplotlib.pyplot as plt # version 3.7.0\n",
    "\n",
    "import fiona # version 1.9.2\n",
    "\n",
    "from typing import (\n",
    "    Dict,\n",
    "    Tuple,\n",
    "    Union,\n",
    "    List,\n",
    ")\n",
    "\n",
    "from collections.abc import (\n",
    "    Callable,\n",
    ")"
   ]
  },
  {
   "cell_type": "markdown",
   "id": "387ae820-88ef-44f9-b015-82d5ea7fb5d5",
   "metadata": {
    "tags": [],
    "user_expressions": []
   },
   "source": [
    "### Defining paths and preparing objects"
   ]
  },
  {
   "cell_type": "code",
   "execution_count": 2,
   "id": "2682658b-c0e9-4bf3-8dfd-ad3f4ffa5eae",
   "metadata": {
    "tags": []
   },
   "outputs": [
    {
     "data": {
      "text/plain": [
       "['POIs', 'waterbodies', 'nhru', 'nsegment']"
      ]
     },
     "execution_count": 2,
     "metadata": {},
     "output_type": "execute_result"
    }
   ],
   "source": [
    "# defining paths\n",
    "# downloaded from https://www.sciencebase.gov/catalog/item/5d967365e4b0c4f70d113923\n",
    "tgf_path = '/Users/kasrakeshavarz/Documents/geospatial-data/NHM_TGF/TGF.gdb/'\n",
    "# obtained from Jamie Kolodinsky (jamie.kolodinsky@ec.gc.ca)\n",
    "huc12_path = '/Users/kasrakeshavarz/Documents/geospatial-data/StMary-Milk/HUC/HUC12/SMM_HUC12.shp'\n",
    "# slope values - downloaded from https://www.sciencebase.gov/catalog/item/5efcbb9582ce3fd7e8a5b9ea\n",
    "slope_path = '/Users/kasrakeshavarz/Documents/geospatial-data/NHM_TGF/tb_params-master/seg_slope.csv'\n",
    "\n",
    "# list tgf layers\n",
    "fiona.listlayers(tgf_path)"
   ]
  },
  {
   "cell_type": "code",
   "execution_count": 3,
   "id": "8bad3111-a0a9-43e6-ae28-92559ab65533",
   "metadata": {
    "tags": []
   },
   "outputs": [],
   "source": [
    "# read tgf layers\n",
    "## river segments\n",
    "tgf_riv = gpd.read_file(tgf_path, driver='FileGDB', layer='nsegment')\n",
    "## basins\n",
    "tgf_cat = gpd.read_file(tgf_path, driver='FileGDB', layer='nhru')\n",
    "## slope of segments\n",
    "tgf_slope = pd.read_csv(slope_path, index_col=0, header=0)\n",
    "## HUC12 layer\n",
    "huc12_cat = gpd.read_file(huc12_path)"
   ]
  },
  {
   "cell_type": "code",
   "execution_count": 4,
   "id": "ea030c1d-5274-4312-9aa5-4cc720139b7b",
   "metadata": {
    "tags": []
   },
   "outputs": [],
   "source": [
    "# getting list of columns\n",
    "cols = tgf_riv.columns.to_list()\n",
    "\n",
    "# adding `tgf_slope` to `tgf_riv`\n",
    "tgf_riv = pd.concat([tgf_riv.set_index('seg_id_tb', drop=False), tgf_slope], axis=1).reset_index(drop=True)\n",
    "\n",
    "# reordering columns\n",
    "new_order = cols[0:-1]+['seg_slope', cols[-1]]\n",
    "tgf_riv = tgf_riv[new_order]"
   ]
  },
  {
   "cell_type": "markdown",
   "id": "eaf25122-79ee-4714-bf2d-46b0ec4ef571",
   "metadata": {
    "tags": [],
    "user_expressions": []
   },
   "source": [
    "## Necessary functions"
   ]
  },
  {
   "cell_type": "code",
   "execution_count": 5,
   "id": "b7fbe484-0891-4fd5-9b87-2ccc220d7cd6",
   "metadata": {
    "tags": []
   },
   "outputs": [],
   "source": [
    "# Checking wether spatial connectivities are valid\n",
    "\n",
    "def spatial_conn(\n",
    "    gdf: gpd.GeoDataFrame,\n",
    "    main_id: str=None,\n",
    "    ds_main_id: str=None,\n",
    "    print_err: bool=True,\n",
    ") -> Tuple[Dict, Dict]:\n",
    "    \n",
    "    '''Validates downstream IDs and checks spatial connectivity \n",
    "    of river elements\n",
    "    \n",
    "    Parameters\n",
    "    ----------\n",
    "    gdf: geopandas.GeoDataFrame\n",
    "        a GeoPandas dataframe containing details of a river network\n",
    "        with minimum details of element ID, downstream element ID, and\n",
    "        geometries\n",
    "    main_id: str, defaults to `None`\n",
    "        String defining the column of element IDs in the input geopandas\n",
    "        dataframe\n",
    "    ds_main_id: str, defaults to `None`\n",
    "        String defining the column of downstream element IDs in the\n",
    "        input geopandas dataframe\n",
    "    print_err: bool, defaults to `True` (optional)\n",
    "        Argument to specify either print the detailed errors within the\n",
    "        input `gdf`\n",
    "        \n",
    "    Returns\n",
    "    -------\n",
    "    connections: Dict\n",
    "        A dictionary of connections with keys as `main_id` and\n",
    "        values of `ds_main_id` if no issues were found\n",
    "    wrong_conns: Dict\n",
    "        A dictionary of problematic connections with keys as `main_id`\n",
    "        and values defining the nature of the problem, available error\n",
    "        types: 1) spatial disconnection (`spdis`), 2) missing downstream\n",
    "        element (misds)\n",
    "        \n",
    "    '''\n",
    "    \n",
    "    # necessary initializations\n",
    "    connections = {} # key: `main_id`, value: `ds_main_id`\n",
    "    wrong_conns = {} # key: `main_id`, value: error type\n",
    "    \n",
    "    \n",
    "    if main_id is None:\n",
    "        raise ValueError(\"`main_id` cannot be `None`\")\n",
    "        \n",
    "    if ds_main_id is None:\n",
    "        raise ValueError(\"`ds_main_id` cannot be `None`\")\n",
    "\n",
    "    # Loop through each feature in the shapefile\n",
    "    for idx, feature in gdf.iterrows():\n",
    "\n",
    "        # Skip over features with DS_Main_ID = 0\n",
    "        if feature[ds_main_id] == 0:\n",
    "            continue\n",
    "\n",
    "        # Find the corresponding descendant feature\n",
    "        descendant = gdf.loc[gdf[main_id] == feature[ds_main_id]]\n",
    "\n",
    "        # Check if the descendant DataFrame is empty\n",
    "        if descendant.empty:\n",
    "            # find possible downstream IDs of 'DS_Main_ID' does not exist\n",
    "            possible_ds = gdf.geometry.intersects(gdf.loc[idx].geometry)\n",
    "            possible_ds_list = gdf[possible_ds][main_id].tolist()\n",
    "            \n",
    "            # add the `Main_ID` to the `wrong_conns` list\n",
    "            wrong_conns[feature[main_id]] = 'misds'\n",
    "\n",
    "            # print details\n",
    "            if print_err:\n",
    "                print(f\"Warning: No descendant feature found for `main_id`={feature[main_id]} with `ds_main_id`={feature[ds_main_id]}\")\n",
    "                print(f\"  Possible downstream IDs are: {possible_ds_list}\")\n",
    "\n",
    "            continue\n",
    "\n",
    "        # Check if the feature's geometry intersects with the descendant's geometry\n",
    "        if not feature.geometry.intersects(descendant.geometry.iloc[0]):\n",
    "\n",
    "            if print_err:\n",
    "                print(f\"Feature with main_id {feature[main_id]} is not spatially connected to its descendant with ds_main_id {feature[ds_main_id]}\")\n",
    "                \n",
    "            # add the `Main_ID` to the `wrong_conns` dictionary\n",
    "            wrong_conns[feature[main_id]] = 'spdis'\n",
    "        else:\n",
    "            # add the `Main_ID` to the `connections` dictionary\n",
    "            connections[feature[main_id]] = feature[ds_main_id]\n",
    "    \n",
    "    return connections, wrong_conns"
   ]
  },
  {
   "cell_type": "code",
   "execution_count": 6,
   "id": "583fdbcd-719a-46c9-9b30-2abbcac6752e",
   "metadata": {
    "tags": []
   },
   "outputs": [],
   "source": [
    "def find_cycles(\n",
    "    gdf: gpd.GeoDataFrame,\n",
    "    main_id: str,\n",
    "    ds_main_id: str,\n",
    "    l: int=None,\n",
    "    print_err: bool=True,\n",
    ") -> list[...]:\n",
    "    '''Returns the cycles of length `l` of a river network given \n",
    "    as a geopandas GeoDataFrame\n",
    "    \n",
    "    Parameters\n",
    "    ----------\n",
    "    gdf: geopandas.GeoDataFrame\n",
    "        GeoDataFrame of river segments including at least three pieces\n",
    "        of information: 1) geometries of segments, 2) segment IDs, and\n",
    "        3) downstream segment IDs\n",
    "    main_id: str, defaults to `None`\n",
    "        String defining the column of element IDs in the input geopandas\n",
    "        dataframe\n",
    "    ds_main_id: str, defaults to `None`\n",
    "        String defining the column of downstream element IDs in the\n",
    "        input geopandas dataframe\n",
    "    l: int, defaults to None (optional)\n",
    "        length of cycles to be found, leave as None to find\n",
    "        cycles of any length\n",
    "    print_err: bool, defaults to `True` (optional)\n",
    "        print cycles if stated\n",
    "    \n",
    "    Returns\n",
    "    -------\n",
    "    cycles: list\n",
    "        List of `main_id`s indicating cycles\n",
    "    \n",
    "    '''\n",
    "    \n",
    "    # creating a DiGraph out of `gdf` object\n",
    "    riv_graph = nx.from_pandas_edgelist(gdf, source=main_id, target=ds_main_id, create_using=nx.DiGraph)\n",
    "\n",
    "    # extracting cycles\n",
    "    cycles = list(nx.simple_cycles(riv_graph, l))\n",
    "    \n",
    "    if print_err:\n",
    "        print(cycles)\n",
    "    \n",
    "    return cycles"
   ]
  },
  {
   "cell_type": "code",
   "execution_count": 7,
   "id": "c798ca9a-b3ef-4102-bf46-b9202f662a4d",
   "metadata": {
    "tags": []
   },
   "outputs": [],
   "source": [
    "def find_upstream(\n",
    "    gdf: gpd.GeoDataFrame,\n",
    "    target_id: Union[str, int, ...],\n",
    "    main_id: str,\n",
    "    ds_main_id: str,\n",
    ") -> set[...]:\n",
    "    '''Find \"ancestors\" or upstream segments in a river network given\n",
    "    in the from of a geopandas.GeoDataFrame `gdf`\n",
    "    \n",
    "    Parameters\n",
    "    ----------\n",
    "    gdf: geopandas.GeoDataFrame\n",
    "        GeoDataFrame of river segments including at least three pieces\n",
    "        of information: 1) geometries of segments, 2) segment IDs, and\n",
    "        3) downstream segment IDs\n",
    "    target_id: str, int, or any other data type as included in `gdf`\n",
    "        Indicating the target ID anscestor or upstream of which is\n",
    "        desired\n",
    "    main_id: str\n",
    "        String defining the column of element IDs in the input geopandas\n",
    "        dataframe\n",
    "    ds_main_id: str\n",
    "        String defining the column of downstream element IDs in the\n",
    "        input geopandas dataframe\n",
    "    \n",
    "    Returns\n",
    "    -------\n",
    "    nodes: list\n",
    "        IDs of nodes being upstream or anscestor of the `target_id`\n",
    "    \n",
    "    '''\n",
    "    # creating a DiGraph out of `gdf` object\n",
    "    riv_graph = nx.from_pandas_edgelist(gdf, source=main_id, target=ds_main_id, create_using=nx.DiGraph)\n",
    "    \n",
    "    # return nodes in a list\n",
    "    nodes = nx.ancestors(riv_graph, target_id)\n",
    "    \n",
    "    return nodes"
   ]
  },
  {
   "cell_type": "code",
   "execution_count": 8,
   "id": "3f5c0c92-eab6-4d95-a045-3ef8ebe03a37",
   "metadata": {
    "tags": []
   },
   "outputs": [],
   "source": [
    "ID_type = Union[int, str, ...]\n",
    "\n",
    "def union_seg(\n",
    "    gdf: gpd.GeoDataFrame,\n",
    "    by: str,\n",
    "    id_dict: Dict[List[ID_type], ID_type],\n",
    "    agg_dict: Dict[str, Callable] = None,\n",
    ") -> gpd.GeoDataFrame:\n",
    "    '''Return modified `gdf` after substituting `ids` with their union\n",
    "    and applying `aggfunc`'s functions to their attributes\n",
    "    \n",
    "    Parameters\n",
    "    ----------\n",
    "    gdf: geopandas.GeoDataFrame\n",
    "        GeoDataFrame containing various geometries with at least one attribute\n",
    "    by: str\n",
    "        Attribute name of the `gdf` for which `ids` are given\n",
    "    id_dict: dict\n",
    "        A dictionary with keys of list of IDs of elements the union\n",
    "        of which is needed and values of the corresponding ID of the\n",
    "        element for which the union is reported for      \n",
    "    agg_dict: Dict\n",
    "        A dictionary consisting of keys corresponding to the attributes\n",
    "        of `gdf` and values corresponding to a function to be applied\n",
    "        to the attribute values of `ids`\n",
    "        \n",
    "    Returns\n",
    "    -------\n",
    "    modified_gdf: geopandas.GeoDataFrame\n",
    "        Modified GeoDataFrame where the union of `ids` replaces the\n",
    "        `ids` themselves. \n",
    "    '''\n",
    "    \n",
    "    # getting list of columns from `gdf`\n",
    "    cols = gdf.columns.tolist() # getting list of columns\n",
    "    # removing column names that have specific aggregation \n",
    "    # method(s) defined for them in the `agg_dict`\n",
    "    for i in agg_dict.keys(): # removing those having specific aggregation methods\n",
    "        cols.remove(i)\n",
    "    # also removing `geometry` column from `gdf` since it is a\n",
    "    # geopandas.GeoDataFrame object\n",
    "    cols.remove('geometry')\n",
    "    \n",
    "    # iterate over id_dict elements, `id_list` is a tuple\n",
    "    for id_list, target in id_dict.items():\n",
    "        \n",
    "        # extracting `ids` from `gdf`\n",
    "        selected_gdf = gdf.loc[gdf[by].isin(id_list), :].copy()\n",
    "\n",
    "        # union of `ids`\n",
    "        union = selected_gdf.unary_union\n",
    "\n",
    "        # implementing aggregations defined for each column in `agg_dict`;\n",
    "        # first, preparing the `agg_gdf`\n",
    "        agg_gdf = selected_gdf.drop(columns='geometry') # gpd.GeoDataFrame to pd.DataFrame\n",
    "        agg_gdf.set_index(keys=[by], drop=True, inplace=True) # setting index to `by`\n",
    "\n",
    "        # defining a lambda function which returns \"target\" (`t`) values\n",
    "        # for a given \"column\" (`x`) if it is in the list of columns\n",
    "        # defined above `cols` or `c` here; note that `c` contains column\n",
    "        # names that have not been defnined in the `agg_dict`\n",
    "        f = lambda x, t, c: x.loc[t] if x.name in c else agg_dict[x.name](x)\n",
    "        \n",
    "        # implementing aggregations\n",
    "        agg_gdf = agg_gdf.agg(func=f, t=target, c=cols)\n",
    "        \n",
    "        # making a geopandas.GeoDataFrame out of created geometry in `union`\n",
    "        # as it is needed for the concatenation step below\n",
    "        agg_gdf_geom = gpd.GeoDataFrame(agg_gdf.to_frame().T, geometry=gpd.GeoSeries(union))\n",
    "        # the `by` itself was set as an index, so the value is assigned here\n",
    "        agg_gdf_geom[by] = target\n",
    "        # set the .crs of `agg_gdf_geom` same as gdf\n",
    "        agg_gdf_geom.set_crs(gdf.crs, inplace=True)\n",
    "        \n",
    "        # removing `id_list` from gdf (`rem_gdf`), concatenating `agg_gdf_geom`,\n",
    "        # and returning `modified_gdf`\n",
    "        gdf.drop(gdf.index[gdf[seg_str].isin(id_list)], inplace=True)\n",
    "        gdf = gpd.GeoDataFrame(pd.concat([gdf, agg_gdf_geom]))\n",
    "        \n",
    "    return gdf"
   ]
  },
  {
   "cell_type": "code",
   "execution_count": 9,
   "id": "96796d66-a054-45ef-addd-3e6e8065a3b9",
   "metadata": {
    "tags": []
   },
   "outputs": [],
   "source": [
    "def sanitize_connectivity(\n",
    "    gdf: gpd.GeoDataFrame,\n",
    "    main_id: str,\n",
    "    ds_main_id: str,\n",
    "    id_dict: Dict[List[ID_type], ID_type],\n",
    ") -> gpd.GeoDataFrame:\n",
    "    '''Corrects river network connectivity after union aggregations\n",
    "    implemented on a few segments. Modified GeoDataFrame where the\n",
    "    segments with end to elements in `id_list` that are not `target`\n",
    "    have now a `ds_main_id` of `target`\n",
    "    \n",
    "    Parameters\n",
    "    ----------\n",
    "    gdf: geopandas.GeoDataFrame\n",
    "        GeoDataFrame of river segments including at least three pieces\n",
    "        of information: 1) geometries of segments, 2) segment IDs, and\n",
    "        3) downstream segment IDs\n",
    "    main_id: str\n",
    "        String defining the column of element IDs in the input geopandas\n",
    "        dataframe\n",
    "    ds_main_id: str\n",
    "        String defining the column of downstream element IDs in the\n",
    "        input geopandas dataframe\n",
    "    id_dict: dict\n",
    "        A dictionary with keys of list of IDs of elements the union\n",
    "        of which was added and values of the corresponding ID of the\n",
    "        element for which the union was reported for  \n",
    "    \n",
    "    Returns\n",
    "    -------\n",
    "    modified_gdf: geopandas.GeoDataFrame\n",
    "        Modified GeoDataFrame where the segments with end to elements in `id_list`\n",
    "        that are not `target` have now a `ds_main_id` of `target`\n",
    "    '''\n",
    "    \n",
    "    modified_gdf = gdf\n",
    "    \n",
    "    # loop over elements of `id_dict`\n",
    "    for id_list, target in id_dict.items():\n",
    "    \n",
    "        # correcting ids in the `id_list`\n",
    "        for segment in id_list:\n",
    "            # skip if it is the target itself\n",
    "            if segment == target:\n",
    "                continue\n",
    "            # change the downstream value to `target\n",
    "            else:\n",
    "                modified_gdf.loc[modified_gdf[ds_main_id] == segment, ds_main_id] = target\n",
    "    # reseting index\n",
    "    modified_gdf.reset_index(drop=True, inplace=True)\n",
    "    \n",
    "    return modified_gdf"
   ]
  },
  {
   "cell_type": "markdown",
   "id": "40b24d6a-1078-4b75-af3b-bd656c156fdf",
   "metadata": {
    "tags": [],
    "user_expressions": []
   },
   "source": [
    "## Necessary assumptions"
   ]
  },
  {
   "cell_type": "code",
   "execution_count": 10,
   "id": "fe5d3be2-c6c9-402f-97e1-9ddccf129850",
   "metadata": {
    "tags": []
   },
   "outputs": [],
   "source": [
    "seg_str = 'seg_id_nhm'\n",
    "ds_seg_str = 'tosegment_nhm'\n",
    "cat_str = 'hru_segment_nhm'"
   ]
  },
  {
   "cell_type": "markdown",
   "id": "efed2d6a-7879-4855-ad32-b28512da889c",
   "metadata": {
    "tags": [],
    "user_expressions": []
   },
   "source": [
    "## Modifying river segments"
   ]
  },
  {
   "cell_type": "markdown",
   "id": "cc993042-397e-418a-90ef-adb58a06d9b9",
   "metadata": {
    "tags": [],
    "user_expressions": []
   },
   "source": [
    "### Checking river segments"
   ]
  },
  {
   "cell_type": "markdown",
   "id": "e90b69f9-3df3-4460-a3c7-81863a796027",
   "metadata": {
    "tags": [],
    "user_expressions": []
   },
   "source": [
    "#### Downcasting datatypes as necessary"
   ]
  },
  {
   "cell_type": "markdown",
   "id": "bb287545-e3f6-4ce2-b42e-973e47df11a4",
   "metadata": {
    "user_expressions": []
   },
   "source": [
    "First a datatype downcasting on the values of segment IDs and hru IDs are done:"
   ]
  },
  {
   "cell_type": "code",
   "execution_count": 11,
   "id": "f57fe943-f860-45ac-b275-a2dc4361200e",
   "metadata": {
    "tags": []
   },
   "outputs": [],
   "source": [
    "# safe copy of `tgf_riv` for further analysis\n",
    "riv = tgf_riv.copy()\n",
    "\n",
    "# safe copy of `tgf_cat` for further analysis\n",
    "cat = tgf_cat.copy()"
   ]
  },
  {
   "cell_type": "code",
   "execution_count": 12,
   "id": "9cc23be1-6eca-431f-9d5d-e6685539ecd7",
   "metadata": {
    "tags": []
   },
   "outputs": [],
   "source": [
    "# list of columns to be chosen for dtype downcast\n",
    "col_list = [seg_str, ds_seg_str]\n",
    "\n",
    "# downcast dtype of necessary columns to integer, if possible\n",
    "fcols = riv[col_list].select_dtypes('float').columns\n",
    "riv[fcols] = riv[fcols].apply(pd.to_numeric, downcast='integer')"
   ]
  },
  {
   "cell_type": "code",
   "execution_count": 13,
   "id": "7f823953-b586-4772-9872-f931666cb602",
   "metadata": {
    "tags": []
   },
   "outputs": [
    {
     "name": "stdout",
     "output_type": "stream",
     "text": [
      "Downcasting for the dtype of column `seg_id_nhm` is right:  True\n",
      "Downcasting for the dtype of column `tosegment_nhm` is right:  True\n"
     ]
    }
   ],
   "source": [
    "# checking if downcasting is done right\n",
    "for col in col_list:\n",
    "    print(f'Downcasting for the dtype of column `{col}` is right: ', (tgf_riv[col] == riv[col]).astype(int).sum() == tgf_riv.shape[0])"
   ]
  },
  {
   "cell_type": "markdown",
   "id": "8048fb26-45be-49aa-8504-6553178b135b",
   "metadata": {
    "tags": [],
    "user_expressions": []
   },
   "source": [
    "#### Check upstream/downstream connectivity"
   ]
  },
  {
   "cell_type": "code",
   "execution_count": 14,
   "id": "a4f4ad51-2925-4fae-8e1a-1e130fe54895",
   "metadata": {},
   "outputs": [
    {
     "name": "stdout",
     "output_type": "stream",
     "text": [
      "Feature with main_id 57086 is not spatially connected to its descendant with ds_main_id 57194\n",
      "Feature with main_id 57143 is not spatially connected to its descendant with ds_main_id 57133\n",
      "Feature with main_id 57495 is not spatially connected to its descendant with ds_main_id 57380\n",
      "Feature with main_id 58015 is not spatially connected to its descendant with ds_main_id 57926\n",
      "Feature with main_id 58046 is not spatially connected to its descendant with ds_main_id 58067\n",
      "Feature with main_id 58049 is not spatially connected to its descendant with ds_main_id 58067\n",
      "Warning: No descendant feature found for `main_id`=58662 with `ds_main_id`=33298\n",
      "  Possible downstream IDs are: [58662, 58663, 58793, 58876]\n",
      "Warning: No descendant feature found for `main_id`=58876 with `ds_main_id`=33298\n",
      "  Possible downstream IDs are: [58662, 58876]\n",
      "Feature with main_id 58877 is not spatially connected to its descendant with ds_main_id 60076\n",
      "Feature with main_id 59160 is not spatially connected to its descendant with ds_main_id 58891\n",
      "Feature with main_id 59719 is not spatially connected to its descendant with ds_main_id 58889\n",
      "Feature with main_id 59956 is not spatially connected to its descendant with ds_main_id 59686\n",
      "Warning: No descendant feature found for `main_id`=59972 with `ds_main_id`=52261\n",
      "  Possible downstream IDs are: [59972, 59973, 61095]\n",
      "Feature with main_id 60020 is not spatially connected to its descendant with ds_main_id 60341\n",
      "Feature with main_id 60021 is not spatially connected to its descendant with ds_main_id 60341\n",
      "Feature with main_id 60034 is not spatially connected to its descendant with ds_main_id 60853\n",
      "Feature with main_id 57190 is not spatially connected to its descendant with ds_main_id 57056\n"
     ]
    }
   ],
   "source": [
    "conns, err_conns = spatial_conn(riv, seg_str, ds_seg_str, True)"
   ]
  },
  {
   "cell_type": "markdown",
   "id": "a42240bd-fb91-448c-9370-6227ac42e9a8",
   "metadata": {
    "tags": [],
    "user_expressions": []
   },
   "source": [
    "#### Checking existing cycles"
   ]
  },
  {
   "cell_type": "markdown",
   "id": "b88735d4-7b15-424e-bd45-fd45a03f6ae8",
   "metadata": {
    "user_expressions": []
   },
   "source": [
    "River networks could be considered a special case of directed acyclic graphs (DAGs), therefore, for verification purposes of this Notebook, we could use algorithms designed for this specific type of graphs. `NetworkX` usually has necessary functions for graph analysis!"
   ]
  },
  {
   "cell_type": "code",
   "execution_count": 15,
   "id": "677239c0-41b0-415b-b7aa-3da4659e643d",
   "metadata": {},
   "outputs": [
    {
     "name": "stdout",
     "output_type": "stream",
     "text": [
      "[]\n"
     ]
    }
   ],
   "source": [
    "cycles = find_cycles(riv, seg_str, ds_seg_str)"
   ]
  },
  {
   "cell_type": "markdown",
   "id": "7dc878ba-67af-407b-9aed-42c4783afd35",
   "metadata": {
    "user_expressions": []
   },
   "source": [
    "Iteratively, the cycles are corrected manually. I cannot think of any automated way to correct the cycles. Feel free to let me know if you are aware of any!"
   ]
  },
  {
   "cell_type": "code",
   "execution_count": 16,
   "id": "cb0b463e-7bbc-403a-bb1b-ff1a49ef119d",
   "metadata": {
    "tags": []
   },
   "outputs": [
    {
     "name": "stdout",
     "output_type": "stream",
     "text": [
      "[]\n"
     ]
    }
   ],
   "source": [
    "# Iteration 1\n",
    "# cycles found are corrected by assigning the right downstream IDs inspected visually\n",
    "# this code only exists as a template for future references\n",
    "\n",
    "cycles_corr = {\n",
    "}\n",
    "\n",
    "for us, ds in cycles_corr.items():\n",
    "    riv.loc[riv[seg_str] == us, ds_seg_str] = ds\n",
    "    \n",
    "cycles = find_cycles(riv, seg_str, ds_seg_str)"
   ]
  },
  {
   "cell_type": "markdown",
   "id": "c7071a5b-cb62-4ab3-92c9-df2274ed1bad",
   "metadata": {
    "tags": [],
    "user_expressions": []
   },
   "source": [
    "### Fixing irregular river segment IDs"
   ]
  },
  {
   "cell_type": "markdown",
   "id": "fcb7701b-75d3-40b2-a308-6eef8f644fac",
   "metadata": {
    "tags": [],
    "user_expressions": []
   },
   "source": [
    "#### Invalid downstream IDs"
   ]
  },
  {
   "cell_type": "markdown",
   "id": "fc4c3df0-b033-4710-bf97-2134962feaa8",
   "metadata": {
    "user_expressions": []
   },
   "source": [
    "Visually, valid IDs are evaluated and assigned to those reported above. If the downstream/upstream element connectivity details are correct, but spatial disconnectivity is observed, no correction is needed as data are fed into routing models for hydrology, and spatial connectivity does not matter.\n",
    "\n",
    "Since the `seg_id_nhm` has been chosen as the main ID of river segments, some downstream values need to be adjusted. This is **NOT** a problem with the river segments of `TGF`, but a minor adjustment for GWF modelling wokrflows to be compatible with the transboundary region, if needed. The values are still valid if the bigger `GFv1.1` is being considered as the geofabric for modelling is it covers areas not included in `TGF`."
   ]
  },
  {
   "cell_type": "code",
   "execution_count": 17,
   "id": "acd62861-0180-4fd9-8ea4-9df71ceff472",
   "metadata": {},
   "outputs": [],
   "source": [
    "# for the segment ID of `err_conns`, the correct downstream IDs are assigned\n",
    "misds_corr = {\n",
    "    58662: 0,\n",
    "    58876: 0,\n",
    "    59972: 0,\n",
    "}\n",
    "\n",
    "for us, ds in misds_corr.items():\n",
    "    riv.loc[riv[seg_str] == us, ds_seg_str] = ds"
   ]
  },
  {
   "cell_type": "code",
   "execution_count": 18,
   "id": "1d58b4b0-9369-46da-89a6-7b2ab4fd6658",
   "metadata": {},
   "outputs": [
    {
     "name": "stdout",
     "output_type": "stream",
     "text": [
      "Feature with main_id 57086 is not spatially connected to its descendant with ds_main_id 57194\n",
      "Feature with main_id 57143 is not spatially connected to its descendant with ds_main_id 57133\n",
      "Feature with main_id 57495 is not spatially connected to its descendant with ds_main_id 57380\n",
      "Feature with main_id 58015 is not spatially connected to its descendant with ds_main_id 57926\n",
      "Feature with main_id 58046 is not spatially connected to its descendant with ds_main_id 58067\n",
      "Feature with main_id 58049 is not spatially connected to its descendant with ds_main_id 58067\n",
      "Feature with main_id 58877 is not spatially connected to its descendant with ds_main_id 60076\n",
      "Feature with main_id 59160 is not spatially connected to its descendant with ds_main_id 58891\n",
      "Feature with main_id 59719 is not spatially connected to its descendant with ds_main_id 58889\n",
      "Feature with main_id 59956 is not spatially connected to its descendant with ds_main_id 59686\n",
      "Feature with main_id 60020 is not spatially connected to its descendant with ds_main_id 60341\n",
      "Feature with main_id 60021 is not spatially connected to its descendant with ds_main_id 60341\n",
      "Feature with main_id 60034 is not spatially connected to its descendant with ds_main_id 60853\n",
      "Feature with main_id 57190 is not spatially connected to its descendant with ds_main_id 57056\n"
     ]
    }
   ],
   "source": [
    "conns, err_conns = spatial_conn(riv, seg_str, ds_seg_str, True)"
   ]
  },
  {
   "cell_type": "markdown",
   "id": "e2ffe59c-063d-40c0-9ef8-3e7656a1890b",
   "metadata": {
    "user_expressions": []
   },
   "source": [
    "In the above message, we see there are a few segments that are not spatially connected to their downstream segments. Either the LineString is not built properly, or the downstream ID is wrong. However, since the above segments are outside of the `SMM` area, we refrain from fixing these for the time being. "
   ]
  },
  {
   "cell_type": "markdown",
   "id": "61e93f92-b06f-4747-9ec9-c47093933066",
   "metadata": {
    "tags": [],
    "user_expressions": []
   },
   "source": [
    "#### Correcting river segments without a corresponding sub-basin ID"
   ]
  },
  {
   "cell_type": "code",
   "execution_count": 19,
   "id": "465c7ac0-c9db-4c01-ab8d-2d3ad518d7fc",
   "metadata": {
    "tags": []
   },
   "outputs": [
    {
     "data": {
      "text/plain": [
       "414     56880\n",
       "514     56980\n",
       "1063    57536\n",
       "1962    58443\n",
       "4055    60539\n",
       "5102    61595\n",
       "5398    61891\n",
       "Name: seg_id_nhm, dtype: int64"
      ]
     },
     "execution_count": 19,
     "metadata": {},
     "output_type": "execute_result"
    }
   ],
   "source": [
    "# find river segment that are not associated with any sub-basin \n",
    "riv.loc[~riv[seg_str].isin(cat[cat_str]), seg_str]"
   ]
  },
  {
   "cell_type": "markdown",
   "id": "4167f6cb-0303-43d2-aa83-2545da3cd1bc",
   "metadata": {
    "user_expressions": []
   },
   "source": [
    "Upon visual investigation, it was found that there are a few segments that are separated by a `POI`, and that is the reason some river segments are not associated with any sub-basins (or hrus). This is **NOT** a problem with `TGF` as POIs are providing more information. However, they can cause issues for `GWF` modelling workflows, hence are corrected here:"
   ]
  },
  {
   "cell_type": "code",
   "execution_count": 20,
   "id": "ebb1ab28-bf33-4f1c-93de-932cb2ea1930",
   "metadata": {
    "tags": []
   },
   "outputs": [],
   "source": [
    "#### gdf = riv\n",
    "idd = {\n",
    "    (56980, 56910): 56910,\n",
    "    (58443, 58440): 58440,\n",
    "    (61595, 62268): 62268,\n",
    "    (61891, 62267): 62267,\n",
    "}\n",
    "aggd = {\n",
    "    'Shape_Length':np.sum,\n",
    "    'seg_slope':np.mean, # simplifying assumption\n",
    "}\n",
    "\n",
    "riv = union_seg(riv, seg_str, idd, aggd)\n",
    "riv = sanitize_connectivity(riv, seg_str, ds_seg_str, idd)"
   ]
  },
  {
   "cell_type": "code",
   "execution_count": 21,
   "id": "9183c4d8-e2b2-49b6-a2ad-1b4143312c1d",
   "metadata": {
    "tags": []
   },
   "outputs": [],
   "source": [
    "# rearrange columns\n",
    "riv_columns = [seg_str, ds_seg_str] + riv.columns.to_list()\n",
    "riv_columns = unique_list = [x for i, x in enumerate(riv_columns) if x not in riv_columns[:i]] # remove repetition\n",
    "riv = riv[riv_columns]"
   ]
  },
  {
   "cell_type": "markdown",
   "id": "d51b0dd3-f2ae-4a1d-a256-b59a791d067a",
   "metadata": {
    "tags": [],
    "user_expressions": []
   },
   "source": [
    "## Modifying sub-basins"
   ]
  },
  {
   "cell_type": "markdown",
   "id": "00aeea68-bbe4-4a35-bab3-29f82b56d689",
   "metadata": {
    "tags": [],
    "user_expressions": []
   },
   "source": [
    "### Assigning sub-basins to river segments without one"
   ]
  },
  {
   "cell_type": "code",
   "execution_count": 22,
   "id": "ce2debb6-bde3-4f09-b94f-5400019fd0c2",
   "metadata": {
    "tags": []
   },
   "outputs": [
    {
     "data": {
      "text/plain": [
       "414     56880\n",
       "1061    57536\n",
       "4051    60539\n",
       "Name: seg_id_nhm, dtype: int64"
      ]
     },
     "execution_count": 22,
     "metadata": {},
     "output_type": "execute_result"
    }
   ],
   "source": [
    "# find river segment that are not associated with any sub-basin\n",
    "# checking again:\n",
    "riv.loc[~riv[seg_str].isin(cat[cat_str]), seg_str]"
   ]
  },
  {
   "cell_type": "code",
   "execution_count": 23,
   "id": "c2471a74-3938-4def-b6e4-107af8597ac8",
   "metadata": {
    "tags": []
   },
   "outputs": [],
   "source": [
    "# two river ids do not have any sub-basins assigned to them;\n",
    "# upon visual inspection, the most logical sub-basin has been\n",
    "# assigned to them. These three segments are part of a lake\n",
    "# system\n",
    "cat_riv_dict = {\n",
    "    # hru : segment\n",
    "    112231: 57536,\n",
    "    118646: 60539,\n",
    "}\n",
    "\n",
    "# river segment 56880 is remained without a sub-basin as\n",
    "# sub-basin 110936 needs to be `exploded` and the part\n",
    "# associated with segment `56880` need to be set separately\n",
    "\n",
    "for cat_id, seg_id in cat_riv_dict.items():\n",
    "    cat.loc[cat['hru_id_nhm'] == cat_id, 'hru_segment_nhm'] = seg_id"
   ]
  },
  {
   "cell_type": "code",
   "execution_count": 24,
   "id": "cc95cbfc-ca05-4bdb-b78e-782dfe7f14ed",
   "metadata": {
    "tags": []
   },
   "outputs": [
    {
     "data": {
      "text/plain": [
       "414    56880\n",
       "Name: seg_id_nhm, dtype: int64"
      ]
     },
     "execution_count": 24,
     "metadata": {},
     "output_type": "execute_result"
    }
   ],
   "source": [
    "# find river segment that are not associated with any sub-basin\n",
    "# checking again:\n",
    "riv.loc[~riv[seg_str].isin(cat[cat_str]), seg_str]"
   ]
  },
  {
   "cell_type": "markdown",
   "id": "348552f8-adc8-47a7-a68f-1c632a0a10b2",
   "metadata": {
    "tags": [],
    "user_expressions": []
   },
   "source": [
    "### Dissolving left-/right-banks of sub-basins"
   ]
  },
  {
   "cell_type": "markdown",
   "id": "f64857d5-a43d-4b4d-8da5-b9853182450c",
   "metadata": {
    "user_expressions": []
   },
   "source": [
    "For `dissolving` the sub-basins with identical IDs, the `hru_segment_nhm` attribute has been chosen as the identifier. It should be noted that, if the sub-basin is not associated with any river segment, the value of `hru_segment_nhm` is defined as `0`.\n",
    "\n",
    "Furthermore, it was initially thought that for each river segment, 2 corresponding sub-basins, left-bank and right-bank ones, exist. However, with further exploration of the `TGF` dataset, it was concluded that this number varies between 1 and 5.\n",
    "\n",
    "Since there is no automated way of correcting these issues, we only dissolve sub-basins based on the `hru_segment_nhm` values. Further corrections could be manually implemented, however, we avoid doing so for this project."
   ]
  },
  {
   "cell_type": "code",
   "execution_count": 25,
   "id": "ccc8baa8-76b4-4eaa-85f0-4419d15ccdc3",
   "metadata": {
    "tags": []
   },
   "outputs": [],
   "source": [
    "# removing sub-basins without a river segment for now\n",
    "filtered_cat = cat[cat[cat_str] != 0]\n",
    "\n",
    "# dissolving remaining sub-basins by their hru_segment_nhm\n",
    "## making aggregation function\n",
    "aggf = {\n",
    "    'Shape_Area':np.sum,\n",
    "    'Shape_Length':np.mean,\n",
    "}\n",
    "# assigning aggregation methods to each column of `cat`\n",
    "for col in filtered_cat.columns:\n",
    "    if col not in aggf.keys() and col!='geometry' and col!='hru_segment_nhm':\n",
    "        aggf[col] = 'first'\n",
    "# dissolving left and right banks\n",
    "dissolved_filt_cat = filtered_cat.dissolve(by=cat_str, aggfunc=aggf, as_index=False)\n",
    "\n",
    "# adding back sub-basins without river segments\n",
    "zero_values_gdf = cat[cat[cat_str] == 0]\n",
    "\n",
    "# concatenating polygons with zero 'hru_segment' values to the dissolved GeoDataFrame\n",
    "dissolved_cat = gpd.GeoDataFrame(pd.concat([dissolved_filt_cat, zero_values_gdf]))\n",
    "\n",
    "# reordering columns\n",
    "cat_columns = ['hru_id_nhm'] + ['hru_segment_nhm'] + cat.columns.to_list() # making a list of columns\n",
    "cat_columns = unique_list = [x for i, x in enumerate(cat_columns) if x not in cat_columns[:i]] # remove repetition\n",
    "dissolved_cat = dissolved_cat[cat_columns]"
   ]
  },
  {
   "cell_type": "markdown",
   "id": "d791cb39-50e8-44a6-b031-27defcdbcfb6",
   "metadata": {
    "tags": [],
    "user_expressions": []
   },
   "source": [
    "### Correcting sub-basins (non-coastal and non-NCA) without a corresponding river segment"
   ]
  },
  {
   "cell_type": "code",
   "execution_count": 26,
   "id": "8370f9ad-7de3-4e0f-8aa2-db18305781ca",
   "metadata": {
    "tags": []
   },
   "outputs": [
    {
     "data": {
      "text/html": [
       "<div>\n",
       "<style scoped>\n",
       "    .dataframe tbody tr th:only-of-type {\n",
       "        vertical-align: middle;\n",
       "    }\n",
       "\n",
       "    .dataframe tbody tr th {\n",
       "        vertical-align: top;\n",
       "    }\n",
       "\n",
       "    .dataframe thead th {\n",
       "        text-align: right;\n",
       "    }\n",
       "</style>\n",
       "<table border=\"1\" class=\"dataframe\">\n",
       "  <thead>\n",
       "    <tr style=\"text-align: right;\">\n",
       "      <th></th>\n",
       "      <th>hru_segment_nhm</th>\n",
       "      <th>geometry</th>\n",
       "      <th>Shape_Area</th>\n",
       "      <th>Shape_Length</th>\n",
       "      <th>POI_ID</th>\n",
       "      <th>hru_id</th>\n",
       "      <th>hru_segment</th>\n",
       "      <th>hru_id_tb</th>\n",
       "      <th>hru_segment_tb</th>\n",
       "      <th>hru_id_nhm</th>\n",
       "      <th>Type_NCA</th>\n",
       "      <th>HUC04</th>\n",
       "      <th>Coastal_HRU</th>\n",
       "    </tr>\n",
       "  </thead>\n",
       "  <tbody>\n",
       "  </tbody>\n",
       "</table>\n",
       "</div>"
      ],
      "text/plain": [
       "Empty GeoDataFrame\n",
       "Columns: [hru_segment_nhm, geometry, Shape_Area, Shape_Length, POI_ID, hru_id, hru_segment, hru_id_tb, hru_segment_tb, hru_id_nhm, Type_NCA, HUC04, Coastal_HRU]\n",
       "Index: []"
      ]
     },
     "execution_count": 26,
     "metadata": {},
     "output_type": "execute_result"
    }
   ],
   "source": [
    "# check if sub-basins (that are not NCA or coastal) have a river segment associated with them\n",
    "dissolved_filt_cat[~dissolved_filt_cat[cat_str].isin(riv[seg_str])]"
   ]
  },
  {
   "cell_type": "markdown",
   "id": "c2dfb24f-6e28-4092-b25d-0d2bd7ab2ec8",
   "metadata": {
    "tags": [],
    "user_expressions": []
   },
   "source": [
    "## Extracting river segments of the `SMM` area based on upstream/downstream connectivity"
   ]
  },
  {
   "cell_type": "markdown",
   "id": "e4694c61-6ea0-427a-81af-bc7f090956fb",
   "metadata": {
    "user_expressions": []
   },
   "source": [
    "Based on the boundary of the HUC12 dataset shared by [Jamie Kolodinsky](jamie.kolodinsky@ec.gc.ca), for the St. Mary portion, the most downstream river segment is `58183`, and for the Milk portion is `58242`."
   ]
  },
  {
   "cell_type": "code",
   "execution_count": 27,
   "id": "58253611-7e46-4666-8acb-08e1bd43974c",
   "metadata": {
    "tags": []
   },
   "outputs": [],
   "source": [
    "# empty dictionary for extracting ancestor nodes\n",
    "nodes = {}\n",
    "\n",
    "# dictionary of target ids\n",
    "target_ids = {\n",
    "    'st_mary': 58183,\n",
    "    'milk': 58242,\n",
    "}\n",
    "\n",
    "# extracting ancestors\n",
    "for river, target in target_ids.items():\n",
    "    # extracting ancestors\n",
    "    ancestors = find_upstream(riv, target, seg_str, ds_seg_str)\n",
    "    # adding target node to the `ancestors` set\n",
    "    ancestors.add(target)\n",
    "    # adding to the ancestor dictionary\n",
    "    nodes[river] = ancestors"
   ]
  },
  {
   "cell_type": "markdown",
   "id": "a0a6cd8f-9efb-4363-8787-7b84503cfbe7",
   "metadata": {
    "tags": [],
    "user_expressions": []
   },
   "source": [
    "## Extracting river segments based on spatial overlap with the pre-defined boundary"
   ]
  },
  {
   "cell_type": "markdown",
   "id": "8a19454a-ccf7-4cff-afc9-250403a64aff",
   "metadata": {
    "user_expressions": []
   },
   "source": [
    "Based on the boundary of the HUC12 dataset shared by [Jamie Kolodinsky](jamie.kolodinsky@ec.gc.ca), an overlap check is done to cover sub-basins that are within the boundary, but are not contributing the main river systems."
   ]
  },
  {
   "cell_type": "code",
   "execution_count": 28,
   "id": "2d041b03-d73f-4d86-90ec-9036e415ae37",
   "metadata": {},
   "outputs": [],
   "source": [
    "smm_boundary = huc12_cat.to_crs(riv.crs).dissolve()"
   ]
  },
  {
   "cell_type": "markdown",
   "id": "1ca52e52-edde-456d-9453-920f931640df",
   "metadata": {
    "user_expressions": []
   },
   "source": [
    "Now, we extract basins that are contributing and non-contributing overlaying with the boundary layer. We will further refine this GeoDataFrame based on `nodes`:"
   ]
  },
  {
   "cell_type": "code",
   "execution_count": 29,
   "id": "ae8321f2-2757-4175-beb4-f5e5714c2a9e",
   "metadata": {},
   "outputs": [],
   "source": [
    "# selecting those intersecting with the boundary layer with a buffer of 6km\n",
    "overlay_smm_cat = dissolved_cat[dissolved_cat.intersects(smm_boundary.buffer(-6e3).geometry.iloc[0])]"
   ]
  },
  {
   "cell_type": "markdown",
   "id": "0f445f74-0983-4f0c-99e6-ba98bba48dfc",
   "metadata": {
    "user_expressions": []
   },
   "source": [
    "Then, we select river segments extracted based on up-/downstream connectivity, select their sub-basins, add those basins that are not connected to the main streams but are still inside the boundary of `SMM`:"
   ]
  },
  {
   "cell_type": "code",
   "execution_count": 30,
   "id": "1e5676fd-d4d8-42b9-b7ad-ef44901aa197",
   "metadata": {
    "tags": []
   },
   "outputs": [],
   "source": [
    "# creating a set of all SMM river segments\n",
    "smm_riv_nodes = nodes['st_mary'].union(nodes['milk'])\n",
    "\n",
    "# getting id of river segments of the `overlay_smm_cat` \n",
    "overlay_smm_nodes = overlay_smm_cat.loc[overlay_smm_cat['hru_segment_nhm'] != 0, 'hru_segment_nhm']\n",
    "\n",
    "# updating the `smm_riv_node` set with overlay values\n",
    "smm_riv_nodes.update(overlay_smm_nodes)"
   ]
  },
  {
   "cell_type": "markdown",
   "id": "b31d8ed1-5f9a-4d9a-95d5-009e01a9e06b",
   "metadata": {
    "tags": [],
    "user_expressions": []
   },
   "source": [
    "Once, `smm_riv_nodes` is finalized, we will extract `smm_riv` and `smm_cat` files:"
   ]
  },
  {
   "cell_type": "code",
   "execution_count": 31,
   "id": "65fa5c76-5c3b-406e-b4c3-50f5f3313342",
   "metadata": {
    "tags": []
   },
   "outputs": [],
   "source": [
    "# river obejct\n",
    "smm_riv = riv.loc[riv[seg_str].isin(smm_riv_nodes)].copy()\n",
    "\n",
    "# sub-basin object\n",
    "cat_nodes = set(overlay_smm_cat['hru_id_nhm']) # take river segment set\n",
    "cat_nodes.update(dissolved_cat.loc[dissolved_cat[cat_str].isin(smm_riv_nodes), 'hru_id_nhm']) # add NCA ones\n",
    "smm_cat = dissolved_cat.loc[dissolved_cat['hru_id_nhm'].isin(cat_nodes)].copy() # copy"
   ]
  },
  {
   "cell_type": "markdown",
   "id": "0fbb2481-dbc9-49c5-aaac-392b476acd8e",
   "metadata": {
    "user_expressions": []
   },
   "source": [
    "Changing the `ds_main_id` value for the outlet river segments:"
   ]
  },
  {
   "cell_type": "code",
   "execution_count": 32,
   "id": "6a856f36-8c69-4b01-9598-b8502f46aafd",
   "metadata": {
    "tags": []
   },
   "outputs": [],
   "source": [
    "for _, outlet in target_ids.items():\n",
    "    smm_riv.loc[smm_riv[seg_str] == outlet, ds_seg_str] = 0"
   ]
  },
  {
   "cell_type": "code",
   "execution_count": 33,
   "id": "bc529e8d-7f1f-46a9-bed9-ab289b737139",
   "metadata": {
    "tags": []
   },
   "outputs": [
    {
     "data": {
      "text/plain": [
       "<Axes: >"
      ]
     },
     "execution_count": 33,
     "metadata": {},
     "output_type": "execute_result"
    },
    {
     "data": {
      "image/png": "[encoded data removed]",
      "text/plain": [
       "<Figure size 640x480 with 1 Axes>"
      ]
     },
     "metadata": {},
     "output_type": "display_data"
    }
   ],
   "source": [
    "# plotting\n",
    "fig2, ax2 = plt.subplots(1,1)\n",
    "\n",
    "smm_riv.plot(ax=ax2, color='red') # rivers\n",
    "smm_cat.plot(ax=ax2, edgecolor='black') # sub-basins\n",
    "smm_boundary.plot(ax=ax2, alpha=0.5, color='black')"
   ]
  },
  {
   "cell_type": "markdown",
   "id": "b62ca233-557e-4cef-ab20-808f5ee0e51e",
   "metadata": {
    "tags": [],
    "user_expressions": []
   },
   "source": [
    "## Final verifications"
   ]
  },
  {
   "cell_type": "markdown",
   "id": "cd5f89c6-2594-4c96-9d70-86993521e474",
   "metadata": {
    "user_expressions": []
   },
   "source": [
    "### checking connectivity"
   ]
  },
  {
   "cell_type": "code",
   "execution_count": 34,
   "id": "9a511842-8691-4e75-a881-596d283ef72b",
   "metadata": {},
   "outputs": [],
   "source": [
    "conns, err_conns = spatial_conn(smm_riv, seg_str, ds_seg_str, True)"
   ]
  },
  {
   "cell_type": "markdown",
   "id": "3deded60-76ce-4f5a-8aa0-dde4d4b748fc",
   "metadata": {
    "user_expressions": []
   },
   "source": [
    "### checking cycles"
   ]
  },
  {
   "cell_type": "code",
   "execution_count": 35,
   "id": "9cc4358b-7623-44fc-9d52-1a799956516d",
   "metadata": {},
   "outputs": [
    {
     "name": "stdout",
     "output_type": "stream",
     "text": [
      "[]\n"
     ]
    }
   ],
   "source": [
    "cycles = find_cycles(smm_riv, seg_str, ds_seg_str)"
   ]
  },
  {
   "cell_type": "markdown",
   "id": "386a4197-7ba3-40eb-a792-da0fa3bffe74",
   "metadata": {
    "tags": [],
    "user_expressions": []
   },
   "source": [
    "# Saving modified `TGF` dataset"
   ]
  },
  {
   "cell_type": "code",
   "execution_count": 36,
   "id": "c9e8de6d-53a5-4cb9-afcc-2991b3b8f78a",
   "metadata": {
    "tags": []
   },
   "outputs": [],
   "source": [
    "# renaming certain columns to make them less than 10 character\n",
    "smm_riv.rename(columns={'seg_id_nhm':'seg_nhm', 'tosegment_nhm':'ds_seg_nhm'}, inplace=True)\n",
    "smm_cat.rename(columns={'hru_segment_nhm':'seg_nhm', 'hru_id_nhm':'hru_nhm'}, inplace=True)"
   ]
  },
  {
   "cell_type": "code",
   "execution_count": 37,
   "id": "d00e023f-3d38-40ad-acf9-b56261253c50",
   "metadata": {
    "tags": []
   },
   "outputs": [],
   "source": [
    "# making WSG84 projection out of the Shapefiles\n",
    "smm_cat.to_crs(epsg=4326, inplace=True)\n",
    "smm_riv.to_crs(epsg=4326, inplace=True)"
   ]
  },
  {
   "cell_type": "code",
   "execution_count": 39,
   "id": "38dc9622-12a1-447f-bb16-9e95f2f318e0",
   "metadata": {
    "tags": []
   },
   "outputs": [
    {
     "name": "stderr",
     "output_type": "stream",
     "text": [
      "/var/folders/rw/ngg2x10x2s139yr4lchhykz40000gn/T/ipykernel_45717/2058460126.py:2: UserWarning: Column names longer than 10 characters will be truncated when saved to ESRI Shapefile.\n",
      "  smm_riv.to_file('./smm_tgf_modified/smm_riv.shp')\n",
      "/var/folders/rw/ngg2x10x2s139yr4lchhykz40000gn/T/ipykernel_45717/2058460126.py:4: UserWarning: Column names longer than 10 characters will be truncated when saved to ESRI Shapefile.\n",
      "  smm_cat.to_file('./smm_tgf_modified/smm_cat.shp')\n"
     ]
    }
   ],
   "source": [
    "# rivers\n",
    "smm_riv.to_file('./smm_tgf_modified/smm_riv.shp')\n",
    "# subbasins\n",
    "smm_cat.to_file('./smm_tgf_modified/smm_cat.shp')"
   ]
  }
 ],
 "metadata": {
  "kernelspec": {
   "display_name": "jupyter",
   "language": "python",
   "name": "jupyter"
  },
  "language_info": {
   "codemirror_mode": {
    "name": "ipython",
    "version": 3
   },
   "file_extension": ".py",
   "mimetype": "text/x-python",
   "name": "python",
   "nbconvert_exporter": "python",
   "pygments_lexer": "ipython3",
   "version": "3.11.2"
  },
  "toc-autonumbering": true,
  "toc-showtags": false
 },
 "nbformat": 4,
 "nbformat_minor": 5
}
