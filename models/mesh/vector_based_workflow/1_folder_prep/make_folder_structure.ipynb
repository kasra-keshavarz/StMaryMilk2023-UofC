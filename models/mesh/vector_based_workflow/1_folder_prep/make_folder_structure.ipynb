{
 "cells": [
  {
   "attachments": {},
   "cell_type": "markdown",
   "metadata": {},
   "source": [
    "# MESH vector-based workflow: make folder structure\n",
    "This script is adapted from the SUMMA workflow https://github.com/CH-Earth/CWARHM\n",
    "\n",
    "Makes the initial folder structure for a given control file. All other files in the workflow will look for the file `control_active.txt` during their execution. This script:\n",
    "\n",
    "1. Copies the specified control file into `control_active.txt`;\n",
    "2. Prepares a folder structure using the settings in `control_active.txt`.\n",
    "3. Creates a copy of itself to be stored in the new folder structure.\n",
    "\n",
    "The destination folders are referred to as \"domain folders\"."
   ]
  },
  {
   "cell_type": "code",
   "execution_count": 1,
   "metadata": {},
   "outputs": [],
   "source": [
    "# Specify the control file to use\n",
    "sourceFile  = 'control_BowAtBanff.txt'"
   ]
  },
  {
   "cell_type": "markdown",
   "metadata": {},
   "source": [
    "Do not change below this line."
   ]
  },
  {
   "cell_type": "code",
   "execution_count": 2,
   "metadata": {},
   "outputs": [],
   "source": [
    "# Modules\n",
    "import os\n",
    "from pathlib import Path\n",
    "from shutil import copyfile\n",
    "from datetime import datetime"
   ]
  },
  {
   "cell_type": "markdown",
   "metadata": {},
   "source": [
    "#### Copy the control file into `control_active.txt`"
   ]
  },
  {
   "cell_type": "code",
   "execution_count": 3,
   "metadata": {},
   "outputs": [],
   "source": [
    "# Easy access to control file folder\n",
    "controlFolder = Path('../0_control_files')"
   ]
  },
  {
   "cell_type": "code",
   "execution_count": 4,
   "metadata": {},
   "outputs": [],
   "source": [
    "# Store the name of the 'active' file in a variable\n",
    "controlFile = 'control_active.txt'"
   ]
  },
  {
   "cell_type": "code",
   "execution_count": 5,
   "metadata": {},
   "outputs": [],
   "source": [
    "copyfile( controlFolder/sourceFile, controlFolder/controlFile );"
   ]
  },
  {
   "cell_type": "markdown",
   "metadata": {},
   "source": [
    "#### Create the main domain folder"
   ]
  },
  {
   "cell_type": "code",
   "execution_count": 6,
   "metadata": {},
   "outputs": [],
   "source": [
    "# Function to extract a given setting from the control file\n",
    "def read_from_control( file, setting ):\n",
    "    \n",
    "    # Open 'control_active.txt' and ...\n",
    "    with open(file) as contents:\n",
    "        for line in contents:\n",
    "            \n",
    "            # ... find the line with the requested setting\n",
    "            if setting in line and not line.startswith('#'):\n",
    "                break\n",
    "    \n",
    "    # Extract the setting's value\n",
    "    substring = line.split('|',1)[1]      # Remove the setting's name (split into 2 based on '|', keep only 2nd part)\n",
    "    substring = substring.split('#',1)[0] # Remove comments, does nothing if no '#' is found\n",
    "    substring = substring.strip()         # Remove leading and trailing whitespace, tabs, newlines\n",
    "       \n",
    "    # Return this value    \n",
    "    return substring"
   ]
  },
  {
   "cell_type": "code",
   "execution_count": 7,
   "metadata": {},
   "outputs": [],
   "source": [
    "# Find the path where the domain folders need to go\n",
    "# Immediately store as a 'Path' to avoid issues with '/' and '\\' on different operating systems\n",
    "rootPath = Path( read_from_control(controlFolder/controlFile,'root_path') )"
   ]
  },
  {
   "cell_type": "code",
   "execution_count": 8,
   "metadata": {},
   "outputs": [],
   "source": [
    "# Find the domain name\n",
    "domainName = read_from_control(controlFolder/controlFile,'domain_name')"
   ]
  },
  {
   "cell_type": "code",
   "execution_count": 9,
   "metadata": {},
   "outputs": [],
   "source": [
    "# Get the domain folder\n",
    "domainFolder = 'domain_' + domainName\n"
   ]
  },
  {
   "cell_type": "markdown",
   "metadata": {},
   "source": [
    "#### Make the shapefile folders"
   ]
  },
  {
   "cell_type": "code",
   "execution_count": 10,
   "metadata": {},
   "outputs": [],
   "source": [
    "# Find the catchment shapefile folder in 'control_active'\n",
    "networkShapeFolder = read_from_control(controlFolder/controlFile,'river_network_shp_path')\n",
    "riverBasinFolder =  read_from_control(controlFolder/controlFile,'river_basin_shp_path')"
   ]
  },
  {
   "cell_type": "code",
   "execution_count": 11,
   "metadata": {},
   "outputs": [],
   "source": [
    "# Specify the default paths if required\n",
    "if riverBasinFolder == 'default':\n",
    "    riverBasinFolder = 'shapefiles/catchment'\n",
    "if networkShapeFolder == 'default':\n",
    "    networkShapeFolder = 'shapefiles/river_network'"
   ]
  },
  {
   "cell_type": "code",
   "execution_count": 12,
   "metadata": {},
   "outputs": [],
   "source": [
    "# Try to make the shapefile folders; does nothing if the folder already exists\n",
    "Path( rootPath / networkShapeFolder).mkdir(parents=True, exist_ok=True)\n",
    "Path( rootPath / riverBasinFolder ).mkdir(parents=True, exist_ok=True)"
   ]
  },
  {
   "cell_type": "code",
   "execution_count": 13,
   "metadata": {},
   "outputs": [
    {
     "data": {
      "text/plain": [
       "WindowsPath('C:/Users/jnw378/GWF/MESH-Scripts/Model_Workflow/shapefiles/river_network')"
      ]
     },
     "execution_count": 13,
     "metadata": {},
     "output_type": "execute_result"
    }
   ],
   "source": [
    "rootPath / networkShapeFolder"
   ]
  },
  {
   "attachments": {},
   "cell_type": "markdown",
   "metadata": {},
   "source": [
    "#### Make the simulation folders"
   ]
  },
  {
   "cell_type": "code",
   "execution_count": 14,
   "metadata": {},
   "outputs": [],
   "source": [
    "simulationFolder = read_from_control(controlFolder/controlFile,'simulation_path')"
   ]
  },
  {
   "cell_type": "code",
   "execution_count": 15,
   "metadata": {},
   "outputs": [],
   "source": [
    "if simulationFolder == 'default':\n",
    "    simulationFolder = 'simulations'"
   ]
  },
  {
   "cell_type": "code",
   "execution_count": 16,
   "metadata": {},
   "outputs": [],
   "source": [
    "Path( rootPath / 'vector_based_workflow/workflow_data' / domainFolder / simulationFolder ).mkdir(parents=True, exist_ok=True)"
   ]
  },
  {
   "attachments": {},
   "cell_type": "markdown",
   "metadata": {},
   "source": [
    "#### Make the visualization folders"
   ]
  },
  {
   "cell_type": "code",
   "execution_count": 17,
   "metadata": {},
   "outputs": [],
   "source": [
    "visualizationFolder = read_from_control(controlFolder/controlFile,'visualization_folder')"
   ]
  },
  {
   "cell_type": "code",
   "execution_count": 18,
   "metadata": {},
   "outputs": [],
   "source": [
    "if visualizationFolder == 'default':\n",
    "    visualizationFolder = 'visualizations'"
   ]
  },
  {
   "cell_type": "code",
   "execution_count": 19,
   "metadata": {},
   "outputs": [],
   "source": [
    "Path( rootPath / 'vector_based_workflow/workflow_data' / domainFolder / visualizationFolder ).mkdir(parents=True, exist_ok=True)"
   ]
  },
  {
   "attachments": {},
   "cell_type": "markdown",
   "metadata": {},
   "source": [
    "#### Make the forcing folder"
   ]
  },
  {
   "cell_type": "code",
   "execution_count": 20,
   "metadata": {},
   "outputs": [],
   "source": [
    "forcingFolder = read_from_control(controlFolder/controlFile,'source_nc_path')"
   ]
  },
  {
   "cell_type": "code",
   "execution_count": 21,
   "metadata": {},
   "outputs": [],
   "source": [
    "if forcingFolder == 'default':\n",
    "    forcingFolder = 'forcing'"
   ]
  },
  {
   "cell_type": "code",
   "execution_count": 22,
   "metadata": {},
   "outputs": [],
   "source": [
    "Path( rootPath / forcingFolder ).mkdir(parents=True, exist_ok=True)"
   ]
  },
  {
   "attachments": {},
   "cell_type": "markdown",
   "metadata": {},
   "source": [
    "#### Make the installs folder"
   ]
  },
  {
   "cell_type": "code",
   "execution_count": 23,
   "metadata": {},
   "outputs": [],
   "source": [
    "installsFolder = read_from_control(controlFolder/controlFile,'install_path_MESH')"
   ]
  },
  {
   "cell_type": "code",
   "execution_count": 24,
   "metadata": {},
   "outputs": [],
   "source": [
    "if installsFolder == 'default':\n",
    "    installsFolder = 'installs'"
   ]
  },
  {
   "cell_type": "code",
   "execution_count": 25,
   "metadata": {},
   "outputs": [],
   "source": [
    "Path( rootPath / installsFolder ).mkdir(parents=True, exist_ok=True)"
   ]
  },
  {
   "attachments": {},
   "cell_type": "markdown",
   "metadata": {},
   "source": [
    "#### Make the parameter folders"
   ]
  },
  {
   "cell_type": "code",
   "execution_count": 26,
   "metadata": {},
   "outputs": [],
   "source": [
    "drainageDatabaseFolder  = read_from_control(controlFolder/controlFile,'DDB_output_dir')\n",
    "networkTopologyFolder   = read_from_control(controlFolder/controlFile,'settings_routing_path')\n",
    "zonalStatisticsFolder   = read_from_control(controlFolder/controlFile,'input_lc_zh_path')"
   ]
  },
  {
   "cell_type": "code",
   "execution_count": 27,
   "metadata": {},
   "outputs": [],
   "source": [
    "if drainageDatabaseFolder   == 'default':\n",
    "    drainageDatabaseFolder = 'drainagedatabase'\n",
    "if networkTopologyFolder    == 'default':\n",
    "    networkTopologyFolder   = 'topology'\n",
    "if zonalStatisticsFolder    == 'default':\n",
    "    zonalStatisticsFolder   = 'zonalhist'"
   ]
  },
  {
   "cell_type": "code",
   "execution_count": 28,
   "metadata": {},
   "outputs": [],
   "source": [
    "Path( rootPath / 'vector_based_workflow/workflow_data' / domainFolder / drainageDatabaseFolder  ).mkdir(parents=True, exist_ok=True)\n",
    "Path( rootPath / 'vector_based_workflow/workflow_data' / domainFolder / networkTopologyFolder   ).mkdir(parents=True, exist_ok=True)\n",
    "Path( rootPath / 'vector_based_workflow/workflow_data' / domainFolder / zonalStatisticsFolder   ).mkdir(parents=True, exist_ok=True)"
   ]
  },
  {
   "cell_type": "markdown",
   "metadata": {},
   "source": [
    "#### Code provenance\n",
    "Generates a basic log file in the domain folder and copies the control file and itself there."
   ]
  },
  {
   "cell_type": "code",
   "execution_count": 29,
   "metadata": {},
   "outputs": [],
   "source": [
    "# Create a log folder\n",
    "logFolder = '_workflow_log'\n",
    "Path( rootPath / 'vector_based_workflow/workflow_data' / domainFolder / logFolder ).mkdir(parents=True, exist_ok=True)"
   ]
  },
  {
   "cell_type": "code",
   "execution_count": 30,
   "metadata": {},
   "outputs": [],
   "source": [
    "# Create a log folder\n",
    "logFolder = '_workflow_log'\n",
    "Path( rootPath / 'vector_based_workflow/workflow_data' / domainFolder / logFolder ).mkdir(parents=True, exist_ok=True)"
   ]
  },
  {
   "cell_type": "code",
   "execution_count": 31,
   "metadata": {},
   "outputs": [],
   "source": [
    "# Copy this script\n",
    "thisFile = 'make_folder_structure.ipynb'\n",
    "copyfile(thisFile, rootPath / 'vector_based_workflow/workflow_data' / domainFolder / logFolder / thisFile);"
   ]
  },
  {
   "cell_type": "code",
   "execution_count": 32,
   "metadata": {},
   "outputs": [],
   "source": [
    "# Get current date and time\n",
    "now = datetime.now()"
   ]
  },
  {
   "cell_type": "code",
   "execution_count": 33,
   "metadata": {},
   "outputs": [],
   "source": [
    "# Create a log file \n",
    "logFile = now.strftime('%Y%m%d') + '_log.txt'\n",
    "with open(rootPath / 'vector_based_workflow/workflow_data' / domainFolder / logFolder / logFile, 'w') as file:\n",
    "    \n",
    "    lines = ['Log generated by ' + thisFile + ' on ' + now.strftime('%Y/%m/%d %H:%M:%S') + '\\n',\n",
    "             'Generated folder structure using ' + sourceFile]\n",
    "    for txt in lines:\n",
    "        file.write(txt)    "
   ]
  },
  {
   "cell_type": "code",
   "execution_count": null,
   "metadata": {},
   "outputs": [],
   "source": []
  }
 ],
 "metadata": {
  "kernelspec": {
   "display_name": "Easymore",
   "language": "python",
   "name": "python3"
  },
  "language_info": {
   "codemirror_mode": {
    "name": "ipython",
    "version": 3
   },
   "file_extension": ".py",
   "mimetype": "text/x-python",
   "name": "python",
   "nbconvert_exporter": "python",
   "pygments_lexer": "ipython3",
   "version": "3.9.13"
  },
  "vscode": {
   "interpreter": {
    "hash": "d9040f0c7dac450993624bf71c867f85c56d04cf27b37d45a083321dcd6d7a2f"
   }
  }
 },
 "nbformat": 4,
 "nbformat_minor": 4
}
