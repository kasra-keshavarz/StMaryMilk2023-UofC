{
 "cells": [
  {
   "cell_type": "markdown",
   "metadata": {},
   "source": [
    "# Create Network Topology"
   ]
  },
  {
   "cell_type": "markdown",
   "metadata": {},
   "source": [
    "The network topology file will contain geophysical parameters such as unique indices of stream segments, routing parameters – such as channel length, slope, and basin area – and other required information from the catchment and river network shapefiles for the domain of interest."
   ]
  },
  {
   "cell_type": "markdown",
   "metadata": {},
   "source": [
    "### Load Modules"
   ]
  },
  {
   "cell_type": "code",
   "execution_count": 1,
   "metadata": {},
   "outputs": [],
   "source": [
    "import os\n",
    "import pandas as pd\n",
    "import netCDF4 as nc4\n",
    "import geopandas as gpd\n",
    "import numpy as np\n",
    "import xarray as xs\n",
    "from   pathlib import Path\n",
    "from   shutil import copyfile\n",
    "from   datetime import datetime\n",
    "import warnings"
   ]
  },
  {
   "cell_type": "markdown",
   "metadata": {},
   "source": [
    "### Control File Handling\n",
    "The purpose of the control file is to provide all inputs to the scripts in the vector-based workflow to eliminate the need to alter the workflow scripts themselves. The following cells will retrieve settings from 'control_active.txt' and provide them as inputs to this script."
   ]
  },
  {
   "cell_type": "markdown",
   "metadata": {},
   "source": [
    "##### Access to the control file folder"
   ]
  },
  {
   "cell_type": "code",
   "execution_count": 2,
   "metadata": {},
   "outputs": [],
   "source": [
    "controlFolder = Path('../0_control_files')"
   ]
  },
  {
   "cell_type": "markdown",
   "metadata": {},
   "source": [
    "##### Store the name of the 'active' file in a variable"
   ]
  },
  {
   "cell_type": "code",
   "execution_count": 3,
   "metadata": {},
   "outputs": [],
   "source": [
    "controlFile = 'control_active.txt'"
   ]
  },
  {
   "cell_type": "markdown",
   "metadata": {},
   "source": [
    "##### Function to extract a given setting from the control file"
   ]
  },
  {
   "cell_type": "code",
   "execution_count": 4,
   "metadata": {},
   "outputs": [],
   "source": [
    "def read_from_control( file, setting ):\n",
    "     \n",
    "    # Open 'control_active.txt' and ...\n",
    "    with open(file) as contents:\n",
    "        for line in contents:\n",
    "             \n",
    "            # ... find the line with the requested setting\n",
    "            if setting in line and not line.startswith('#'):\n",
    "                break\n",
    "     \n",
    "    # Extract the setting's value\n",
    "    substring = line.split('|',1)[1]      # Remove the setting's name (split into 2 based on '|', keep only 2nd part)\n",
    "    substring = substring.split('#',1)[0] # Remove comments, does nothing if no '#' is found\n",
    "    substring = substring.strip()         # Remove leading and trailing whitespace, tabs, newlines\n",
    "        \n",
    "    # Return this value   \n",
    "    return substring"
   ]
  },
  {
   "cell_type": "markdown",
   "metadata": {},
   "source": [
    "##### Function to specify a default path"
   ]
  },
  {
   "cell_type": "code",
   "execution_count": 5,
   "metadata": {},
   "outputs": [],
   "source": [
    "def make_default_path(suffix):\n",
    "     \n",
    "    # Get the root path\n",
    "    rootPath = Path( read_from_control(controlFolder/controlFile,'root_path') )\n",
    "     \n",
    "    # Specify the forcing path\n",
    "    #defaultPath = rootPath / domainFolder / suffix\n",
    "    defaultPath = rootPath / suffix \n",
    "    return defaultPath"
   ]
  },
  {
   "cell_type": "markdown",
   "metadata": {},
   "source": [
    "##### Get the domain folder"
   ]
  },
  {
   "cell_type": "code",
   "execution_count": 6,
   "metadata": {},
   "outputs": [],
   "source": [
    "domain_name = read_from_control(controlFolder/controlFile,'domain_name')\n",
    "domainFolder = 'domain_' + domain_name"
   ]
  },
  {
   "cell_type": "markdown",
   "metadata": {},
   "source": [
    "##### Find location of river network shapefile"
   ]
  },
  {
   "cell_type": "code",
   "execution_count": 7,
   "metadata": {},
   "outputs": [],
   "source": [
    "river_network_path = read_from_control(controlFolder/controlFile,'river_network_shp_path')\n",
    "river_network_name = read_from_control(controlFolder/controlFile,'river_network_shp_name')\n",
    " \n",
    "# Specify default path if needed\n",
    "if river_network_path == 'default':\n",
    "    river_network_path = make_default_path('shapefiles/river_network/') # outputs a Path()\n",
    "else:\n",
    "    river_network_path = Path(river_network_path) # make sure a user-specified path is a Path()"
   ]
  },
  {
   "cell_type": "markdown",
   "metadata": {},
   "source": [
    "##### Find location of river basin shapefile"
   ]
  },
  {
   "cell_type": "code",
   "execution_count": 8,
   "metadata": {},
   "outputs": [],
   "source": [
    "river_basin_path = read_from_control(controlFolder/controlFile,'river_basin_shp_path')\n",
    "river_basin_name = read_from_control(controlFolder/controlFile,'river_basin_shp_name')\n",
    " \n",
    "#Specify default path if needed\n",
    "if river_basin_path == 'default':\n",
    "    river_basin_path = make_default_path('shapefiles/catchment/') # outputs a Path()\n",
    "else:\n",
    "    river_basin_path = Path(river_basin_path) # make sure a user-specified path is a Path()"
   ]
  },
  {
   "cell_type": "markdown",
   "metadata": {},
   "source": [
    "##### Find where the topology file needs to go"
   ]
  },
  {
   "cell_type": "code",
   "execution_count": 9,
   "metadata": {},
   "outputs": [],
   "source": [
    "topology_path = read_from_control(controlFolder/controlFile,'settings_routing_path')\n",
    "topology_name = read_from_control(controlFolder/controlFile,'settings_routing_topology')\n",
    " \n",
    "#Specify default path if needed\n",
    "if topology_path == 'default':\n",
    "    topology_path = make_default_path('vector_based_workflow/workflow_data/domain_'+domain_name+'/topology/') # outputs a Path()\n",
    "else:\n",
    "    topology_path = Path(topology_path) # make sure a user-specified path is a Path()\n",
    "\n",
    "# Make the folder if it doesn't exist\n",
    "topology_path.mkdir(parents=True, exist_ok=True)"
   ]
  },
  {
   "cell_type": "markdown",
   "metadata": {},
   "source": [
    "##### Find the field names we're after"
   ]
  },
  {
   "cell_type": "code",
   "execution_count": 10,
   "metadata": {},
   "outputs": [
    {
     "name": "stdout",
     "output_type": "stream",
     "text": [
      "The ID of the most downstream segment was not found\n"
     ]
    }
   ],
   "source": [
    "basin_hru_id     = read_from_control(controlFolder/controlFile,'river_basin_shp_rm_hruid')\n",
    "basin_hru_area   = read_from_control(controlFolder/controlFile,'river_basin_shp_area')\n",
    "basin_hru_to_seg = read_from_control(controlFolder/controlFile,'river_basin_shp_hru_to_seg')\n",
    "river_seg_id      = read_from_control(controlFolder/controlFile,'river_network_shp_segid')\n",
    "river_down_seg_id = read_from_control(controlFolder/controlFile,'river_network_shp_downsegid')\n",
    "river_slope       = read_from_control(controlFolder/controlFile,'river_network_shp_slope')\n",
    "river_length      = read_from_control(controlFolder/controlFile,'river_network_shp_length')\n",
    "include_IAK       = read_from_control(controlFolder/controlFile,'include_IAK')\n",
    "river_order       = read_from_control(controlFolder/controlFile,'river_order')\n",
    "\n",
    "# Added by MESH workflow\n",
    "try:\n",
    "    river_outlet_id   = float(read_from_control(controlFolder/controlFile,'river_network_shp_outlet_id'))\n",
    "except ValueError:\n",
    "    print ('The ID of the most downstream segment was not found')\n",
    "    river_outlet_id = []"
   ]
  },
  {
   "cell_type": "markdown",
   "metadata": {},
   "source": [
    "### Make the river network topology file"
   ]
  },
  {
   "cell_type": "markdown",
   "metadata": {},
   "source": [
    "##### Open the shapefile"
   ]
  },
  {
   "cell_type": "code",
   "execution_count": 11,
   "metadata": {},
   "outputs": [],
   "source": [
    "shp_river = gpd.read_file(river_network_path/river_network_name)\n",
    "shp_basin = gpd.read_file(river_basin_path/river_basin_name)"
   ]
  },
  {
   "cell_type": "markdown",
   "metadata": {},
   "source": [
    "##### Sort basin to be consistent with river\n",
    "###### *Added by MESH workflow*"
   ]
  },
  {
   "cell_type": "code",
   "execution_count": 12,
   "metadata": {},
   "outputs": [],
   "source": [
    "shp_basin = shp_basin.sort_values(by=basin_hru_id)"
   ]
  },
  {
   "cell_type": "markdown",
   "metadata": {},
   "source": [
    "##### Convert area to m<sup>2</sup>\n",
    "###### *Note: if area unit is already based on m<sup>2</sup>, it is not requried to covert m<sup>2</sup>*"
   ]
  },
  {
   "cell_type": "code",
   "execution_count": 13,
   "metadata": {},
   "outputs": [],
   "source": [
    "# shp_basin[basin_hru_area].values[:] = shp_basin[basin_hru_area].values[:]*10**6"
   ]
  },
  {
   "cell_type": "markdown",
   "metadata": {},
   "source": [
    "##### Covert river_length to m\n",
    "###### *Note: if length unit is already based on m, it is not requried to covert m*"
   ]
  },
  {
   "cell_type": "code",
   "execution_count": 14,
   "metadata": {},
   "outputs": [],
   "source": [
    "# shp_river[river_length].values[:]   = shp_river[river_length].values[:]*1000"
   ]
  },
  {
   "cell_type": "markdown",
   "metadata": {},
   "source": [
    "##### Adding centroid of each subbasin\n",
    "###### *Note: Use equal area projection for more accuracy*"
   ]
  },
  {
   "cell_type": "code",
   "execution_count": 15,
   "metadata": {
    "tags": []
   },
   "outputs": [],
   "source": [
    "warnings.simplefilter('ignore') # silent the warning\n",
    "shp_basin['lon'] = shp_basin.centroid.x\n",
    "shp_basin['lat'] = shp_basin.centroid.y\n",
    "warnings.simplefilter('default') # back to normal"
   ]
  },
  {
   "cell_type": "markdown",
   "metadata": {},
   "source": [
    "##### Specifying other variables\n",
    "###### *Note: the river width and manning is optional. The manning coefficient is specified in the MESH hydrology configuration file*"
   ]
  },
  {
   "cell_type": "code",
   "execution_count": 16,
   "metadata": {},
   "outputs": [],
   "source": [
    "shp_river['width']   = 50\n",
    "shp_river['manning'] = 0.03"
   ]
  },
  {
   "cell_type": "markdown",
   "metadata": {},
   "source": [
    "##### Find the number of segments and subbasins"
   ]
  },
  {
   "cell_type": "code",
   "execution_count": 17,
   "metadata": {},
   "outputs": [],
   "source": [
    "num_seg = len(shp_river)\n",
    "num_hru = len(shp_basin)"
   ]
  },
  {
   "cell_type": "markdown",
   "metadata": {},
   "source": [
    "##### Ensure the most downstream segment in the river network has a downstream_ID of 0\n",
    "This indicates to routing that this segment has no downstream segment attached to it\n",
    "###### *Modified by MESH workflow*"
   ]
  },
  {
   "cell_type": "code",
   "execution_count": 18,
   "metadata": {},
   "outputs": [],
   "source": [
    "if (np.size(river_outlet_id)!= 0):\n",
    "    shp_river.loc[shp_river[river_seg_id] == river_outlet_id, river_down_seg_id] = 0"
   ]
  },
  {
   "cell_type": "markdown",
   "metadata": {},
   "source": [
    "##### Function to create new nc variables"
   ]
  },
  {
   "cell_type": "code",
   "execution_count": 19,
   "metadata": {},
   "outputs": [],
   "source": [
    "def create_and_fill_nc_var(ncid, var_name, var_type, dim, fill_val, fill_data, long_name, units):\n",
    "     \n",
    "    # Make the variable\n",
    "    ncvar = ncid.createVariable(var_name, var_type, (dim,), fill_val)\n",
    "     \n",
    "    # Add the data\n",
    "    ncvar[:] = fill_data   \n",
    "     \n",
    "    # Add meta data\n",
    "    ncvar.long_name = long_name\n",
    "    ncvar.unit = units\n",
    "     \n",
    "    return"
   ]
  },
  {
   "cell_type": "markdown",
   "metadata": {},
   "source": [
    "### Taking care of Non-contributing areas"
   ]
  },
  {
   "cell_type": "code",
   "execution_count": 20,
   "metadata": {},
   "outputs": [],
   "source": [
    "# finding basins without a river network - Non-contributing areas\n",
    "missing_seg = shp_basin[~shp_basin[river_seg_id].isin(shp_river[river_seg_id])]\n",
    "missing_ids = missing_seg[basin_hru_id]\n",
    "last_seg_id = shp_river[river_seg_id].astype(int).max()"
   ]
  },
  {
   "cell_type": "code",
   "execution_count": 21,
   "metadata": {},
   "outputs": [],
   "source": [
    "# assinging fictitious ids to river segements of NCA basins in the `shp_basin`\n",
    "missing_seg_ids = range(last_seg_id + 1, last_seg_id + len(missing_ids) + 1)\n",
    "shp_basin.loc[shp_basin[basin_hru_id].isin(missing_ids), river_seg_id] = missing_seg_ids"
   ]
  },
  {
   "cell_type": "code",
   "execution_count": 22,
   "metadata": {},
   "outputs": [],
   "source": [
    "# creating fictitious ids for river segments of the NCA basins in the `shp_river`\n",
    "cols = shp_river.columns.to_list()\n",
    "fict_seg = pd.DataFrame(data=[[0]*len(cols)]*len(missing_ids), columns=cols)\n",
    "fict_seg[river_seg_id] = missing_seg_ids\n",
    "shp_river = gpd.GeoDataFrame(pd.concat([shp_river, fict_seg]))"
   ]
  },
  {
   "cell_type": "code",
   "execution_count": 23,
   "metadata": {},
   "outputs": [],
   "source": [
    "# update num_seg\n",
    "num_seg = len(shp_river[river_seg_id])"
   ]
  },
  {
   "cell_type": "markdown",
   "metadata": {},
   "source": [
    "### Make the netcdf file"
   ]
  },
  {
   "cell_type": "code",
   "execution_count": 26,
   "metadata": {},
   "outputs": [],
   "source": [
    "with nc4.Dataset(topology_path/topology_name, 'w', format='NETCDF4') as ncid:\n",
    "     \n",
    "    # Set general attributes\n",
    "    now = datetime.now()\n",
    "    ncid.setncattr('Author', \"Created by MESH vector-based workflow scripts\")\n",
    "    ncid.setncattr('History','Created ' + now.strftime('%Y/%m/%d %H:%M:%S'))\n",
    "    ncid.setncattr('Purpose','Create a river network .nc file for WATROUTE routing')\n",
    "     \n",
    "    # Define the seg and hru dimensions\n",
    "    # it can be renamed to 'subbasin'\n",
    "    # Modified by MESH workflow\n",
    "    ncid.createDimension('n', num_seg)\n",
    "    # ncid.createDimension('hru', num_hru)\n",
    "    # finished edit by MESH workflow\n",
    " \n",
    "    # --- Variables\n",
    "    # renaming variable and adding lat, lon, manning and width\n",
    "    # Modified by MESH workflow                       \n",
    "    create_and_fill_nc_var(ncid, 'seg_id', 'int', 'n', False, \\\n",
    "                           np.ndarray.round(shp_river[river_seg_id].values.astype(int)), \\\n",
    "                           'Unique ID of each stream segment', '-')                       \n",
    "    # Modified by MESH workflow \n",
    "    create_and_fill_nc_var(ncid, 'tosegment', 'int', 'n', False, \\\n",
    "                           np.ndarray.round(shp_river[river_down_seg_id].values.astype(int)), \\\n",
    "                           'ID of the downstream segment', '-')\n",
    "    create_and_fill_nc_var(ncid, 'slope', 'f8', 'n', False, \\\n",
    "                           shp_river[river_slope].values.astype(float), \\\n",
    "                           'Segment slope', '-')  \n",
    "    # added by MESH workflow\n",
    "    create_and_fill_nc_var(ncid, 'lon', 'f8', 'n', False, \\\n",
    "                           shp_basin['lon'].values.astype(float), \\\n",
    "                           'longitude', '-')     \n",
    "    create_and_fill_nc_var(ncid, 'lat', 'f8', 'n', False, \\\n",
    "                           shp_basin['lat'].values.astype(float), \\\n",
    "                           'latitude', '-')\n",
    "    # finished edit by MESH workflow  \n",
    "    create_and_fill_nc_var(ncid, 'length', 'f8', 'n', False, \\\n",
    "                           shp_river[river_length].values.astype(float), \\\n",
    "                           'Segment length', 'm')\n",
    "    create_and_fill_nc_var(ncid, 'hruid', 'int', 'n', False, \\\n",
    "                           shp_basin[basin_hru_id].values.astype(int), \\\n",
    "                           'Unique hru ID', '-')\n",
    "    create_and_fill_nc_var(ncid, 'seg_hr_id', 'int', 'n', False, \\\n",
    "                           shp_basin[basin_hru_to_seg].values.astype(int), \\\n",
    "                           'ID of the stream segment to which the HRU discharges', '-')\n",
    "    create_and_fill_nc_var(ncid, 'basin_area', 'f8', 'n', False, \\\n",
    "                           shp_basin[basin_hru_area].values.astype(float), \\\n",
    "                           'HRU area', 'm^2')   \n",
    "    # added by MESH workflow\n",
    "    create_and_fill_nc_var(ncid, 'width', 'f8', 'n', False, \\\n",
    "                           shp_river['width'].values.astype(float), \\\n",
    "                           'width', 'm')                      \n",
    "    create_and_fill_nc_var(ncid, 'manning', 'f8', 'n', False, \\\n",
    "                           shp_river['manning'].values.astype(float), \\\n",
    "                           'manning', '-')\n",
    "    if include_IAK == 'True':\n",
    "        create_and_fill_nc_var(ncid, 'IAK', 'int', 'n', False, \\\n",
    "                            shp_river[river_order].values.astype(int), \\\n",
    "                            'River Order', '-')\n",
    "    # finished edit by MESH workflow"
   ]
  },
  {
   "cell_type": "markdown",
   "metadata": {},
   "source": [
    "### Code provenance\n",
    "Generates a basic log file in the domain folder and copies the control file and itself there.\n"
   ]
  },
  {
   "cell_type": "code",
   "execution_count": null,
   "metadata": {},
   "outputs": [],
   "source": [
    "# Set the log path and file name\n",
    "logPath = topology_path\n",
    "log_suffix = '_make_river_network_topology.txt'\n",
    " \n",
    "# Create a log folder\n",
    "logFolder = '_workflow_log'\n",
    "Path( logPath / logFolder ).mkdir(parents=True, exist_ok=True)\n",
    " \n",
    "# Copy this script\n",
    "thisFile = 'create_network_topology.ipynb'\n",
    "copyfile(thisFile, logPath / logFolder / thisFile);\n",
    " \n",
    "# Get current date and time\n",
    "now = datetime.now()\n",
    " \n",
    "# Create a log file\n",
    "logFile = now.strftime('%Y%m%d') + log_suffix\n",
    "with open( logPath / logFolder / logFile, 'w') as file:\n",
    "     \n",
    "    lines = ['Log generated by ' + thisFile + ' on ' + now.strftime('%Y/%m/%d %H:%M:%S') + '\\n',\n",
    "             'Generated network topology .nc file.']\n",
    "    for txt in lines:\n",
    "        file.write(txt)"
   ]
  }
 ],
 "metadata": {
  "kernelspec": {
   "display_name": "MESH Workflow Kernel",
   "language": "python",
   "name": "mesh-workflow"
  },
  "language_info": {
   "codemirror_mode": {
    "name": "ipython",
    "version": 3
   },
   "file_extension": ".py",
   "mimetype": "text/x-python",
   "name": "python",
   "nbconvert_exporter": "python",
   "pygments_lexer": "ipython3",
   "version": "3.8.10"
  },
  "vscode": {
   "interpreter": {
    "hash": "d9040f0c7dac450993624bf71c867f85c56d04cf27b37d45a083321dcd6d7a2f"
   }
  }
 },
 "nbformat": 4,
 "nbformat_minor": 4
}
