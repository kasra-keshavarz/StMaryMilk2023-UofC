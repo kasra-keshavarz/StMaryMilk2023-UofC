{
 "cells": [
  {
   "cell_type": "markdown",
   "metadata": {},
   "source": [
    "# EASYMORE Basin Subset\n",
    "EASYMORE: EArth SYstem MOdeling REmapper is a collection of functions that allows extraction of the data from a NetCDF file for a given shapefile such as a basin, catchment, points or lines. It can map gridded data or model output to any given shapefile and provide area average for a target variable.\n",
    "https://github.com/ShervanGharari/EASYMORE\n",
    "\n",
    "## Climate Forcing Remapping\n",
    "This script will map the gridded forcing data, specified in control_active.txt to the subasins contained within the basin shapefile used to produce the drainage database."
   ]
  },
  {
   "cell_type": "markdown",
   "metadata": {},
   "source": [
    "### Loading Modules"
   ]
  },
  {
   "cell_type": "code",
   "execution_count": null,
   "metadata": {},
   "outputs": [],
   "source": [
    "from easymore.easymore import easymore\n",
    "from pathlib import Path\n",
    "from shutil import copyfile\n",
    "from datetime import datetime"
   ]
  },
  {
   "cell_type": "markdown",
   "metadata": {},
   "source": [
    "### Control File Handling\n",
    "The purpose of the control file is to provide all inputs to the scripts in the vector-based workflow to eliminate the need to alter the workflow scripts themselves. The following cells will retrieve settings from 'control_active.txt' and provide them as inputs to this script."
   ]
  },
  {
   "cell_type": "markdown",
   "metadata": {},
   "source": [
    "##### Access to the control file folder"
   ]
  },
  {
   "cell_type": "code",
   "execution_count": null,
   "metadata": {},
   "outputs": [],
   "source": [
    "controlFolder = Path('../0_control_files')"
   ]
  },
  {
   "cell_type": "markdown",
   "metadata": {},
   "source": [
    "##### Store the name of the 'active' file in a variable"
   ]
  },
  {
   "cell_type": "code",
   "execution_count": null,
   "metadata": {},
   "outputs": [],
   "source": [
    "controlFile = 'control_active.txt'"
   ]
  },
  {
   "cell_type": "markdown",
   "metadata": {},
   "source": [
    "##### Function to extract a given setting from the control file"
   ]
  },
  {
   "cell_type": "code",
   "execution_count": null,
   "metadata": {},
   "outputs": [],
   "source": [
    "def read_from_control( file, setting ):\n",
    "     \n",
    "    # Open 'control_active.txt' and ...\n",
    "    with open(file) as contents:\n",
    "        for line in contents:\n",
    "             \n",
    "            # ... find the line with the requested setting\n",
    "            if setting in line and not line.startswith('#'):\n",
    "                break\n",
    "     \n",
    "    # Extract the setting's value\n",
    "    substring = line.split('|',1)[1]      # Remove the setting's name (split into 2 based on '|', keep only 2nd part)\n",
    "    substring = substring.split('#',1)[0] # Remove comments, does nothing if no '#' is found\n",
    "    substring = substring.strip()         # Remove leading and trailing whitespace, tabs, newlines\n",
    "        \n",
    "    # Return this value   \n",
    "    return substring"
   ]
  },
  {
   "cell_type": "markdown",
   "metadata": {},
   "source": [
    "##### Function to specify a default path"
   ]
  },
  {
   "cell_type": "code",
   "execution_count": null,
   "metadata": {},
   "outputs": [],
   "source": [
    "def make_default_path(suffix):\n",
    "     \n",
    "    # Get the root path\n",
    "    rootPath = Path( read_from_control(controlFolder/controlFile,'root_path') )\n",
    "     \n",
    "    # Specify the forcing path\n",
    "    #defaultPath = rootPath / domainFolder / suffix\n",
    "    defaultPath = rootPath / suffix \n",
    "    return defaultPath"
   ]
  },
  {
   "cell_type": "markdown",
   "metadata": {},
   "source": [
    "##### Get the domain folder"
   ]
  },
  {
   "cell_type": "code",
   "execution_count": null,
   "metadata": {},
   "outputs": [],
   "source": [
    "domain_name = read_from_control(controlFolder/controlFile,'domain_name')\n",
    "domainFolder = 'domain_' + domain_name"
   ]
  },
  {
   "cell_type": "markdown",
   "metadata": {},
   "source": [
    "##### Get the target shapefile"
   ]
  },
  {
   "cell_type": "code",
   "execution_count": null,
   "metadata": {},
   "outputs": [],
   "source": [
    "target_shp_path = read_from_control(controlFolder/controlFile,'river_basin_shp_path')\n",
    "# Specify default path if needed\n",
    "if target_shp_path == 'default':\n",
    "    target_shp_path = make_default_path('shapefiles/catchment/') # outputs a Path()\n",
    "else:\n",
    "    target_shp_path = Path(target_shp_path) # make sure a user-specified path is a Path()\n",
    "target_shp_name = read_from_control(controlFolder/controlFile,'river_basin_shp_name')\n",
    "target_shp      = target_shp_path / target_shp_name\n",
    "target_shp_ID   = read_from_control(controlFolder/controlFile,'river_basin_shp_rm_hruid')"
   ]
  },
  {
   "cell_type": "markdown",
   "metadata": {},
   "source": [
    "##### Get the source forcing file"
   ]
  },
  {
   "cell_type": "code",
   "execution_count": null,
   "metadata": {},
   "outputs": [],
   "source": [
    "source_nc_path  = read_from_control(controlFolder/controlFile,'source_nc_path')\n",
    "# Specify default path if needed\n",
    "if source_nc_path == 'default':\n",
    "    source_nc_path = make_default_path('forcing') # outputs a Path()\n",
    "else:\n",
    "    source_nc_path = Path(source_nc_path) # make sure a user-specified path is a Path()\n",
    "source_nc_name  = read_from_control(controlFolder/controlFile,'source_nc_name')\n",
    "source_nc     = str(source_nc_path / source_nc_name)"
   ]
  },
  {
   "cell_type": "markdown",
   "metadata": {},
   "source": [
    "##### Get the output location"
   ]
  },
  {
   "cell_type": "code",
   "execution_count": null,
   "metadata": {},
   "outputs": [],
   "source": [
    "outdir = read_from_control(controlFolder/controlFile,'remapping_out')\n",
    "if outdir == 'default':\n",
    "    outdir = str(make_default_path('forcing/'))+'/' # outputs a Path()\n",
    "else:\n",
    "    outdir = outdir # make sure a user-specified path is a Path()"
   ]
  },
  {
   "cell_type": "markdown",
   "metadata": {},
   "source": [
    "##### Get the list of variable names"
   ]
  },
  {
   "cell_type": "code",
   "execution_count": null,
   "metadata": {},
   "outputs": [],
   "source": [
    "var_names       = read_from_control(controlFolder/controlFile,'var_names').split(', ')"
   ]
  },
  {
   "cell_type": "markdown",
   "metadata": {},
   "source": [
    "##### Get the forcing dataset name"
   ]
  },
  {
   "cell_type": "code",
   "execution_count": null,
   "metadata": {},
   "outputs": [],
   "source": [
    "forcing_dataset = read_from_control(controlFolder/controlFile,'forcing_dataset')"
   ]
  },
  {
   "cell_type": "markdown",
   "metadata": {},
   "source": [
    "### Starting EASYMORE"
   ]
  },
  {
   "cell_type": "markdown",
   "metadata": {},
   "source": [
    "##### Initializing EASYMORE object"
   ]
  },
  {
   "cell_type": "code",
   "execution_count": null,
   "metadata": {},
   "outputs": [],
   "source": [
    "esmr = easymore()"
   ]
  },
  {
   "cell_type": "markdown",
   "metadata": {},
   "source": [
    "##### Specifying EASYMORE objects"
   ]
  },
  {
   "cell_type": "code",
   "execution_count": null,
   "metadata": {},
   "outputs": [],
   "source": [
    "# name of the case; the temporary, remapping and remapped file names include case name\n",
    "esmr.case_name                = '{}_{}'.format(forcing_dataset,domain_name)\n",
    "# temporary path that the EASYMORE generated GIS files and remapped file will be saved\n",
    "esmr.temp_dir                 = '{}/temporary{}/'.format(source_nc_path,domain_name)\n",
    "# name of target shapefile that the source netcdf files should be remapped to\n",
    "esmr.target_shp               = target_shp\n",
    "esmr.target_shp_ID            = target_shp_ID\n",
    "# name of netCDF file(s); multiple files can be specified with *\n",
    "esmr.source_nc                = source_nc \n",
    "# name of variables from source netCDF file(s) to be remapped\n",
    "esmr.var_names                = var_names\n",
    "# rename the variables from source netCDF file(s) in the remapped files;\n",
    "# it will be the same as source if not provided\n",
    "#esmr.var_names_remapped       = ['RDRS']\n",
    "# name of variable longitude in source netCDF files\n",
    "esmr.var_lon                  =  read_from_control(controlFolder/controlFile,'var_lon')\n",
    "# name of variable latitude in source netCDF files\n",
    "esmr.var_lat                  = read_from_control(controlFolder/controlFile,'var_lat')\n",
    "# name of variable time in source netCDF file; should be always time\n",
    "esmr.var_time                 = read_from_control(controlFolder/controlFile,'var_time')\n",
    "# location where the remapped netCDF file will be saved\n",
    "esmr.output_dir               = outdir\n",
    "# format of the variables to be saved in remapped files,\n",
    "# if one format provided it will be expanded to other variables\n",
    "esmr.format_list              = read_from_control(controlFolder/controlFile,'format_list').split(', ')\n",
    "# fill values of the variables to be saved in remapped files,\n",
    "# if one value provided it will be expanded to other variables\n",
    "esmr.fill_value_list          = read_from_control(controlFolder/controlFile,'fill_value_list').split(', ')\n",
    "# if set to True only first file will be check for variables and dimensions and not the all the files\n",
    "esmr.skip_check_all_source_nc = True\n",
    "\n",
    "\n",
    "# if required that the remapped values to be saved as csv as well\n",
    "#esmr.save_csv                 = True\n",
    "#esmr.complevel                 =  9\n",
    "# if uncommented EASYMORE will use this and skip GIS tasks\n",
    "#esmr.remap_csv                = 'temporary78/subbasin_select/RDRS_78_remapping.csv' # RDRS_81_remapping.csv\n"
   ]
  },
  {
   "cell_type": "markdown",
   "metadata": {},
   "source": [
    "### Execute EASYMORE"
   ]
  },
  {
   "cell_type": "code",
   "execution_count": null,
   "metadata": {},
   "outputs": [],
   "source": [
    "esmr.nc_remapper()"
   ]
  },
  {
   "cell_type": "markdown",
   "metadata": {},
   "source": [
    "### Code provenance\n",
    "Generates a basic log file in the domain folder and copies the control file and itself there.\n"
   ]
  },
  {
   "cell_type": "code",
   "execution_count": null,
   "metadata": {},
   "outputs": [],
   "source": [
    "# Set the log path and file name\n",
    "logPath = Path(outdir)\n",
    "log_suffix = '_easymore_remapping.txt'\n",
    " \n",
    "# Create a log folder\n",
    "logFolder = '_workflow_log'\n",
    "Path( logPath / logFolder ).mkdir(parents=True, exist_ok=True)\n",
    " \n",
    "# Copy this script\n",
    "thisFile = '2_easymore_remapping.ipynb'\n",
    "copyfile(thisFile, logPath / logFolder / thisFile);\n",
    " \n",
    "# Get current date and time\n",
    "now = datetime.now()\n",
    " \n",
    "# Create a log file\n",
    "logFile = now.strftime('%Y%m%d') + log_suffix\n",
    "with open( logPath / logFolder / logFile, 'w') as file:\n",
    "     \n",
    "    lines = ['Log generated by ' + thisFile + ' on ' + now.strftime('%Y/%m/%d %H:%M:%S') + '\\n',\n",
    "             'Generated remapped climate forcing .nc file.']\n",
    "    for txt in lines:\n",
    "        file.write(txt)"
   ]
  }
 ],
 "metadata": {
  "kernelspec": {
   "display_name": "MESH Workflow Kernel",
   "language": "python",
   "name": "mesh-workflow"
  },
  "language_info": {
   "codemirror_mode": {
    "name": "ipython",
    "version": 3
   },
   "file_extension": ".py",
   "mimetype": "text/x-python",
   "name": "python",
   "nbconvert_exporter": "python",
   "pygments_lexer": "ipython3",
   "version": "3.8.10"
  },
  "vscode": {
   "interpreter": {
    "hash": "9b271b39875848de38483eb62c29138594d92c4575023a90ae6ab83d843ef02c"
   }
  }
 },
 "nbformat": 4,
 "nbformat_minor": 4
}
