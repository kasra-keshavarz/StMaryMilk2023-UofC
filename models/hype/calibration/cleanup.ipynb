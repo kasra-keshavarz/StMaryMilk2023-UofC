{
 "cells": [
  {
   "cell_type": "code",
   "execution_count": 1,
   "id": "35db281e-b50d-4b6e-9279-7284c4382f67",
   "metadata": {},
   "outputs": [],
   "source": [
    "import os\n",
    "import glob"
   ]
  },
  {
   "cell_type": "code",
   "execution_count": 2,
   "id": "98cb676b-0f54-450d-8f45-e52f530c39e0",
   "metadata": {},
   "outputs": [],
   "source": [
    "# Define the patterns for files and directories to delete\n",
    "cal = ['./OstModel*', './OstErrors*', './OstOutput*', './mod*', './slurm*','./core*']"
   ]
  },
  {
   "cell_type": "code",
   "execution_count": 3,
   "id": "ec0607f8-1b7c-4f36-9352-06c57c67aed4",
   "metadata": {},
   "outputs": [],
   "source": [
    "run= ['./00*', './WB*', './hyss*']"
   ]
  },
  {
   "cell_type": "code",
   "execution_count": 4,
   "id": "1ff6946d-17bb-4f7d-b837-9f8bc045741e",
   "metadata": {},
   "outputs": [],
   "source": [
    "# Function to delete files and directories matching the specified patterns\n",
    "def delete_files(patterns):\n",
    "    for pattern in patterns:\n",
    "        files = glob.glob(pattern)\n",
    "        for file in files:\n",
    "            try:\n",
    "                if os.path.isfile(file):\n",
    "                    os.remove(file)\n",
    "                    print(f\"Deleted file: {file}\")\n",
    "                elif os.path.isdir(file):\n",
    "                    os.system(f\"rm -r {file}\")\n",
    "                    print(f\"Deleted directory: {file}\")\n",
    "            except Exception as e:\n",
    "                print(f\"Error deleting {file}: {e}\")\n"
   ]
  },
  {
   "cell_type": "code",
   "execution_count": 5,
   "id": "b1a285e3-a04f-4215-9962-22c158617bf9",
   "metadata": {},
   "outputs": [
    {
     "name": "stdout",
     "output_type": "stream",
     "text": [
      "Deleted file: ./OstModel1.txt\n",
      "Deleted file: ./OstModel6.txt\n",
      "Deleted file: ./OstModel8.txt\n",
      "Deleted file: ./OstModel22.txt\n",
      "Deleted file: ./OstModel25.txt\n",
      "Deleted file: ./OstModel10.txt\n",
      "Deleted file: ./OstModel17.txt\n",
      "Deleted file: ./OstModel19.txt\n",
      "Deleted file: ./OstModel18.txt\n",
      "Deleted file: ./OstModel16.txt\n",
      "Deleted file: ./OstModel11.txt\n",
      "Deleted file: ./OstModel24.txt\n",
      "Deleted file: ./OstModel9.txt\n",
      "Deleted file: ./OstModel23.txt\n",
      "Deleted file: ./OstModel7.txt\n",
      "Deleted file: ./OstModel12.txt\n",
      "Deleted file: ./OstModel15.txt\n",
      "Deleted file: ./OstModel20.txt\n",
      "Deleted file: ./OstModel27.txt\n",
      "Deleted file: ./OstModel3.txt\n",
      "Deleted file: ./OstModel29.txt\n",
      "Deleted file: ./OstModel4.txt\n",
      "Deleted file: ./OstModel31.txt\n",
      "Deleted file: ./OstModel5.txt\n",
      "Deleted file: ./OstModel2.txt\n",
      "Deleted file: ./OstModel28.txt\n",
      "Deleted file: ./OstModel26.txt\n",
      "Deleted file: ./OstModel21.txt\n",
      "Deleted file: ./OstModel14.txt\n",
      "Deleted file: ./OstModel13.txt\n",
      "Deleted file: ./OstModel30.txt\n",
      "Deleted file: ./OstOutput1.txt\n",
      "Deleted file: ./OstOutput6.txt\n",
      "Deleted file: ./OstOutput14.txt\n",
      "Deleted file: ./OstOutput8.txt\n",
      "Deleted file: ./OstOutput13.txt\n",
      "Deleted file: ./OstOutput26.txt\n",
      "Deleted file: ./OstOutput21.txt\n",
      "Deleted file: ./OstOutput28.txt\n",
      "Deleted file: ./OstOutput30.txt\n",
      "Deleted file: ./OstOutput29.txt\n",
      "Deleted file: ./OstOutput20.txt\n",
      "Deleted file: ./OstOutput27.txt\n",
      "Deleted file: ./OstOutput12.txt\n",
      "Deleted file: ./OstOutput15.txt\n",
      "Deleted file: ./OstOutput9.txt\n",
      "Deleted file: ./OstOutput7.txt\n",
      "Deleted file: ./OstOutput0.txt\n",
      "Deleted file: ./OstOutput31.txt\n",
      "Deleted file: ./OstOutput24.txt\n",
      "Deleted file: ./OstOutput23.txt\n",
      "Deleted file: ./OstOutput16.txt\n",
      "Deleted file: ./OstOutput11.txt\n",
      "Deleted file: ./OstOutput3.txt\n",
      "Deleted file: ./OstOutput18.txt\n",
      "Deleted file: ./OstOutput4.txt\n",
      "Deleted file: ./OstOutput19.txt\n",
      "Deleted file: ./OstOutput5.txt\n",
      "Deleted file: ./OstOutput2.txt\n",
      "Deleted file: ./OstOutput10.txt\n",
      "Deleted file: ./OstOutput17.txt\n",
      "Deleted file: ./OstOutput22.txt\n",
      "Deleted file: ./OstOutput25.txt\n",
      "Deleted directory: ./mod_10\n",
      "Deleted directory: ./mod_28\n",
      "Deleted directory: ./mod_22\n",
      "Deleted directory: ./mod_3\n",
      "Deleted directory: ./mod_9\n",
      "Deleted directory: ./mod_31\n",
      "Deleted directory: ./mod_4\n",
      "Deleted directory: ./mod_25\n",
      "Deleted directory: ./mod_17\n",
      "Deleted directory: ./mod_13\n",
      "Deleted directory: ./mod_19\n",
      "Deleted directory: ./mod_0\n",
      "Deleted directory: ./mod_21\n",
      "Deleted directory: ./mod_26\n",
      "Deleted directory: ./mod_7\n",
      "Deleted directory: ./mod_14\n",
      "Deleted directory: ./mod_5\n",
      "Deleted directory: ./mod_24\n",
      "Deleted directory: ./mod_16\n",
      "Deleted directory: ./mod_30\n",
      "Deleted directory: ./mod_11\n",
      "Deleted directory: ./mod_23\n",
      "Deleted directory: ./mod_29\n",
      "Deleted directory: ./mod_8\n",
      "Deleted directory: ./mod_2\n",
      "Deleted directory: ./mod_27\n",
      "Deleted directory: ./mod_6\n",
      "Deleted directory: ./mod_15\n",
      "Deleted directory: ./mod_18\n",
      "Deleted directory: ./mod_12\n",
      "Deleted directory: ./mod_1\n",
      "Deleted directory: ./mod_20\n",
      "Deleted file: ./slurm-17333562.out\n"
     ]
    }
   ],
   "source": [
    "delete_files(cal)"
   ]
  },
  {
   "cell_type": "code",
   "execution_count": null,
   "id": "d2f9ddd9-0690-4291-8437-600bea01db65",
   "metadata": {},
   "outputs": [],
   "source": []
  }
 ],
 "metadata": {
  "kernelspec": {
   "display_name": "Python 3.10",
   "language": "python",
   "name": "python3"
  },
  "language_info": {
   "codemirror_mode": {
    "name": "ipython",
    "version": 3
   },
   "file_extension": ".py",
   "mimetype": "text/x-python",
   "name": "python",
   "nbconvert_exporter": "python",
   "pygments_lexer": "ipython3",
   "version": "3.10.2"
  }
 },
 "nbformat": 4,
 "nbformat_minor": 5
}
