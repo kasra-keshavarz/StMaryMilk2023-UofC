{
 "cells": [
  {
   "cell_type": "code",
   "execution_count": 1,
   "id": "de60f7d4-5627-41d8-b5a3-bad270454da0",
   "metadata": {},
   "outputs": [],
   "source": [
    "import geopandas as gpd\n",
    "import pandas as pd\n",
    "from typing import Set\n",
    "import networkx as nx"
   ]
  },
  {
   "cell_type": "code",
   "execution_count": 2,
   "id": "68d02404-bb07-4709-9c43-57cee9c0fa67",
   "metadata": {},
   "outputs": [],
   "source": [
    "catchment_path= '../geospacial/modified_shapefiles/Modified_SMMcat.shp'\n",
    "st_mary_seg= '../geospacial/stmary_seg'"
   ]
  },
  {
   "cell_type": "code",
   "execution_count": 3,
   "id": "caacaf95-c784-4026-b384-27117d8b376f",
   "metadata": {},
   "outputs": [],
   "source": [
    "catchment= gpd.read_file(catchment_path)"
   ]
  },
  {
   "cell_type": "code",
   "execution_count": 4,
   "id": "eabfd78d-07f1-4aae-b655-1d7119842419",
   "metadata": {},
   "outputs": [],
   "source": [
    "# Open the file in read mode ('r')\n",
    "with open(st_mary_seg, 'r') as file:\n",
    "    # Read the lines from the file and store them in a list\n",
    "    stmary_seg = file.readlines()"
   ]
  },
  {
   "cell_type": "code",
   "execution_count": 5,
   "id": "7cd5abf8-de63-4a72-b1a0-ba11881a056b",
   "metadata": {},
   "outputs": [],
   "source": [
    "# Strip newline characters from each line\n",
    "stmary_seg = [item.strip() for item in stmary_seg]"
   ]
  },
  {
   "cell_type": "code",
   "execution_count": 6,
   "id": "830a62b5-afd0-407b-88b9-5c0d359475fe",
   "metadata": {},
   "outputs": [],
   "source": [
    "# Convert each item to an integer\n",
    "stmary_seg = [int(item) for item in stmary_seg]"
   ]
  },
  {
   "cell_type": "code",
   "execution_count": 7,
   "id": "ca0ecb1a-7622-4a6f-8857-f4682905da64",
   "metadata": {},
   "outputs": [],
   "source": [
    "# Convert 'seg_nhm' column to integer\n",
    "catchment['seg_nhm'] = catchment['seg_nhm'].astype(int)"
   ]
  },
  {
   "cell_type": "code",
   "execution_count": 8,
   "id": "68f4c988-7480-42dd-93b7-e2d5a37da1c5",
   "metadata": {},
   "outputs": [],
   "source": [
    "# Filter rows based on the 'seg_nhm' column\n",
    "filtered_catchment = catchment[catchment['seg_nhm'].isin(stmary_seg)]"
   ]
  },
  {
   "cell_type": "code",
   "execution_count": 10,
   "id": "132d6865-8b72-42eb-b41b-96c2e5260e90",
   "metadata": {},
   "outputs": [],
   "source": [
    "# Save the filtered GeoDataFrame to a new shapefile\n",
    "filtered_catchment.to_file('../geospacial/stmary_shapefile/St.Mary_Shapefile.shp')"
   ]
  },
  {
   "cell_type": "code",
   "execution_count": 11,
   "id": "068a4cfb-9ade-4a26-ab10-a3c5e65b1c25",
   "metadata": {},
   "outputs": [],
   "source": [
    "# Remove the filtered rows from the original GeoDataFrame\n",
    "catchment = catchment[~catchment['seg_nhm'].isin(stmary_seg)]"
   ]
  },
  {
   "cell_type": "code",
   "execution_count": 13,
   "id": "b5b6d9ec-e08d-4d72-a8d6-e2911cd2ab58",
   "metadata": {},
   "outputs": [],
   "source": [
    "# Save the modified original GeoDataFrame to overwrite the original file\n",
    "catchment.to_file('../geospacial/milk_shapefile/Milk_Shapefile.shp')"
   ]
  },
  {
   "cell_type": "code",
   "execution_count": null,
   "id": "6e5363d0-a510-4236-b193-10718922f757",
   "metadata": {},
   "outputs": [],
   "source": []
  }
 ],
 "metadata": {
  "kernelspec": {
   "display_name": "easymore-env",
   "language": "python",
   "name": "easymore-env"
  },
  "language_info": {
   "codemirror_mode": {
    "name": "ipython",
    "version": 3
   },
   "file_extension": ".py",
   "mimetype": "text/x-python",
   "name": "python",
   "nbconvert_exporter": "python",
   "pygments_lexer": "ipython3",
   "version": "3.8.10"
  }
 },
 "nbformat": 4,
 "nbformat_minor": 5
}
