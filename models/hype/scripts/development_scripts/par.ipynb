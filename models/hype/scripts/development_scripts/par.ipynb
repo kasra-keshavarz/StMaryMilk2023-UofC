{
 "cells": [
  {
   "cell_type": "code",
   "execution_count": 1,
   "id": "f62d16ab-b502-4a4b-afd4-bee825105bb1",
   "metadata": {},
   "outputs": [],
   "source": [
    "import os\n",
    "import geopandas as gpd\n",
    "import pandas as pd\n",
    "import numpy as np\n",
    "import math"
   ]
  },
  {
   "cell_type": "code",
   "execution_count": 2,
   "id": "0840e7e2-850e-420a-be84-4b9eaa1e6881",
   "metadata": {},
   "outputs": [],
   "source": [
    "# Output par to a .txt file\n",
    "output_file = '/home/paulc600/scratch/calhype/01_lognse/par.txt'"
   ]
  },
  {
   "cell_type": "markdown",
   "id": "8c75ec2e-adc6-47db-87f6-c82d0a3daad8",
   "metadata": {},
   "source": [
    "Snow melt, accumutation and distribution parameters"
   ]
  },
  {
   "cell_type": "code",
   "execution_count": 3,
   "id": "f1d31db4-c94a-45a6-8922-fc665a1bac36",
   "metadata": {},
   "outputs": [],
   "source": [
    "s2= [\n",
    "\"\"\"!!\t=======================================================================================================\t\t\t\t\t\t\t\t\t\t\t\t\t\t\t\t\n",
    "!!\t\"SNOWMELT, DISTRIBUTION, DENSITY, HEAT; sublimation is sorted under Evapotranspiration\"\t\t\t\t\t\t\t\t\t\t\t\t\t\t\t\t\n",
    "!!\t-----\t\t\t\t\t\t\t\t\t\t\t\t\t\t\t\t\n",
    "!!\t\"General snow accumulation and melt related parameters (baseline values from SHYPE, unless noted otherwise)\"\t\t\t\t\t\t\t\t\t\t\t\t\t\t\t\t\n",
    "!! Snow distribution submodel: 0, snow melt submodel: 2, snow density submodel: 0, snow heat submodel: 1 (including snkika below)\"\"\"\n",
    "]"
   ]
  },
  {
   "cell_type": "code",
   "execution_count": 4,
   "id": "ee32faf5-071f-4f51-ab45-b044b0d7cd5c",
   "metadata": {},
   "outputs": [],
   "source": [
    "# write s2 in output file\n",
    "with open(output_file, 'a') as file:\n",
    "    # Write the commented lines\n",
    "    for line in s2:\n",
    "        file.write(line + '\\n')"
   ]
  },
  {
   "cell_type": "code",
   "execution_count": 5,
   "id": "d1e87678-b995-4485-9656-1f1ddbbf9cd0",
   "metadata": {},
   "outputs": [],
   "source": [
    "# create second dataframe\n",
    "df2_row=['ttpi','sdnsnew','snowdensdt','fsceff','cmrefr','whcsnow']\n",
    "df2_val=[1.7083,0.13,0.0016, 1,0.2,0.08]\n",
    "df2=pd.DataFrame(df2_val, index=df2_row, columns=None)"
   ]
  },
  {
   "cell_type": "code",
   "execution_count": 6,
   "id": "054d6626-3624-4748-9e0e-2c7664360862",
   "metadata": {},
   "outputs": [],
   "source": [
    "# create the corresponding comments\n",
    "c2 = [\n",
    "    \"!! half of temperature interval with mixed snow and rainfall\",\n",
    "    \"!! density of new-fallen snow (kg/dm3)\",\n",
    "    \"!! increase of snow density per day\",\n",
    "    \"!! efficiency of snow cover to influence snow melt and snow evaporation \",\n",
    "    \"!! refreeze efficiency compared to the degree-day snow melt factor Used for second snow melt model- baseline value from HBV pers comm Barbro Johansson, but also in publications\",\n",
    "    \"!! water holding capacity of snow - HYPE Wiki \"\n",
    "]"
   ]
  },
  {
   "cell_type": "code",
   "execution_count": 7,
   "id": "a5216cb2-2ba0-4613-b738-08e87618cd21",
   "metadata": {},
   "outputs": [],
   "source": [
    "# append c2 and df2\n",
    "with open(output_file, 'a') as file:\n",
    "    # Iterate over DataFrame rows\n",
    "    for i, (index, row) in enumerate(df2.iterrows()):\n",
    "        # Check if there is a comment line for the current row\n",
    "        if i < len(c2):\n",
    "            # Write the row name, values, and comment on the same line\n",
    "            line = str(index) + '\\t' + '\\t'.join(str(val) for val in row.values) + '\\t' + c2[i] + '\\n'\n",
    "        else:\n",
    "            # Write the row name and values without comment on the same line\n",
    "            line = str(index) + '\\t' + '\\t'.join(str(val) for val in row.values) + '\\n'\n",
    "        \n",
    "        # Write the line to the file\n",
    "        file.write(line)"
   ]
  },
  {
   "cell_type": "markdown",
   "id": "1de986b7-7cf5-44b0-8c5e-11c34c730d32",
   "metadata": {},
   "source": [
    "Landuse dependent snowmelt parameters"
   ]
  },
  {
   "cell_type": "code",
   "execution_count": 8,
   "id": "cd3195cb-a780-4a4b-9e42-a36c332f397d",
   "metadata": {
    "tags": []
   },
   "outputs": [],
   "source": [
    "s3= [\n",
    "\"\"\"!!\t-----\t\t\t\t\t\t\t\t\t\t\t\t\t\t\t\t\n",
    "!!\tSNOWMELT Landuse dependent parameters\t\t\t\t\t\t\t\t\t\t\t\t\t\n",
    "!!LUSE:\tLU1\tLU2\tLU3\tLU4\tLU5\tLU6\tLU7\tLU8\tLU9\tLU10\tLU11\tLU12\tLU13\tLU14\tLU15\tLU16\tLU17\tLU18\tLU19\n",
    "!! snowmelt submodel:2, snow heat submodel: 1\"\"\"\n",
    "]"
   ]
  },
  {
   "cell_type": "code",
   "execution_count": 9,
   "id": "e95e4099-aa05-442c-9c70-f58bd5598cca",
   "metadata": {},
   "outputs": [],
   "source": [
    "# write s3 in output file\n",
    "with open(output_file, 'a') as file:\n",
    "    # Write the commented lines\n",
    "    for line in s3:\n",
    "        file.write(line + '\\n')"
   ]
  },
  {
   "cell_type": "code",
   "execution_count": 10,
   "id": "629c2c13-3d9e-4b39-98aa-da68f6739947",
   "metadata": {
    "tags": []
   },
   "outputs": [],
   "source": [
    "# create df3 for LU 1-17\n",
    "ttmp=[0.0648,0.0,0.0,0.0,0.0648,0.0648,0.0,2.093459E+00,0.0,2.988690E+00,2.093459E+00,2.988690E+00,0.0,-1.228531E+00,-2.284076E+00,0.0,0.6952,-1.228531E+00,0.0]\n",
    "cmlt=[3.0789,0.0,0.0,0.0,3.0789,3.0789,0.0,6.334001E+00,0.0,1.009290E+00,6.334001E+00,1.009290E+00,0.0,5.511559E+00,8.228798E+00,5.0,6.4778,5.511559E+00,5.0]\n",
    "cmrad=[0.25,0.25,0.25,0.25,0.25,0.25,0.25,4.680137E-01,0.25,7.922803E-01,4.680137E-01,7.922803E-01,0.25,4.034880E-01,1.333692E+00,0.25,0.25,0.25,0.25]\n",
    "snalbmin=[0.4,0.4,0.4,0.4,0.4,0.4,0.4,0.4,0.4,0.4,0.4,0.4,0.4,0.4,0.4,0.4,0.4,0.4,0.4]\n",
    "snalbmax=[0.95,0.95,0.95,0.95,0.95,0.95,0.95,0.95,0.95,0.95,0.95,0.95,0.95,0.95,0.95,0.95,0.95,0.95,0.95]\n",
    "snalbkexp=[0.1,0.1,0.1,0.1,0.1,0.1,0.1,0.1,0.1,0.1,0.1,0.1,0.1,0.1,0.1,0.1,0.1,0.1,0.1]\n",
    "df3_row=['ttmp','cmlt','cmrad','snalbmin','snalbmax','snalbkexp']\n",
    "df3=pd.DataFrame([ttmp,cmlt,cmrad,snalbmin,snalbmax,snalbkexp,], index=df3_row)"
   ]
  },
  {
   "cell_type": "code",
   "execution_count": 11,
   "id": "c4696ac6-a167-4693-af3f-2459a7afc745",
   "metadata": {
    "tags": []
   },
   "outputs": [],
   "source": [
    "# create the corresponding comments\n",
    "c22 = [\n",
    "    \"!! threshold temperature for snow melt snow density and evapotranspiration\",\n",
    "    \"!! melting parameter for snow\",\n",
    "    \"!! coefficient for radiation snow melt, parameter for second snowmelt model\",\n",
    "    \"!! parameter for second snowmelt model\",\n",
    "    \"!! parameter for second snowmelt model\",\n",
    "    \"!! parameter for second snowmelt model\",\n",
    "    \"!! snow heat model, relation between snow thermal conductivity and surface heat exchange coefficient\"\n",
    "]\n"
   ]
  },
  {
   "cell_type": "code",
   "execution_count": 12,
   "id": "1386d842-ef6a-463d-b2f7-16b151167b51",
   "metadata": {},
   "outputs": [],
   "source": [
    "# append c22 and df3\n",
    "with open(output_file, 'a') as file:\n",
    "    # Iterate over DataFrame rows\n",
    "    for i, (index, row) in enumerate(df3.iterrows()):\n",
    "        # Check if there is a comment line for the current row\n",
    "        if i < len(c22):\n",
    "            # Write the row name, values, and comment on the same line\n",
    "            line = str(index) + '\\t' + '\\t'.join(str(val) for val in row.values) + '\\t' + c22[i] + '\\n'\n",
    "        else:\n",
    "            # Write the row name and values without comment on the same line\n",
    "            line = str(index) + '\\t' + '\\t'.join(str(val) for val in row.values) + '\\n'\n",
    "        \n",
    "        # Write the line to the file\n",
    "        file.write(line)"
   ]
  },
  {
   "cell_type": "markdown",
   "id": "7e14e00d-4fa1-43cf-a7bf-9c14d5860045",
   "metadata": {},
   "source": [
    "Snowcover parameters"
   ]
  },
  {
   "cell_type": "code",
   "execution_count": 13,
   "id": "b12cb867-9cac-402e-bedd-1c4a1f0f7a25",
   "metadata": {},
   "outputs": [],
   "source": [
    "s4= [\n",
    "\"\"\"!!\t-----\t\t\t\t\t\t\t\t\t\t\t\t\t\t\t\t\n",
    "!!\tSNOWCOVER parameters (general and landuse) - baseline from Rossby RCA model (Samuelsson et al 2006;Lindström et al)\t\t\t\t\t\t\t\t\t\t\t\t\t\t\t\t\n",
    "!!LUSE:\tLU1\tLU2\tLU3\tLU4\tLU5\tLU6\tLU7\tLU8\tLU9\tLU10\tLU11\tLU12\tLU13\tLU14\tLU15\tLU16\tLU17\tLU18\tLU19\n",
    "!! used in SNOWMELT submodel:2 \"\"\"\n",
    "]"
   ]
  },
  {
   "cell_type": "code",
   "execution_count": 14,
   "id": "b642c145-519f-46b2-a1c3-102f6eaf0f07",
   "metadata": {},
   "outputs": [],
   "source": [
    "# write s4 in output file\n",
    "with open(output_file, 'a') as file:\n",
    "    # Write the commented lines\n",
    "    for line in s4:\n",
    "        file.write(line + '\\n')"
   ]
  },
  {
   "cell_type": "code",
   "execution_count": 15,
   "id": "dbcf8789-92ce-4668-a4f9-e35709b2879e",
   "metadata": {},
   "outputs": [],
   "source": [
    "# create df4 for LU 1-17\n",
    "fscdistmax=[0.8,0.8,0.8,0.8,0.8,0.8,0.8,0.8,0.8,0.8,0.8,0.8,0.8,0.8,0.8,0.8,0.8,0.8,0.8]\n",
    "fscdist0=[0.2,0.2,0.2,0.2,0.2,0.2,0.2,0.2,0.2,0.2,0.2,0.2,0.2,0.2,0.2,0.2,0.2,0.2,0.2]\n",
    "fscdist1=[0.001,0.001,0.001,0.001,0.001,0.001,0.001,0.001,0.001,0.001,0.001,0.001,0.001,0.001,0.001,0.001,0.001,0.001,0.001]\n",
    "df4_row=['fscdistmax','fscdist0','fscdist1']\n",
    "df4=pd.DataFrame([fscdistmax,fscdist0,fscdist1], index=df4_row)"
   ]
  },
  {
   "cell_type": "code",
   "execution_count": 16,
   "id": "ffa8b1e9-adb4-4c18-85b8-c87147455b3c",
   "metadata": {},
   "outputs": [],
   "source": [
    "# create the corresponding comments\n",
    "c33 = [\n",
    "    \"!! maximum snow distribution factor\",\n",
    "    \"!! minimum snow distribution factor\",\n",
    "    \"!! std coefficient for snow distribution factor parameter for second snowmelt model\"\n",
    "]"
   ]
  },
  {
   "cell_type": "code",
   "execution_count": 17,
   "id": "ac3279c9-c40b-4033-80db-6ef405dd4d45",
   "metadata": {},
   "outputs": [],
   "source": [
    "# append c33 and df4\n",
    "with open(output_file, 'a') as file:\n",
    "    # Iterate over DataFrame rows\n",
    "    for i, (index, row) in enumerate(df4.iterrows()):\n",
    "        # Check if there is a comment line for the current row\n",
    "        if i < len(c33):\n",
    "            # Write the row name, values, and comment on the same line\n",
    "            line = str(index) + '\\t' + '\\t'.join(str(val) for val in row.values) + '\\t' + c33[i] + '\\n'\n",
    "        else:\n",
    "            # Write the row name and values without comment on the same line\n",
    "            line = str(index) + '\\t' + '\\t'.join(str(val) for val in row.values) + '\\n'\n",
    "        \n",
    "        # Write the line to the file\n",
    "        file.write(line)"
   ]
  },
  {
   "cell_type": "code",
   "execution_count": 18,
   "id": "1d9f6a5b-2579-48d4-8af7-10732e39137d",
   "metadata": {},
   "outputs": [],
   "source": [
    "# create df5\n",
    "df5_row=['fscmax','fscmin','fsclim','fsck1','fsckexp']\n",
    "df5_val=[1,0.01,0.001,0.2,0.000001]\n",
    "df5=pd.DataFrame(df5_val, index=df5_row, columns=None)"
   ]
  },
  {
   "cell_type": "code",
   "execution_count": 19,
   "id": "eef63b7f-424e-49bc-ae33-5896261789ce",
   "metadata": {},
   "outputs": [],
   "source": [
    "# create the corresponding comments\n",
    "c3 = [\n",
    "    \"!! maximum fractional snow cover area\",\n",
    "    \"!! minimum fractional snow cover area\",\n",
    "    \"!! limit of fractional snow cover area for onset of snowmax\",\n",
    "    \"!! Snowmass threshold to start decreasing the internal snowmax variable towards the end of the melt season\",\n",
    "    \"!! Coefficient in exponential decrease of the internal Snowmax variable\",\n",
    "]"
   ]
  },
  {
   "cell_type": "code",
   "execution_count": 20,
   "id": "2d12d6e9-e913-4044-b194-2e7a29d919d1",
   "metadata": {},
   "outputs": [],
   "source": [
    "# append c3 and df5\n",
    "with open(output_file, 'a') as file:\n",
    "    # Iterate over DataFrame rows\n",
    "    for i, (index, row) in enumerate(df5.iterrows()):\n",
    "        # Check if there is a comment line for the current row\n",
    "        if i < len(c3):\n",
    "            # Write the row name, values, and comment on the same line\n",
    "            line = str(index) + '\\t' + '\\t'.join(str(val) for val in row.values) + '\\t' + c3[i] + '\\n'\n",
    "        else:\n",
    "            # Write the row name and values without comment on the same line\n",
    "            line = str(index) + '\\t' + '\\t'.join(str(val) for val in row.values) + '\\n'\n",
    "        \n",
    "        # Write the line to the file\n",
    "        file.write(line)"
   ]
  },
  {
   "cell_type": "markdown",
   "id": "f909b9dc-bd71-4938-a76e-503776d886af",
   "metadata": {},
   "source": [
    "Evapotransipration parameters"
   ]
  },
  {
   "cell_type": "code",
   "execution_count": 21,
   "id": "0e8df88f-80ea-4015-8d08-54c1f61d8f75",
   "metadata": {},
   "outputs": [],
   "source": [
    "# create s7\n",
    "s7= [\n",
    "\"\"\"!!\t=======================================================================================================\t\t\t\t\t\t\t\t\t\t\t\t\t\t\t\t\n",
    "!!\tEVAPOTRANSPIRATION PARAMETERS\t\t\t\t\t\t\t\t\t\t\t\t\t\t\t\t\n",
    "!!\t-----\t\t\t\t\t\t\t\t\t\t\t\t\t\t\t\t\n",
    "!!\tGeneral evapotranspiration parameters\t\t\t\t\t\t\t\t\t\t\t\t\t\t\t\t\n",
    "!! used for petmodel\"\"\"\n",
    "]"
   ]
  },
  {
   "cell_type": "code",
   "execution_count": 22,
   "id": "08d76dd1-83b1-46c1-aa9b-ad9b9a66cdb2",
   "metadata": {},
   "outputs": [],
   "source": [
    "# write s7 in output file\n",
    "with open(output_file, 'a') as file:\n",
    "    # Write the commented lines\n",
    "    for line in s7:\n",
    "        file.write(line + '\\n')"
   ]
  },
  {
   "cell_type": "code",
   "execution_count": 23,
   "id": "87378426-e622-44d4-9cc9-116bc177ede9",
   "metadata": {},
   "outputs": [],
   "source": [
    "# create df8\n",
    "df8_row=['lp','epotdist','krs','jhtadd','jhtscale','mwind']\n",
    "df8_val=[0.7771,5.6679,0.16,4.95,94.2,10]\n",
    "df8=pd.DataFrame(df8_val, index=df8_row, columns=None)"
   ]
  },
  {
   "cell_type": "code",
   "execution_count": 24,
   "id": "38d4a72d-de4f-450b-8454-c1ce530bf7cd",
   "metadata": {},
   "outputs": [],
   "source": [
    "# create the corresponding comments\n",
    "c5 = [\n",
    "    \"!! Threshold for water content reduction of transpiration as fraction of field capacity\",\n",
    "    \"!! Coefficient in exponential function for potential evapotranspiration's depth dependency\",\n",
    "    \"!! parameter for estimating shortwave radiation used in the third petmodel\",\n",
    "    \"!! parameter for second petmodel\",\n",
    "    \"!! parameter for second petmodel\",\n",
    "    \"!! correction factor for evapotranspiration\"\n",
    "]"
   ]
  },
  {
   "cell_type": "code",
   "execution_count": 25,
   "id": "20687ff6-a858-462a-86cc-e8255acd74b1",
   "metadata": {},
   "outputs": [],
   "source": [
    "# append c5 and df8\n",
    "with open(output_file, 'a') as file:\n",
    "    # Iterate over DataFrame rows\n",
    "    for i, (index, row) in enumerate(df8.iterrows()):\n",
    "        # Check if there is a comment line for the current row\n",
    "        if i < len(c5):\n",
    "            # Write the row name, values, and comment on the same line\n",
    "            line = str(index) + '\\t' + '\\t'.join(str(val) for val in row.values) + '\\t' + c5[i] + '\\n'\n",
    "        else:\n",
    "            # Write the row name and values without comment on the same line\n",
    "            line = str(index) + '\\t' + '\\t'.join(str(val) for val in row.values) + '\\n'\n",
    "        \n",
    "        # Write the line to the file\n",
    "        file.write(line)"
   ]
  },
  {
   "cell_type": "code",
   "execution_count": 26,
   "id": "90d43e45-1792-45dc-93c8-3ed56933cd29",
   "metadata": {},
   "outputs": [],
   "source": [
    "# create s8\n",
    "s8= [\n",
    "\"\"\"!!\t-----\t\t\t\t\t\t\t\t\t\t\t\t\t\t\t\t\n",
    "!!\t\t\t\t\t\t\t\t\t\t\t\t\t\t\t\t\t\n",
    "!!LUSE:\tLU1\tLU2\tLU3\tLU4\tLU5\tLU6\tLU7\tLU8\tLU9\tLU10\tLU11\tLU12\tLU13\tLU14\tLU15\tLU16\tLU17\tLU18\tLU19\"\"\"\n",
    "]"
   ]
  },
  {
   "cell_type": "code",
   "execution_count": 27,
   "id": "24171ea6-746d-47f0-bb80-3bafb7242cfd",
   "metadata": {},
   "outputs": [],
   "source": [
    "# write s8 in output file\n",
    "with open(output_file, 'a') as file:\n",
    "    # Write the commented lines\n",
    "    for line in s8:\n",
    "        file.write(line + '\\n')"
   ]
  },
  {
   "cell_type": "code",
   "execution_count": 28,
   "id": "4e88d30c-fe70-4bea-87dd-47df2a15d5d9",
   "metadata": {},
   "outputs": [],
   "source": [
    "# create df9 for LU 1-17\n",
    "kc=[1.017511845,1.017511845,1.201224208,1.334493399,1.265059352,1.020708799,1.020708799,6.217398E-01,1.020708799,6.147970E-01,6.217398E-01,6.147970E-01,1.024959087,6.182874E-01,6.634123E-01,1.024959087,1.024959087,6.182874E-01,1.024959087]\n",
    "alb=[0.15,0.15,0.15,0.20,0.20,0.18,0.25,0.25,0.25,0.25,0.25,0.20,0.20,0.25,0.25,0.26,0.1,0.6,0.8]\n",
    "ttrig=[0,0,0,0,0,0,0,0,0,0,0,0,0,0,0,0,0,0,0]\n",
    "treda=[0.84,0.84,0.84,0.84,0.95,0.95,0.95,0.95,0.95,0.7,0.9,0.8,0.8,0.8,0.8,0.8,0.8,0.8,0.8]\n",
    "tredb=[0.4,0.4,0.4,0.4,0.4,0.4,0.4,0.4,0.4,0.4,0.4,0.4,0.4,0.4,0.4,0.4,0.4,0.4,0.4]\n",
    "fepotsnow=[0.8,0.8,0.8,0.8,0.8,0.8,0.8,0.8,0.8,0.8,0.8,0.8,0.8,0.8,0.8,0.8,0.8,0.8,0.8]\n",
    "df9_row=['kc','alb','ttrig','treda','tredb','fepotsnow']\n",
    "df9=pd.DataFrame([kc,alb,ttrig,treda,tredb,fepotsnow], index=df9_row)"
   ]
  },
  {
   "cell_type": "code",
   "execution_count": 29,
   "id": "78f1d433-42dd-46d2-9caf-5b9643a42aae",
   "metadata": {},
   "outputs": [],
   "source": [
    "# create the corresponding comments\n",
    "c55 = [\n",
    "    \"!! crop coefficient for third petmodel\",\n",
    "    \"!! temperature threshold for soil temperature control on soil evapotranspiration\",\n",
    "    \"!! soil temperature control on soil evapotranspiration\",\n",
    "    \"!! soil temperature control on soil evapotranspiration\",\n",
    "    \"!! sevapotranspiration parameter\",\n",
    "    \"!! fraction of snow-free potential evapotranspiration, used for calculation of snow evaporation\"\n",
    "]"
   ]
  },
  {
   "cell_type": "code",
   "execution_count": 30,
   "id": "7d6347aa-2e66-46ec-a10c-0682b498f648",
   "metadata": {},
   "outputs": [],
   "source": [
    "# append c55 and df9\n",
    "with open(output_file, 'a') as file:\n",
    "    # Iterate over DataFrame rows\n",
    "    for i, (index, row) in enumerate(df9.iterrows()):\n",
    "        # Check if there is a comment line for the current row\n",
    "        if i < len(c55):\n",
    "            # Write the row name, values, and comment on the same line\n",
    "            line = str(index) + '\\t' + '\\t'.join(str(val) for val in row.values) + '\\t' + c55[i] + '\\n'\n",
    "        else:\n",
    "            # Write the row name and values without comment on the same line\n",
    "            line = str(index) + '\\t' + '\\t'.join(str(val) for val in row.values) + '\\n'\n",
    "        \n",
    "        # Write the line to the file\n",
    "        file.write(line)"
   ]
  },
  {
   "cell_type": "markdown",
   "id": "cc9080f4-6eb3-4608-8808-4b28fcccdfef",
   "metadata": {},
   "source": [
    "Frozen soil parameters"
   ]
  },
  {
   "cell_type": "code",
   "execution_count": 31,
   "id": "3e5795ba-af38-4591-82c9-ad4ff46196d0",
   "metadata": {},
   "outputs": [],
   "source": [
    "# create s9\n",
    "s9= [\n",
    "\"\"\"!!======================================================\t\t\t\t\t\t\t\t\t\t\t\t\t\t\t\t\t\n",
    "!! Frozen soil infiltration parameters\t\t\t\t\t\t\t\t\t\t\t\t\t\t\t\t\t\n",
    "!! General frozen soil \n",
    "!! SOIL:\tS1\tS2\tS3\tS4\tS5\tS6\tS7\tS8\tS9\tS10\tS11\tS12\tS13\t\t\t\t\n",
    "!! for frozen soil submodel: 2\"\"\"\n",
    "]"
   ]
  },
  {
   "cell_type": "code",
   "execution_count": 32,
   "id": "8465b878-773f-4bdb-9128-25e1d8f04965",
   "metadata": {},
   "outputs": [],
   "source": [
    "# write s9 in output file\n",
    "with open(output_file, 'a') as file:\n",
    "    # Write the commented lines\n",
    "    for line in s9:\n",
    "        file.write(line + '\\n')"
   ]
  },
  {
   "cell_type": "code",
   "execution_count": 33,
   "id": "818500a1-44f8-41cb-bcfc-82f2316fb077",
   "metadata": {},
   "outputs": [],
   "source": [
    "# create df10\n",
    "df10_row=['deepmem']\n",
    "df10_val=[1000]\n",
    "df10=pd.DataFrame(df10_val, index=df10_row, columns=None)"
   ]
  },
  {
   "cell_type": "code",
   "execution_count": 34,
   "id": "b84722e6-0dce-4292-82c4-ba1e174fe6e3",
   "metadata": {},
   "outputs": [],
   "source": [
    "# create corresponding comments\n",
    "# create the corresponding comments\n",
    "c5555 = [\n",
    "    \"!! deep soil temperature memory\"\n",
    "]"
   ]
  },
  {
   "cell_type": "code",
   "execution_count": 35,
   "id": "ac8df02e-006c-4594-a516-71d277b29271",
   "metadata": {},
   "outputs": [],
   "source": [
    "# append c5555 and df10\n",
    "with open(output_file, 'a') as file:\n",
    "    # Iterate over DataFrame rows\n",
    "    for i, (index, row) in enumerate(df10.iterrows()):\n",
    "        # Check if there is a comment line for the current row\n",
    "        if i < len(c5555):\n",
    "            # Write the row name, values, and comment on the same line\n",
    "            line = str(index) + '\\t' + '\\t'.join(str(val) for val in row.values) + '\\t' + c5555[i] + '\\n'\n",
    "        else:\n",
    "            # Write the row name and values without comment on the same line\n",
    "            line = str(index) + '\\t' + '\\t'.join(str(val) for val in row.values) + '\\n'\n",
    "        \n",
    "        # Write the line to the file\n",
    "        file.write(line)"
   ]
  },
  {
   "cell_type": "code",
   "execution_count": 36,
   "id": "4f652e40-3f34-472f-a9f6-f0f07c0a61ad",
   "metadata": {},
   "outputs": [],
   "source": [
    "# create s10\n",
    "s10= [\n",
    "\"\"\"!!---------------\t\t\t\t\t\t\t\t\t\t\t\t\t\t\t\t\t\n",
    "!! Frozen soil infiltration parameters\t\t\t\t\t\t\t\t\t\t\t\t\t\t\t\t\t\n",
    "!! Soil type parameters\n",
    "!! SOIL:\tS1\tS2\tS3\tS4\tS5\tS6\tS7\tS8\tS9\tS10\tS11\tS12\t\t\t\t\t\"\"\"\n",
    "]"
   ]
  },
  {
   "cell_type": "code",
   "execution_count": 37,
   "id": "74d5f831-f05a-42db-a3b8-4d5cb5c0d42f",
   "metadata": {},
   "outputs": [],
   "source": [
    "# write s10 in output file\n",
    "with open(output_file, 'a') as file:\n",
    "    # Write the commented lines\n",
    "    for line in s10:\n",
    "        file.write(line + '\\n')"
   ]
  },
  {
   "cell_type": "code",
   "execution_count": 38,
   "id": "931d6289-01d7-4ab6-9126-5e28bb61ae87",
   "metadata": {},
   "outputs": [],
   "source": [
    "# create df11 for S1-12\n",
    "bfroznsoil=[2.9152,2.9152,2.9152,2.9152,2.9152,2.9152,2.9152,2.9152,2.9152,2.9152,2.9152,2.9152,2.9152]\n",
    "logsatmp=[1.15,1.15,1.15,1.15,1.15,1.15,1.15,1.15,1.15,1.15,1.15,1.15,1.15]\n",
    "bcosby=[19.4154,19.4154,9.015475E+00,4.194450E+00,19.4154,19.4154,19.4154,19.4154,19.4154,19.4154,19.4154,19.4154,19.4154]\n",
    "df11_row=['bfroznsoil','logsatmp','bcosby']\n",
    "df11=pd.DataFrame([bfroznsoil,logsatmp,bcosby,], index=df11_row)"
   ]
  },
  {
   "cell_type": "code",
   "execution_count": 39,
   "id": "4ddfb1d7-421b-450f-967b-346f8b76c737",
   "metadata": {},
   "outputs": [],
   "source": [
    "# create the corresponding comments\n",
    "c555 = [\n",
    "    \"!! ??\",\n",
    "    \"!! coefficient in unfrozen soil water content function\",\n",
    "    \"!! coefficient in unfrozen soil water content function\",\n",
    "]"
   ]
  },
  {
   "cell_type": "code",
   "execution_count": 40,
   "id": "eaf24d7f-e993-4737-88cd-755cc0f779a9",
   "metadata": {},
   "outputs": [],
   "source": [
    "# append c555 and df11\n",
    "with open(output_file, 'a') as file:\n",
    "    # Iterate over DataFrame rows\n",
    "    for i, (index, row) in enumerate(df11.iterrows()):\n",
    "        # Check if there is a comment line for the current row\n",
    "        if i < len(c555):\n",
    "            # Write the row name, values, and comment on the same line\n",
    "            line = str(index) + '\\t' + '\\t'.join(str(val) for val in row.values) + '\\t' + c555[i] + '\\n'\n",
    "        else:\n",
    "            # Write the row name and values without comment on the same line\n",
    "            line = str(index) + '\\t' + '\\t'.join(str(val) for val in row.values) + '\\n'\n",
    "        \n",
    "        # Write the line to the file\n",
    "        file.write(line)"
   ]
  },
  {
   "cell_type": "code",
   "execution_count": 41,
   "id": "dd15160a-49fa-4515-afd5-574bd6256031",
   "metadata": {},
   "outputs": [],
   "source": [
    "# create s15\n",
    "s15= [\n",
    "\"\"\"!! ------------\n",
    "!! Frozen soil infiltration parameters\t\t\t\t\t\t\t\t\t\t\t\t\t\t\t\n",
    "!!Land use parameters\t\t\t\t\t\t\t\t\t\t\t\t\t\t\t\t\t\n",
    "!!LUSE:\tLU1\tLU2\tLU3\tLU4\tLU5\tLU6\tLU7\tLU8\tLU9\tLU10\tLU11\tLU12\tLU13\tLU14\tLU15\tLU16\tLU17\tLU18\tLU19\"\"\"\n",
    "]"
   ]
  },
  {
   "cell_type": "code",
   "execution_count": 42,
   "id": "aa1ffed5-2567-49dd-95c0-04b63302953f",
   "metadata": {},
   "outputs": [],
   "source": [
    "# write s15 in output file\n",
    "with open(output_file, 'a') as file:\n",
    "    # Write the commented lines\n",
    "    for line in s15:\n",
    "        file.write(line + '\\n')"
   ]
  },
  {
   "cell_type": "code",
   "execution_count": 43,
   "id": "ce9450ca-2333-4eb0-8fbc-759e54caf6c6",
   "metadata": {},
   "outputs": [],
   "source": [
    "# create df16 for LU 1-17\n",
    "surfmem=[17.8,17.8,17.8,17.8,17.8,17.8,17.8,17.8,17.8,17.8,17.8,17.8,17.8,5.15,17.8,17.8,17.8,5.15,17.8]\n",
    "depthrel=[1.1152,1.1152,1.1152,1.1152,1.1152,1.1152,1.1152,1.1152,1.1152,1.1152,1.1152,1.1152,1.1152,2.47,1.1152,1.1152,1.1152,2.47,1.1152]\n",
    "frost=[2,2,2,2,2,2,2,2,2,2,2,2,2,2,2,2,2,2,2]\n",
    "df16_row=['surfmem','depthrel','frost']\n",
    "df16=pd.DataFrame([surfmem,depthrel,frost], index=df16_row)"
   ]
  },
  {
   "cell_type": "code",
   "execution_count": 44,
   "id": "28d319ad-ba9d-4f98-ba4b-e0da8934a462",
   "metadata": {},
   "outputs": [],
   "source": [
    "# create the corresponding comments\n",
    "c7 = [\n",
    "    \"!! upper soil layer soil temperature memory\",\n",
    "    \"!! depth relation for soil temperature memory\",\n",
    "    \"!! frost depth parameter\"\n",
    "]"
   ]
  },
  {
   "cell_type": "code",
   "execution_count": 45,
   "id": "86378c5a-7ea8-4a10-a673-ea85fb5d4266",
   "metadata": {},
   "outputs": [],
   "source": [
    "# append c7 and df16\n",
    "with open(output_file, 'a') as file:\n",
    "    # Iterate over DataFrame rows\n",
    "    for i, (index, row) in enumerate(df16.iterrows()):\n",
    "        # Check if there is a comment line for the current row\n",
    "        if i < len(c7):\n",
    "            # Write the row name, values, and comment on the same line\n",
    "            line = str(index) + '\\t' + '\\t'.join(str(val) for val in row.values) + '\\t' + c7[i] + '\\n'\n",
    "        else:\n",
    "            # Write the row name and values without comment on the same line\n",
    "            line = str(index) + '\\t' + '\\t'.join(str(val) for val in row.values) + '\\n'\n",
    "        \n",
    "        # Write the line to the file\n",
    "        file.write(line)"
   ]
  },
  {
   "cell_type": "markdown",
   "id": "6b3cfbc3-302a-49c0-b09b-1f1f09df6f6d",
   "metadata": {},
   "source": [
    "Runoff parameters"
   ]
  },
  {
   "cell_type": "code",
   "execution_count": 46,
   "id": "aedff227-aa29-4672-99ef-a34e0612bd9f",
   "metadata": {},
   "outputs": [],
   "source": [
    "# create s11\n",
    "s11= [\n",
    "\"\"\"!!\t=======================================================================================================\t\t\t\t\t\t\t\t\t\t\t\t\t\t\t\t\n",
    "!!\t\"SOIL/LAND HYDRAULIC RESPONSE PARAMETERS - recession coef., water retention, infiltration, macropore, surface runoff; etc.\"\t\t\t\t\t\t\t\t\t\t\t\t\t\t\t\t\n",
    "!!\t-----\t\t\t\t\t\t\t\t\t\t\t\t\t\t\t\t\n",
    "!!\tSoil-class parameters\t\t\t\t\t\t\t\t\t\t\t\t\t\t\t\t\n",
    "!!\tS1\tS2\tS3\tS4\tS5\tS6\tS7\tS8\tS9\tS10\tS11\tS12\t\t\t\t\t\n",
    "!! surfacerunoff submodel: 0, soilleakage submodel: 0\"\"\"\n",
    "]"
   ]
  },
  {
   "cell_type": "code",
   "execution_count": 47,
   "id": "641bd8df-7e77-4241-96aa-94c3d81793f4",
   "metadata": {},
   "outputs": [],
   "source": [
    "# write s11 in output file\n",
    "with open(output_file, 'a') as file:\n",
    "    # Write the commented lines\n",
    "    for line in s11:\n",
    "        file.write(line + '\\n')"
   ]
  },
  {
   "cell_type": "code",
   "execution_count": 48,
   "id": "6be2e0d3-e496-4c2d-bfab-8f305cc16d5b",
   "metadata": {},
   "outputs": [],
   "source": [
    "# create df12 for S1-12\n",
    "rrcs1=[0.0872,0.0872,8.693877E-02,5.475550E-01,0.451,0.1637,0.1637,0.0872,0.0872,0.1637,0.0872,0.0872,0.0872]\n",
    "rrcs2=[0.0033,0.0033,2.961980E-01,3.698417E-02,0.0112,0.1914,0.1914,0.0033,0.0033,0.1914,0.0033,0.0033,0.0033]\n",
    "sfrost=[1,1,1,1,1,1,1,1,1,1,1,1,1]\n",
    "srrate=[0.2,0.2,0.2,0.2,0.2,0.2,0.2,0.2,0.2,0.2,0.2,0.2,0.2]\n",
    "wcwp1=[0.2732,0.2732,0.214,0.1479,0.4233,0.4941,0.4941,0.4941,0.4941,0.4941,0.4941,0.4941,0.4941]\n",
    "wcwp2=[0.2293,0.2293,0.256,0.0984,0.4303,0.1308,0.1308,0.1308,0.1308,0.1308,0.1308,0.1308,0.1308]\n",
    "wcwp3=[0.3257,0.3257,0.058,0.3639,0.0433,0.3632,0.3632,0.3632,0.3632,0.3632,0.3632,0.3632,0.3632]\n",
    "wcfc1=[0.4344,0.4344,0.1758,0.3526,0.4812,0.4894,0.4894,0.4894,0.4894,0.4894,0.4894,0.4894,0.4894]\n",
    "wcfc2=[0.1392,0.1392,0.1966,0.3818,0.1163,0.2385,0.2385,0.2385,0.2385,0.2385,0.2385,0.2385,0.2385]\n",
    "wcfc3=[0.2307,0.2307,0.2075,0.4055,0.077,0.343,0.343,0.343,0.343,0.343,0.343,0.343,0.343]\n",
    "wcep1=[0.8729,0.8729,0.4168,0.8743,0.5142,0.0117,0.0117,0.0117,0.0117,0.0117,0.0117,0.0117,0.0117]\n",
    "wcep2=[0.1177,0.1177,0.2773,0.0329,0.8547,0.087,0.087,0.087,0.087,0.087,0.087,0.087,0.087]\n",
    "wcep3=[0.3064,0.3064,0.8004,0.5832,0.474,0.8299,0.8299,0.8299,0.8299,0.8299,0.8299,0.8299,0.8299]\n",
    "df12_row=['rrcs1','rrcs2','sfrost','srrate','wcwp1','wcwp2','wcwp3',\n",
    "         'wcfc1','wcfc2','wcfc3','wcep1','wcep2','wcep3']\n",
    "df12=pd.DataFrame([rrcs1,rrcs2,sfrost,srrate,wcwp1,wcwp2,wcwp3,wcfc1,\n",
    "                  wcfc2,wcfc3,wcep1,wcep2,wcep3], index=df12_row)"
   ]
  },
  {
   "cell_type": "code",
   "execution_count": 49,
   "id": "d70a6072-bdb8-42b6-9788-1ef3f661b9ae",
   "metadata": {},
   "outputs": [],
   "source": [
    "# create the corresponding comments\n",
    "c66 = [\n",
    "    \"!! recession coefficient for uppermost soil layer\",\n",
    "    \"!! recession coefficient for lowest soil layer\",\n",
    "    \"!! maximum percolation capacity from soil layer one to soil layer two\",\n",
    "    \"!! maximum percolation capacity from soil layer two to soil layer three\",\n",
    "    \"!! frost depth parameter\",\n",
    "    \"!! fraction for surface runoff\",\n",
    "    \"!! wilting point as a fraction for uppermost soil layer\",\n",
    "    \"!! wilting point as a fraction for second soil layer\",\n",
    "    \"!! wilting point as a fraction for lowest soil layer\",\n",
    "    \"!! fraction of soil available for evapotranspiration but not for runoff for uppermost soil layer\",\n",
    "    \"!! fraction of soil available for evapotranspiration but not for runoff for second soil layer\",\n",
    "    \"!! fraction of soil available for evapotranspiration but not for runoff for lowest soil layer\",\n",
    "    \"!! effective porosity as a fraction for uppermost soil layer\",\n",
    "    \"!! effective porosity as a fraction for second soil layer\",\n",
    "    \"!! effective porosity as a fraction for lowest soil layer\",\n",
    "    \"!! recession coefficient for surface runoff should be set to one for lake and riverclasses with floodplains\"\n",
    "]"
   ]
  },
  {
   "cell_type": "code",
   "execution_count": 50,
   "id": "cc3fb7d2-1099-447c-b9c8-5f9a00c32f98",
   "metadata": {},
   "outputs": [],
   "source": [
    "# append c66 and df12\n",
    "with open(output_file, 'a') as file:\n",
    "    # Iterate over DataFrame rows\n",
    "    for i, (index, row) in enumerate(df12.iterrows()):\n",
    "        # Check if there is a comment line for the current row\n",
    "        if i < len(c66):\n",
    "            # Write the row name, values, and comment on the same line\n",
    "            line = str(index) + '\\t' + '\\t'.join(str(val) for val in row.values) + '\\t' + c66[i] + '\\n'\n",
    "        else:\n",
    "            # Write the row name and values without comment on the same line\n",
    "            line = str(index) + '\\t' + '\\t'.join(str(val) for val in row.values) + '\\n'\n",
    "        \n",
    "        # Write the line to the file\n",
    "        file.write(line)"
   ]
  },
  {
   "cell_type": "code",
   "execution_count": 51,
   "id": "911a2131-311e-4c3c-a3e9-abe95c419216",
   "metadata": {},
   "outputs": [],
   "source": [
    "# create df13\n",
    "df13_row=['rrcs3']\n",
    "df13_val=[[7.163663E-02]]\n",
    "df13=pd.DataFrame(df13_val, index=df13_row, columns=None)"
   ]
  },
  {
   "cell_type": "code",
   "execution_count": 52,
   "id": "8b7f78e0-0594-4c43-9e1e-82617043c220",
   "metadata": {},
   "outputs": [],
   "source": [
    "# create the corresponding comments\n",
    "c2745 = [\n",
    "    \"!! recession coefficient for slope dependence (upper layer)\",\n",
    "]"
   ]
  },
  {
   "cell_type": "code",
   "execution_count": 53,
   "id": "a3333b91-b5a1-4e8a-9d0a-46ddec42173b",
   "metadata": {},
   "outputs": [],
   "source": [
    "# append c2745 and df13\n",
    "with open(output_file, 'a') as file:\n",
    "    # Iterate over DataFrame rows\n",
    "    for i, (index, row) in enumerate(df13.iterrows()):\n",
    "        # Check if there is a comment line for the current row\n",
    "        if i < len(c2745):\n",
    "            # Write the row name, values, and comment on the same line\n",
    "            line = str(index) + '\\t' + '\\t'.join(str(val) for val in row.values) + '\\t' + c2745[i] + '\\n'\n",
    "        else:\n",
    "            # Write the row name and values without comment on the same line\n",
    "            line = str(index) + '\\t' + '\\t'.join(str(val) for val in row.values) + '\\n'\n",
    "        \n",
    "        # Write the line to the file\n",
    "        file.write(line)"
   ]
  },
  {
   "cell_type": "code",
   "execution_count": 54,
   "id": "88ab8cf1-037b-482f-9bf2-eaa29653874b",
   "metadata": {},
   "outputs": [],
   "source": [
    "#create df147\n",
    "df147_row=['srrcs']\n",
    "srrcs=[0.0276,0.0701,0.187,0.1977,0.0276,0.0276,0.1594,1.928428E-01,0.1136,1.215567E-02,1.928428E-01,1.215567E-02,0.1213,1.0,1.599947E-01,0.1213,0.126,1.0,0.1213]\n",
    "df147=pd.DataFrame([srrcs], index=df147_row)"
   ]
  },
  {
   "cell_type": "code",
   "execution_count": 55,
   "id": "7288170f-4a39-4ed1-b9e9-d2784ed46ff8",
   "metadata": {},
   "outputs": [],
   "source": [
    "# create the corresponding comments\n",
    "c458 = [\n",
    "    \"!! (landuse) recession coefficient for surface runoff should be set to one for lake and riverclasses with floodplains\"\n",
    "]"
   ]
  },
  {
   "cell_type": "code",
   "execution_count": 56,
   "id": "d9c19430-1431-4ca1-b2dd-f2f639db0959",
   "metadata": {},
   "outputs": [],
   "source": [
    "# append c458 and df147\n",
    "with open(output_file, 'a') as file:\n",
    "    # Iterate over DataFrame rows\n",
    "    for i, (index, row) in enumerate(df147.iterrows()):\n",
    "        # Check if there is a comment line for the current row\n",
    "        if i < len(c458):\n",
    "            # Write the row name, values, and comment on the same line\n",
    "            line = str(index) + '\\t' + '\\t'.join(str(val) for val in row.values) + '\\t' + c458[i] + '\\n'\n",
    "        else:\n",
    "            # Write the row name and values without comment on the same line\n",
    "            line = str(index) + '\\t' + '\\t'.join(str(val) for val in row.values) + '\\n'\n",
    "        \n",
    "        # Write the line to the file\n",
    "        file.write(line)"
   ]
  },
  {
   "cell_type": "markdown",
   "id": "b37341d3-c375-4791-9258-149acf324896",
   "metadata": {},
   "source": [
    "Groundwater flow parameters"
   ]
  },
  {
   "cell_type": "code",
   "execution_count": 57,
   "id": "53f3cb7e-16fb-4e80-8f90-c030643c2252",
   "metadata": {},
   "outputs": [],
   "source": [
    "# create s13\n",
    "s13= [\n",
    "\"\"\"!!\t-----\t\t\t\t\t\t\t\t\t\t\t\t\t\t\t\t\n",
    "!!\tRegional groundwater outflow\t\t\t\t\t\t\t\t\t\t\t\t\t\t\t\t\n",
    "!! for deepground submodel: 0\"\"\"\n",
    "]"
   ]
  },
  {
   "cell_type": "code",
   "execution_count": 58,
   "id": "1f7475f2-5448-4c31-b531-b5d06369b3b1",
   "metadata": {},
   "outputs": [],
   "source": [
    "# write s13 in output file\n",
    "with open(output_file, 'a') as file:\n",
    "    # Write the commented lines\n",
    "    for line in s13:\n",
    "        file.write(line + '\\n')"
   ]
  },
  {
   "cell_type": "code",
   "execution_count": 59,
   "id": "70d48515-1545-422d-bbc9-45b382beee1e",
   "metadata": {},
   "outputs": [],
   "source": [
    "# create df14\n",
    "df14_row=['rcgrw']\n",
    "df14_val=[0]\n",
    "df14=pd.DataFrame(df14_val, index=df14_row, columns=None)"
   ]
  },
  {
   "cell_type": "code",
   "execution_count": 60,
   "id": "eccba46e-489b-4800-8aca-43ed02b545aa",
   "metadata": {},
   "outputs": [],
   "source": [
    "# create the corresponding comments\n",
    "c6 = [\n",
    "    \"!! recession coefficient for regional groundwater outflow from soil layers (set to zero because we are not considering deepground)\",\n",
    "]"
   ]
  },
  {
   "cell_type": "code",
   "execution_count": 61,
   "id": "ed3caa6f-ca29-4c2b-bf09-99d5460cfff0",
   "metadata": {},
   "outputs": [],
   "source": [
    "# append c6 and df14\n",
    "with open(output_file, 'a') as file:\n",
    "    # Iterate over DataFrame rows\n",
    "    for i, (index, row) in enumerate(df14.iterrows()):\n",
    "        # Check if there is a comment line for the current row\n",
    "        if i < len(c6):\n",
    "            # Write the row name, values, and comment on the same line\n",
    "            line = str(index) + '\\t' + '\\t'.join(str(val) for val in row.values) + '\\t' + c6[i] + '\\n'\n",
    "        else:\n",
    "            # Write the row name and values without comment on the same line\n",
    "            line = str(index) + '\\t' + '\\t'.join(str(val) for val in row.values) + '\\n'\n",
    "        \n",
    "        # Write the line to the file\n",
    "        file.write(line)"
   ]
  },
  {
   "cell_type": "markdown",
   "id": "275b8b29-757e-416b-8e5f-d71612103bfd",
   "metadata": {},
   "source": [
    "Lake and river parameters"
   ]
  },
  {
   "cell_type": "code",
   "execution_count": 62,
   "id": "20afd2bf-211e-4c08-a3ce-c35d863a81c0",
   "metadata": {},
   "outputs": [],
   "source": [
    "# create s17\n",
    "s17= [\n",
    "\"\"\"!!\t-----\t\t\t\t\t\t\t\t\t\t\t\t\t\t\t\t\n",
    "!!\tLAKE DISCHARGE\t\t\t\t\t\t\t\t\t\n",
    "!!\t-----\t\t\t\t\t\t\t\t\t\n",
    "!!\t-----\t\t\t\t\t\t\t\t\t\n",
    "!!\t\"ILAKE and OLAKE REGIONAL PARAMETERS (1 ilakeregions , defined in geodata)\"\t\t\t\t\t\t\t\t\t\n",
    "!!\tILAKE parameters\t\t\t\t\t\t\t\t\t\n",
    "!!\tPPR (Prairie Pothole Region)\t\t\t\t\t\t\t\t\t\n",
    "!! ilRegion\tPPR 1\t\t\t\t\"\"\"\n",
    "]"
   ]
  },
  {
   "cell_type": "code",
   "execution_count": 63,
   "id": "27f0933b-baf5-4269-ba34-3d9cfed349d7",
   "metadata": {},
   "outputs": [],
   "source": [
    "# write s17 in output file\n",
    "with open(output_file, 'a') as file:\n",
    "    # Write the commented lines\n",
    "    for line in s17:\n",
    "        file.write(line + '\\n')"
   ]
  },
  {
   "cell_type": "code",
   "execution_count": 64,
   "id": "e0d60047-a5aa-455d-b317-447dab17de9f",
   "metadata": {},
   "outputs": [],
   "source": [
    "# create df18 for PPR 1-10\n",
    "ilratk=[1,2,3,4,5] \n",
    "ilratp=[1,1,1,1,1] \n",
    "ilicatch=[1,1,1,1,1]\n",
    "illdepth=[10,11,12,13,14]\n",
    "df18_row=['ilratk','ilratp','ilicatch','illdepth']\n",
    "df18=pd.DataFrame([ilratk,ilratp,ilicatch,illdepth], index=df18_row)"
   ]
  },
  {
   "cell_type": "code",
   "execution_count": 65,
   "id": "edb9e42c-4a22-4f42-b2d4-6f74959afc58",
   "metadata": {},
   "outputs": [],
   "source": [
    "# create the corresponding comments\n",
    "c88 = [\n",
    "    \"!! parameter of rating curve for ilake outflow \",\n",
    "    \"!! parameter of rating curve for ilake outflow\",\n",
    "    \"!! fraction of local runoff that goes through the ilake\"\n",
    "]\n",
    "    "
   ]
  },
  {
   "cell_type": "code",
   "execution_count": 66,
   "id": "d600c496-261e-423c-972d-7a5cba3160f2",
   "metadata": {},
   "outputs": [],
   "source": [
    "# append c88 and df18\n",
    "with open(output_file, 'a') as file:\n",
    "    # Iterate over DataFrame rows\n",
    "    for i, (index, row) in enumerate(df18.iterrows()):\n",
    "        # Check if there is a comment line for the current row\n",
    "        if i < len(c88):\n",
    "            # Write the row name, values, and comment on the same line\n",
    "            line = str(index) + '\\t' + '\\t'.join(str(val) for val in row.values) + '\\t' + c88[i] + '\\n'\n",
    "        else:\n",
    "            # Write the row name and values without comment on the same line\n",
    "            line = str(index) + '\\t' + '\\t'.join(str(val) for val in row.values) + '\\n'\n",
    "        \n",
    "        # Write the line to the file\n",
    "        file.write(line)"
   ]
  },
  {
   "cell_type": "markdown",
   "id": "4487ed74-c398-453d-9987-de452fa2d41f",
   "metadata": {},
   "source": [
    "River routing parameters"
   ]
  },
  {
   "cell_type": "code",
   "execution_count": 67,
   "id": "37f5b7b9-643d-4b79-9e79-383dadfb79bc",
   "metadata": {},
   "outputs": [],
   "source": [
    "# create s19\n",
    "s19= [\n",
    "\"\"\"!!\t\t\t\t\t\t\t\t\t\t\t\t\t\t\t\t\t\n",
    "!!\t=======================================================================================================\t\t\t\t\t\t\t\t\t\t\t\t\t\t\t\t\n",
    "!!\tRIVER ROUTING\t\t\t\t\t\t\t\t\t\t\t\t\t\t\t\t\n",
    "!!\t-----\t\t\t\n",
    "!! for riverflow submodel:1?\"\"\"\n",
    "]"
   ]
  },
  {
   "cell_type": "code",
   "execution_count": 68,
   "id": "c2e94c67-71dd-41e3-a601-0040fa2862f9",
   "metadata": {},
   "outputs": [],
   "source": [
    "# write s19 in output file\n",
    "with open(output_file, 'a') as file:\n",
    "    # Write the commented lines\n",
    "    for line in s19:\n",
    "        file.write(line + '\\n')"
   ]
  },
  {
   "cell_type": "code",
   "execution_count": 69,
   "id": "20a72e8d-27f7-4629-8d03-43f4817d5a69",
   "metadata": {},
   "outputs": [],
   "source": [
    "# create df19\n",
    "df19_row=['damp','rivvel','qmean']\n",
    "df19_val=[9.037431E-01,3.479142E-01,200]\n",
    "df19=pd.DataFrame(df19_val, index=df19_row, columns=None)"
   ]
  },
  {
   "cell_type": "code",
   "execution_count": 70,
   "id": "555af63b-d329-4895-a213-2a166f3b5660",
   "metadata": {},
   "outputs": [],
   "source": [
    "# create the corresponding comments\n",
    "c9 = [\n",
    "    \"!! fraction of delay in the watercourse which also causes damping\",\n",
    "    \"!! celerity of flood in watercourse\",\n",
    "    \"!! initial value for calculation of mean flow \",\n",
    "]"
   ]
  },
  {
   "cell_type": "code",
   "execution_count": 71,
   "id": "a73c61d1-bba3-4874-87de-3f44e308f560",
   "metadata": {},
   "outputs": [],
   "source": [
    "# append c9 and df19\n",
    "with open(output_file, 'a') as file:\n",
    "    # Iterate over DataFrame rows\n",
    "    for i, (index, row) in enumerate(df19.iterrows()):\n",
    "        # Check if there is a comment line for the current row\n",
    "        if i < len(c9):\n",
    "            # Write the row name, values, and comment on the same line\n",
    "            line = str(index) + '\\t' + '\\t'.join(str(val) for val in row.values) + '\\t' + c9[i] + '\\n'\n",
    "        else:\n",
    "            # Write the row name and values without comment on the same line\n",
    "            line = str(index) + '\\t' + '\\t'.join(str(val) for val in row.values) + '\\n'\n",
    "        \n",
    "        # Write the line to the file\n",
    "        file.write(line)"
   ]
  }
 ],
 "metadata": {
  "kernelspec": {
   "display_name": "easymore-env",
   "language": "python",
   "name": "easymore-env"
  },
  "language_info": {
   "codemirror_mode": {
    "name": "ipython",
    "version": 3
   },
   "file_extension": ".py",
   "mimetype": "text/x-python",
   "name": "python",
   "nbconvert_exporter": "python",
   "pygments_lexer": "ipython3",
   "version": "3.8.10"
  }
 },
 "nbformat": 4,
 "nbformat_minor": 5
}
