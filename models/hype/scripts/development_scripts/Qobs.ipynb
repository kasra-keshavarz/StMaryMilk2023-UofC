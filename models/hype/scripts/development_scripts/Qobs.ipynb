{
 "cells": [
  {
   "cell_type": "code",
   "execution_count": 1,
   "id": "afbf40b7-b835-46b9-9050-7000d10315a8",
   "metadata": {},
   "outputs": [],
   "source": [
    "import pandas as pd"
   ]
  },
  {
   "cell_type": "code",
   "execution_count": 2,
   "id": "4cb4d3ff-cbe8-4eff-ac43-920f13a7c301",
   "metadata": {},
   "outputs": [],
   "source": [
    "def initialize_qobs(file_path, station_id):\n",
    "    # Read the text file into a DataFrame\n",
    "    df = pd.read_csv(file_path, sep='\\t')\n",
    "\n",
    "    # Convert the index to datetime (if not already in datetime format)\n",
    "    df.index = pd.to_datetime(df.index)\n",
    "    \n",
    "    # Check and update the index range\n",
    "    expected_index = pd.date_range('1980-01-01', '2015-12-31')\n",
    "    if not df.index.equals(expected_index):\n",
    "        df = df.reindex(expected_index, fill_value=-9999)\n",
    "        \n",
    "        # Set the 'Date' column as the index\n",
    "    df.index.name = 'Date'\n",
    "    \n",
    "    # Rename the only column after the given station ID\n",
    "    df.rename(columns={df.columns[0]: station_id}, inplace=True)\n",
    "\n",
    "    return df"
   ]
  },
  {
   "cell_type": "code",
   "execution_count": 3,
   "id": "e3e18517-8a59-4f61-960a-118ed169bedf",
   "metadata": {},
   "outputs": [],
   "source": [
    "def addto_qobs(file_path, station_id, qobs):\n",
    "    # Read the text file into a DataFrame\n",
    "    df = pd.read_csv(file_path, sep='\\t')\n",
    "\n",
    "    # Convert the index to datetime (if not already in datetime format)\n",
    "    df.index = pd.to_datetime(df.index)\n",
    "    \n",
    "    # Check and update the index range\n",
    "    expected_index = pd.date_range('1980-01-01', '2015-12-31')\n",
    "    if not df.index.equals(expected_index):\n",
    "        df = df.reindex(expected_index, fill_value=-9999)\n",
    "        \n",
    "    # Set the 'Date' column as the index\n",
    "    df.index.name = 'Date'\n",
    "    \n",
    "    # Rename the only column after the given station ID\n",
    "    df.rename(columns={df.columns[0]: station_id}, inplace=True)\n",
    "\n",
    "    # Merge flow_df with df based on matching index (dates)\n",
    "    qobs = qobs.merge(df, left_index=True, right_index=True, how='left')\n",
    "\n",
    "    return qobs"
   ]
  },
  {
   "cell_type": "code",
   "execution_count": 4,
   "id": "a25bebf6-98e3-49f2-aa71-eeb4db767b17",
   "metadata": {},
   "outputs": [],
   "source": [
    "qobs= initialize_qobs('/home/paulc600/local/Natural_flows/Final_Nat/06133000.txt', 58408)"
   ]
  },
  {
   "cell_type": "code",
   "execution_count": 5,
   "id": "5a8f7cd3-6c68-4b1b-8582-000304c0ac33",
   "metadata": {},
   "outputs": [],
   "source": [
    "qobs= addto_qobs('/home/paulc600/local/Natural_flows/Final_Nat/06133500.txt', 58643, qobs)"
   ]
  },
  {
   "cell_type": "code",
   "execution_count": 6,
   "id": "3ddf0ff1-242e-4ce7-b9a5-970613007075",
   "metadata": {},
   "outputs": [],
   "source": [
    "qobs= addto_qobs('/home/paulc600/local/Natural_flows/Final_Nat/06135000.txt', 58308, qobs)"
   ]
  },
  {
   "cell_type": "code",
   "execution_count": 7,
   "id": "70933c94-5039-41ff-aad3-b834840e3b53",
   "metadata": {},
   "outputs": [],
   "source": [
    "qobs= addto_qobs('/home/paulc600/local/Natural_flows/Final_Nat/06139500.txt', 58346, qobs)"
   ]
  },
  {
   "cell_type": "code",
   "execution_count": 8,
   "id": "a7a76e07-f0ea-4aba-bb7c-42b603324132",
   "metadata": {},
   "outputs": [],
   "source": [
    "qobs= addto_qobs('/home/paulc600/local/Natural_flows/Final_Nat/06142400.txt', 58435, qobs)"
   ]
  },
  {
   "cell_type": "code",
   "execution_count": 9,
   "id": "4fd45c03-5e47-4813-84b4-7c98204beee9",
   "metadata": {},
   "outputs": [],
   "source": [
    "qobs= addto_qobs('/home/paulc600/local/Natural_flows/Final_Nat/06145500.txt', 58356, qobs)"
   ]
  },
  {
   "cell_type": "code",
   "execution_count": 10,
   "id": "dbff2b58-80d3-427b-a997-11df8c6520c2",
   "metadata": {},
   "outputs": [],
   "source": [
    "qobs= addto_qobs('/home/paulc600/local/Natural_flows/Final_Nat/06149500.txt', 58363, qobs)"
   ]
  },
  {
   "cell_type": "code",
   "execution_count": 11,
   "id": "b7a1ac1c-86af-4b1c-9e72-9a8196723e33",
   "metadata": {},
   "outputs": [],
   "source": [
    "qobs= addto_qobs('/home/paulc600/local/Natural_flows/Final_Nat/06154550.txt', 58418, qobs)"
   ]
  },
  {
   "cell_type": "code",
   "execution_count": 12,
   "id": "f0956f53-7b97-4478-ae6e-e3b3b165671d",
   "metadata": {},
   "outputs": [],
   "source": [
    "qobs= addto_qobs('/home/paulc600/local/Natural_flows/Final_Nat/06164000.txt', 58290, qobs)"
   ]
  },
  {
   "cell_type": "code",
   "execution_count": 13,
   "id": "2f970041-2770-4386-b903-fe3261745ffc",
   "metadata": {},
   "outputs": [],
   "source": [
    "qobs= addto_qobs('/home/paulc600/local/Natural_flows/Final_Nat/06167500.txt', 58328, qobs)"
   ]
  },
  {
   "cell_type": "code",
   "execution_count": 14,
   "id": "90c89223-611f-45a8-a623-299579c3b309",
   "metadata": {},
   "outputs": [],
   "source": [
    "qobs= addto_qobs('/home/paulc600/local/Natural_flows/Final_Nat/06171000.txt', 58292, qobs)"
   ]
  },
  {
   "cell_type": "code",
   "execution_count": 15,
   "id": "0a2f550b-d2ae-480d-9daf-c08f93224b65",
   "metadata": {},
   "outputs": [],
   "source": [
    "qobs.to_csv('/home/paulc600/scratch/final_hype_setup/03_milk/data/Qobs.txt', sep='\\t')"
   ]
  },
  {
   "cell_type": "code",
   "execution_count": null,
   "id": "4d0430bc-eea8-48d1-9160-03b400d6090d",
   "metadata": {},
   "outputs": [],
   "source": []
  }
 ],
 "metadata": {
  "kernelspec": {
   "display_name": "easymore-env",
   "language": "python",
   "name": "easymore-env"
  },
  "language_info": {
   "codemirror_mode": {
    "name": "ipython",
    "version": 3
   },
   "file_extension": ".py",
   "mimetype": "text/x-python",
   "name": "python",
   "nbconvert_exporter": "python",
   "pygments_lexer": "ipython3",
   "version": "3.8.10"
  }
 },
 "nbformat": 4,
 "nbformat_minor": 5
}
