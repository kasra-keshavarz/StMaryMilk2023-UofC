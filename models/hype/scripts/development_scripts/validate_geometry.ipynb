{
 "cells": [
  {
   "cell_type": "code",
   "execution_count": 1,
   "id": "71b40fbb-9794-4ad9-98a4-a301aa1a6cdc",
   "metadata": {},
   "outputs": [],
   "source": [
    "import geopandas as gpd\n",
    "from shapely.geometry import MultiPolygon"
   ]
  },
  {
   "cell_type": "code",
   "execution_count": 2,
   "id": "621cefce-30ed-489e-a845-bbd78463a64d",
   "metadata": {},
   "outputs": [],
   "source": [
    "# Step 1: Read the shapefile\n",
    "shapefile_path = \"/home/paulc600/local/SMM/Modified_HYPE/Modified_SMMcat.shp\"\n",
    "gdf = gpd.read_file(shapefile_path)"
   ]
  },
  {
   "cell_type": "code",
   "execution_count": 3,
   "id": "91e2fa81-b0d7-4366-be68-91bc67b88388",
   "metadata": {},
   "outputs": [],
   "source": [
    "# Step 2: Validate and correct geometries\n",
    "def make_valid_geometry(geom):\n",
    "    if geom.is_valid:\n",
    "        return geom\n",
    "    else:\n",
    "        return geom.buffer(0)"
   ]
  },
  {
   "cell_type": "code",
   "execution_count": 4,
   "id": "6ce84483-a527-4f90-88f9-ec7f241225f0",
   "metadata": {},
   "outputs": [],
   "source": [
    "gdf_validated = gdf.copy()\n",
    "gdf_validated['geometry'] = gdf_validated['geometry'].apply(make_valid_geometry)"
   ]
  },
  {
   "cell_type": "code",
   "execution_count": 5,
   "id": "8a2c34b5-2215-47e9-aeb3-1cde48053baa",
   "metadata": {},
   "outputs": [],
   "source": [
    "# If your shapefile contains MultiPolygons, convert them to Polygons\n",
    "gdf_validated['geometry'] = gdf_validated['geometry'].apply(lambda geom: geom if isinstance(geom, MultiPolygon) else MultiPolygon([geom]))"
   ]
  },
  {
   "cell_type": "code",
   "execution_count": 6,
   "id": "e25e6556-4ac1-4ec7-ac91-98bd4dfef31e",
   "metadata": {},
   "outputs": [],
   "source": [
    "# Step 3: Save the corrected GeoDataFrame back to a shapefile\n",
    "output_shapefile_path = \"/home/paulc600/local/Final_SMM/HYPE_Geospacial/HYPE_validated_shapefile.shp\"\n",
    "gdf_validated.to_file(output_shapefile_path)"
   ]
  }
 ],
 "metadata": {
  "kernelspec": {
   "display_name": "easymore-env",
   "language": "python",
   "name": "easymore-env"
  },
  "language_info": {
   "codemirror_mode": {
    "name": "ipython",
    "version": 3
   },
   "file_extension": ".py",
   "mimetype": "text/x-python",
   "name": "python",
   "nbconvert_exporter": "python",
   "pygments_lexer": "ipython3",
   "version": "3.8.10"
  }
 },
 "nbformat": 4,
 "nbformat_minor": 5
}
