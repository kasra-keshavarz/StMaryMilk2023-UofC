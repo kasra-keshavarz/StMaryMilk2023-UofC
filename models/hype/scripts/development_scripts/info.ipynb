{
 "cells": [
  {
   "cell_type": "code",
   "execution_count": null,
   "id": "a0cee08e-980e-4a76-b41c-bfffd7f39f38",
   "metadata": {},
   "outputs": [],
   "source": [
    "import os\n",
    "import geopandas as gpd\n",
    "import pandas as pd\n",
    "import numpy as np\n",
    "import math"
   ]
  },
  {
   "cell_type": "code",
   "execution_count": null,
   "id": "9e6fc2bc-79d1-4e29-b784-d1f072c59f13",
   "metadata": {},
   "outputs": [],
   "source": [
    "# Output info to a .txt file\n",
    "output_file = '/home/paulc600/scratch/calhype/01_cal_KK/info.txt'"
   ]
  },
  {
   "cell_type": "code",
   "execution_count": null,
   "id": "2af49ae4-a78e-4e06-85eb-1e6cbf41319e",
   "metadata": {},
   "outputs": [],
   "source": [
    "# write out first text section\n",
    "s1= [\n",
    "\"\"\"!! ----------------------------------------------------------------------------\t\t\t\t\t\t\t\n",
    "!!\t\t\t\t\t\t\t\n",
    "!! HYPE - Milk River & St. Mary's River HYPE\n",
    "!!\t\t\t\t\t\t\t\n",
    "!! -----------------------------------------------------------------------------\t\t\t\t\t\t\t\n",
    "!! Check Indata during first runs (deactivate after first runs) \"\"\"\n",
    "]"
   ]
  },
  {
   "cell_type": "code",
   "execution_count": null,
   "id": "1d99401c-e25a-429b-be6a-994a41bf43ea",
   "metadata": {},
   "outputs": [],
   "source": [
    "# write s1 in output file\n",
    "with open(output_file, 'w') as file:\n",
    "    # Write the commented lines\n",
    "    for line in s1:\n",
    "        file.write(line + '\\n')"
   ]
  },
  {
   "cell_type": "code",
   "execution_count": null,
   "id": "205500a5-e91a-4abe-988e-f029335c6282",
   "metadata": {},
   "outputs": [],
   "source": [
    "# create first dataframe\n",
    "df1_row=['indatacheckonoff','indatachecklevel']\n",
    "df1_val=[0,0]\n",
    "df1=pd.DataFrame(df1_val, index=df1_row, columns=None)"
   ]
  },
  {
   "cell_type": "code",
   "execution_count": null,
   "id": "1d7647a9-9627-4801-84c2-936bf1310d38",
   "metadata": {},
   "outputs": [],
   "source": [
    "# append df1\n",
    "with open(output_file, 'a') as file:\n",
    "    # Write the DataFrame to the file\n",
    "    df1.to_csv(file, sep='\\t', index=True, header=False, line_terminator='\\n')"
   ]
  },
  {
   "cell_type": "code",
   "execution_count": null,
   "id": "72a28d7f-1100-47fe-8d15-70d41c1be395",
   "metadata": {},
   "outputs": [],
   "source": [
    "# write out first text section\n",
    "s2= [\n",
    "\"\"\"!!\n",
    "!! -----------------------------------------------------------------------------\t\t\t\t\t\t\t\n",
    "!!\t\t\t\t\t\t\n",
    "!! Simulation settings:\t\t\t\t\t\t\t\n",
    "!!\t\t\t\t\t\t\t\n",
    "!! -----------------\t \"\"\"\n",
    "]"
   ]
  },
  {
   "cell_type": "code",
   "execution_count": null,
   "id": "db40330b-d3d7-4ec6-8952-2085748fe319",
   "metadata": {},
   "outputs": [],
   "source": [
    "# write s2 in output file\n",
    "with open(output_file, 'a') as file:\n",
    "    # Write the commented lines\n",
    "    for line in s2:\n",
    "        file.write(line + '\\n')"
   ]
  },
  {
   "cell_type": "code",
   "execution_count": null,
   "id": "7579c977-b0ad-4dfa-8eb8-549d61708f20",
   "metadata": {},
   "outputs": [],
   "source": [
    "# create df2\n",
    "df2_row=['bdate','edate','resultdir','instate', 'warning']\n",
    "df2_val=['1980-01-01','2015-12-31','./', 'n','y']\n",
    "df2=pd.DataFrame(df2_val, index=df2_row, columns=None)"
   ]
  },
  {
   "cell_type": "code",
   "execution_count": null,
   "id": "9761a51d-0c85-4331-992e-3961e240a64b",
   "metadata": {},
   "outputs": [],
   "source": [
    "# append df2\n",
    "with open(output_file, 'a') as file:\n",
    "    # Write the DataFrame to the file\n",
    "    df2.to_csv(file, sep='\\t', index=True, header=False, line_terminator='\\n')"
   ]
  },
  {
   "cell_type": "code",
   "execution_count": null,
   "id": "f6ed759b-314b-48b5-a611-fd7762706264",
   "metadata": {},
   "outputs": [],
   "source": [
    "# write out s3\n",
    "s3= [\n",
    "\"\"\"!! outstatedate \"\"\"\n",
    "]"
   ]
  },
  {
   "cell_type": "code",
   "execution_count": null,
   "id": "150172bd-0247-465b-8e02-dc6eadcca90a",
   "metadata": {},
   "outputs": [],
   "source": [
    "# write s3 in output file\n",
    "with open(output_file, 'a') as file:\n",
    "    # Write the commented lines\n",
    "    for line in s3:\n",
    "        file.write(line + '\\n')"
   ]
  },
  {
   "cell_type": "code",
   "execution_count": null,
   "id": "5c5e14cb-a7c7-499d-ba49-2b44ff90178a",
   "metadata": {},
   "outputs": [],
   "source": [
    "# create df3\n",
    "df3_row=['readdaily','submodel','calibration','readobsid','soilstretch']\n",
    "df3_val=['n','n','n','n','n']\n",
    "df3=pd.DataFrame(df3_val, index=df3_row, columns=None)"
   ]
  },
  {
   "cell_type": "code",
   "execution_count": null,
   "id": "50349926-e965-4ccd-bdc3-29a5ff24aa93",
   "metadata": {},
   "outputs": [],
   "source": [
    "# append df3\n",
    "with open(output_file, 'a') as file:\n",
    "    # Write the DataFrame to the file\n",
    "    df3.to_csv(file, sep='\\t', index=True, header=False, line_terminator='\\n')"
   ]
  },
  {
   "cell_type": "code",
   "execution_count": null,
   "id": "9c096930-3c12-4da4-b921-cc54998dabb3",
   "metadata": {},
   "outputs": [],
   "source": [
    "# write out s4\n",
    "s4= [\n",
    "\"\"\"!! -----------------------------------------------------------------------------\t\t\t\t\t\t\t\n",
    "!!\t\t\t\t\t\t\t\n",
    "!! Enable/disable optional input files\n",
    "!!\t\t\t\t\t\t\t\n",
    "!! -----------------\t\t\t\t\t\"\"\"\n",
    "]"
   ]
  },
  {
   "cell_type": "code",
   "execution_count": null,
   "id": "0d9b038a-4585-47f9-8b51-76016e506283",
   "metadata": {},
   "outputs": [],
   "source": [
    "# write s4 in output file\n",
    "with open(output_file, 'a') as file:\n",
    "    # Write the commented lines\n",
    "    for line in s4:\n",
    "        file.write(line + '\\n')"
   ]
  },
  {
   "cell_type": "code",
   "execution_count": null,
   "id": "a53d9cd7-30f8-424a-ae17-78df5c2496e3",
   "metadata": {},
   "outputs": [],
   "source": [
    "# create df4\n",
    "df4_row=['readsfobs','readswobs','readuobs','readrhobs','readtminobs','readtmaxobs','soiliniwet','usestop84']\n",
    "df4_val=['n','n','n','n','y','y','n','n']\n",
    "df4=pd.DataFrame(df4_val, index=df4_row, columns=None)"
   ]
  },
  {
   "cell_type": "code",
   "execution_count": null,
   "id": "f55ba3a9-0514-4664-8b0c-d19d3736b2e6",
   "metadata": {},
   "outputs": [],
   "source": [
    "# create the corresponding comments\n",
    "c1 = [\n",
    "    \"!! For observed snowfall fractions in SFobs.txt\",\n",
    "    \"!! For observed shortwave radiation in SWobs.txt\",\n",
    "    \"!! For observed wind speeds in Uobs.txt\",\n",
    "    \"!! For observed relative humidity in RHobs.txt\",\n",
    "    \"!! For observed min air temperature in TMINobs.txt\",\n",
    "    \"!! For observed max air temperature in TMAXobs.txt\",\n",
    "    \"!! initiates soil water to porosity instead of field capacity which is default (N). Set Y to use porosity.\",\n",
    "    \"!! initiates soil water to porosity instead of field capacity which is default (N). Set Y to use porosity.\",\n",
    "]"
   ]
  },
  {
   "cell_type": "code",
   "execution_count": null,
   "id": "2d41a92c-9a98-49a1-9b88-c2ff3b78e195",
   "metadata": {},
   "outputs": [],
   "source": [
    "# append c1 and df4\n",
    "with open(output_file, 'a') as file:\n",
    "    # Iterate over DataFrame rows\n",
    "    for i, (index, row) in enumerate(df4.iterrows()):\n",
    "        # Check if there is a comment line for the current row\n",
    "        if i < len(c1):\n",
    "            # Write the row name, values, and comment on the same line\n",
    "            line = str(index) + '\\t' + '\\t'.join(str(val) for val in row.values) + '\\t' + c1[i] + '\\n'\n",
    "        else:\n",
    "            # Write the row name and values without comment on the same line\n",
    "            line = str(index) + '\\t' + '\\t'.join(str(val) for val in row.values) + '\\n'\n",
    "        \n",
    "        # Write the line to the file\n",
    "        file.write(line)"
   ]
  },
  {
   "cell_type": "code",
   "execution_count": null,
   "id": "47386d0b-4919-4399-9a89-c2227d2fe500",
   "metadata": {},
   "outputs": [],
   "source": [
    "# write out s5\n",
    "s5= [\n",
    "\"\"\"!! -----------------------------------------------------------------------------\t\t\t\t\t\t\t\n",
    "!!\t\t\t\t\t\t\t\n",
    "!! Define model options (optional)\n",
    "!!\t\t\t\t\t\t\t\n",
    "!! -----------------\t\t\t\t\t\t\t\"\"\"\n",
    "]"
   ]
  },
  {
   "cell_type": "code",
   "execution_count": null,
   "id": "7c88f024-b468-43cf-8c6a-fe213db79409",
   "metadata": {},
   "outputs": [],
   "source": [
    "# write s5 in output file\n",
    "with open(output_file, 'a') as file:\n",
    "    # Write the commented lines\n",
    "    for line in s5:\n",
    "        file.write(line + '\\n')"
   ]
  },
  {
   "cell_type": "code",
   "execution_count": null,
   "id": "9daac7dd-bb7d-41a1-a027-7c961d20b60c",
   "metadata": {},
   "outputs": [],
   "source": [
    "# create df5\n",
    "df5_row=['modeloption snowfallmodel','modeloption snowdensity','modeloption snowfalldist',\n",
    "         'modeloption snowheat','modeloption snowmeltmodel','modeloption snowevaporation','modeloption lakeriverice',\n",
    "         'modeloption deepground','modeloption glacierini','modeloption frozensoil',\n",
    "         'modeloption infiltration','modeloption surfacerunoff','modeloption petmodel',\n",
    "         'modeloption riverflowmodel','modeloption soilleakage','modeloption connectivity']\n",
    "df5_val=[0,0,2,0,2,1,0,0,1,2,3,0,5,0,0,0]\n",
    "df5=pd.DataFrame(df5_val, index=df5_row, columns=None)"
   ]
  },
  {
   "cell_type": "code",
   "execution_count": null,
   "id": "a03c40b8-ba13-4871-9b1f-35b64e3253c7",
   "metadata": {},
   "outputs": [],
   "source": [
    "# append df5\n",
    "with open(output_file, 'a') as file:\n",
    "    # Write the DataFrame to the file\n",
    "    df5.to_csv(file, sep='\\t', index=True, header=False, line_terminator='\\n')"
   ]
  },
  {
   "cell_type": "code",
   "execution_count": null,
   "id": "20217760-e459-40a1-bf06-8c447f76038f",
   "metadata": {},
   "outputs": [],
   "source": [
    "# write out s6\n",
    "s6= [\n",
    "\"\"\"!! ------------------------------------------------------------------------------------\t\t\t\t\t\t\t\n",
    "!!\t\t\t\t\t\t\t\n",
    "!! Define outputs\n",
    "!! -----------------\t\t\t\t\t\t\t\n",
    "!! BASIN outputs \n",
    "!! The present basins are some large rivers distributed over different continents\n",
    "!! -----------------\t\t\t\t\t\t\t\"\"\"\n",
    "]"
   ]
  },
  {
   "cell_type": "code",
   "execution_count": null,
   "id": "8dd363e1-65e8-4ef7-af75-402185642004",
   "metadata": {},
   "outputs": [],
   "source": [
    "# write s6 in output file\n",
    "with open(output_file, 'a') as file:\n",
    "    # Write the commented lines\n",
    "    for line in s6:\n",
    "        file.write(line + '\\n')"
   ]
  },
  {
   "cell_type": "code",
   "execution_count": null,
   "id": "ebd6d0ac-0161-4e9f-a901-7da01cbde49e",
   "metadata": {},
   "outputs": [],
   "source": [
    "df6={'basinoutput variable': 'cout\\trout',\n",
    "     'basinoutput meanperiod':1,\n",
    "     'basinoutput decimals':3,\n",
    "     'basinoutput subbasin':'58232\\t58213\\t58208\\t58408\\t58643\\t58308\\t58346\\t58435\\t58356\\t58363\\t58418\\t58290\\t58328\\t58292',\n",
    "     'printwaterbal':'N' }\n"
   ]
  },
  {
   "cell_type": "code",
   "execution_count": null,
   "id": "38cc95e5-110c-41a2-b1a1-f454e2ed3607",
   "metadata": {},
   "outputs": [],
   "source": [
    "df6"
   ]
  },
  {
   "cell_type": "code",
   "execution_count": null,
   "id": "c72afac9-afd8-43ce-bc6a-49951470009c",
   "metadata": {},
   "outputs": [],
   "source": [
    "# append df6\n",
    "with open(output_file, 'a') as file:\n",
    "    for key,value in df6.items():\n",
    "        a=str(key)+'\\t'+str(value)+'\\n'\n",
    "        file.write(a)\n",
    "    "
   ]
  },
  {
   "cell_type": "markdown",
   "id": "e08c2897-a4f2-44e8-820d-668dbbecf34c",
   "metadata": {},
   "source": [
    "df8={'crit meanperiod': 1, \n",
    "     'crit datalimit':30,\n",
    "     'crit subbasin':'58408\\t58208\\t58643'}"
   ]
  },
  {
   "cell_type": "markdown",
   "id": "e3b27087-d341-49c1-b2da-d7401d43ac1e",
   "metadata": {},
   "source": [
    "df8"
   ]
  },
  {
   "cell_type": "markdown",
   "id": "63ae0112-185e-49c3-b1fd-22b53c656a5b",
   "metadata": {},
   "source": [
    "with open(output_file, 'a') as file:\n",
    "    for key,value in df8.items():\n",
    "        a=str(key)+'\\t'+str(value)+'\\n'\n",
    "        file.write(a)\n",
    "    "
   ]
  },
  {
   "cell_type": "code",
   "execution_count": null,
   "id": "301866f1-8b33-429d-9311-ed313e2c037f",
   "metadata": {},
   "outputs": [],
   "source": [
    "# write out s9\n",
    "s9= [\n",
    "\"\"\"!! -----------------\t\t\t\n",
    "!! Criterion-specific settings\n",
    "!! -----------------\t\t\t\t\"\"\"\n",
    "]"
   ]
  },
  {
   "cell_type": "code",
   "execution_count": null,
   "id": "98da8fb9-9195-4d7c-8966-269b6c0f8b22",
   "metadata": {},
   "outputs": [],
   "source": [
    "# write s9 in output file\n",
    "with open(output_file, 'a') as file:\n",
    "    # Write the commented lines\n",
    "    for line in s9:\n",
    "        file.write(line + '\\n')"
   ]
  },
  {
   "cell_type": "code",
   "execution_count": null,
   "id": "9d6d532c-df47-4b0a-9b36-08ce1422e53f",
   "metadata": {},
   "outputs": [],
   "source": [
    "# create df9 for basin outputs\n",
    "d1=['AKG']\n",
    "d2=['cout']\n",
    "d3=['rout']\n",
    "d4=[1]\n",
    "df9_row=['crit 1 criterion','crit 1 cvariable','crit 1 rvariable','crit 1 weight']\n",
    "df9=pd.DataFrame([d1,d2,d3,d4], index=df9_row)"
   ]
  },
  {
   "cell_type": "code",
   "execution_count": null,
   "id": "612ffaea-b422-4785-a75e-af667c88b59b",
   "metadata": {},
   "outputs": [],
   "source": [
    "# append df9\n",
    "with open(output_file, 'a') as file:\n",
    "    # Write the DataFrame to the file\n",
    "    df9.to_csv(file, sep='\\t', index=True, header=False, line_terminator='\\n')"
   ]
  },
  {
   "cell_type": "code",
   "execution_count": null,
   "id": "043f4345-3146-41d2-a2ec-f9578b8d2f15",
   "metadata": {},
   "outputs": [],
   "source": []
  }
 ],
 "metadata": {
  "kernelspec": {
   "display_name": "easymore-env",
   "language": "python",
   "name": "easymore-env"
  },
  "language_info": {
   "codemirror_mode": {
    "name": "ipython",
    "version": 3
   },
   "file_extension": ".py",
   "mimetype": "text/x-python",
   "name": "python",
   "nbconvert_exporter": "python",
   "pygments_lexer": "ipython3",
   "version": "3.8.10"
  }
 },
 "nbformat": 4,
 "nbformat_minor": 5
}
