{
 "cells": [
  {
   "cell_type": "code",
   "execution_count": 1,
   "id": "bb9cba45-576f-434d-96b0-6eed3fc7857c",
   "metadata": {},
   "outputs": [],
   "source": [
    "import pandas as pd"
   ]
  },
  {
   "cell_type": "code",
   "execution_count": 2,
   "id": "d4dd8a24-c6a1-48f8-9bd7-1f5bc39f1517",
   "metadata": {},
   "outputs": [],
   "source": [
    "def max_difference_between_corresponding_values(arr1, arr2):\n",
    "    differences = [abs(x - y) for x, y in zip(arr1, arr2)]\n",
    "    max_difference = max(differences)\n",
    "    return max_difference"
   ]
  },
  {
   "cell_type": "code",
   "execution_count": 3,
   "id": "8922773a-74a3-4797-9004-e4c1d0e7bce5",
   "metadata": {},
   "outputs": [],
   "source": [
    "geodata= pd.read_csv('/home/paulc600/scratch/final_hype_setup/KGE_-0.28/data/GeoData.txt', sep= '\\t',index_col=0)"
   ]
  },
  {
   "cell_type": "code",
   "execution_count": 4,
   "id": "ac6f429a-ee57-425e-ab8a-d1a97a064e0b",
   "metadata": {},
   "outputs": [],
   "source": [
    "evap = pd.read_csv('/home/paulc600/scratch/final_hype_setup/KGE_-0.28/data/timeEVAP_DD.txt', sep= '\\t', skiprows=1, index_col=0)"
   ]
  },
  {
   "cell_type": "code",
   "execution_count": 5,
   "id": "9c70fd83-31a8-452b-9901-b2e7960c7b8d",
   "metadata": {},
   "outputs": [],
   "source": [
    "prec = pd.read_csv('/home/paulc600/scratch/final_hype_setup/KGE_-0.28/data/timePREC_DD.txt', sep= '\\t', skiprows=1, index_col=0)"
   ]
  },
  {
   "cell_type": "code",
   "execution_count": 6,
   "id": "23309ed3-9573-449d-bd52-060f65a6b2fb",
   "metadata": {},
   "outputs": [],
   "source": [
    "cilv=  pd.read_csv('/home/paulc600/scratch/final_hype_setup/KGE_-0.28/data/timeCILV_DD.txt', sep= '\\t', skiprows=1, index_col=0)"
   ]
  },
  {
   "cell_type": "code",
   "execution_count": 7,
   "id": "050e380b-351f-495a-aba5-e77094da076b",
   "metadata": {},
   "outputs": [],
   "source": [
    "cprc=  pd.read_csv('/home/paulc600/scratch/final_hype_setup/KGE_-0.28/data/timeCPRC_DD.txt', sep= '\\t', skiprows=1, index_col=0)"
   ]
  },
  {
   "cell_type": "code",
   "execution_count": 8,
   "id": "e43417ba-3d27-41cd-bc99-a291c0d1d855",
   "metadata": {},
   "outputs": [],
   "source": [
    "cprf= pd.read_csv('/home/paulc600/scratch/final_hype_setup/KGE_-0.28/data/timeCPRF_DD.txt', sep= '\\t', skiprows=1, index_col=0)"
   ]
  },
  {
   "cell_type": "code",
   "execution_count": 9,
   "id": "5eb6f4dc-fa61-461a-815a-b0847d3165d0",
   "metadata": {},
   "outputs": [],
   "source": [
    "cpsf= pd.read_csv('/home/paulc600/scratch/final_hype_setup/KGE_-0.28/data/timeCPSF_DD.txt', sep= '\\t', skiprows=1, index_col=0)"
   ]
  },
  {
   "cell_type": "code",
   "execution_count": 10,
   "id": "9d283191-9b73-4a9f-98e1-79d3a82bc861",
   "metadata": {},
   "outputs": [],
   "source": [
    "cloc= pd.read_csv('/home/paulc600/scratch/final_hype_setup/KGE_-0.28/data/timeCLOC_DD.txt', sep= '\\t', skiprows=1, index_col=0)"
   ]
  },
  {
   "cell_type": "markdown",
   "id": "e739e145-222d-4a9e-8743-b471d3b0f77a",
   "metadata": {},
   "source": [
    "### Water Balance"
   ]
  },
  {
   "cell_type": "code",
   "execution_count": 11,
   "id": "1b609b30-e943-4a0f-8a5c-534256a25dfd",
   "metadata": {},
   "outputs": [],
   "source": [
    "evap_sums = pd.DataFrame({'evap': evap.sum()})\n",
    "evap_sums['evap'].index = evap_sums['evap'].index.astype(int)"
   ]
  },
  {
   "cell_type": "code",
   "execution_count": 12,
   "id": "0554e26f-a829-4f9c-9c20-991174b5c2cb",
   "metadata": {},
   "outputs": [],
   "source": [
    "prec_sums = pd.DataFrame({'prec': prec.sum()})\n",
    "prec_sums['prec'].index = prec_sums['prec'].index.astype(int)"
   ]
  },
  {
   "cell_type": "code",
   "execution_count": 13,
   "id": "2c8ae116-2271-484a-abdd-d3e6dcc6c0b1",
   "metadata": {},
   "outputs": [],
   "source": [
    "cloc_sums= pd.DataFrame({'cloc': cloc.sum()})\n",
    "cloc_sums['cloc'].index = cloc_sums['cloc'].index.astype(int)"
   ]
  },
  {
   "cell_type": "code",
   "execution_count": 14,
   "id": "3467be70-7b5e-4cd6-b9b5-2de9c63c5da4",
   "metadata": {},
   "outputs": [],
   "source": [
    "# calculate change in storage\n",
    "ilake_stor= (cilv.iloc[0] - cilv.iloc[-1]) * 10**6\n",
    "S_df= pd.DataFrame({'S': ilake_stor})"
   ]
  },
  {
   "cell_type": "code",
   "execution_count": 15,
   "id": "f64893a5-38bb-494e-8ca4-f31c0ddbaa47",
   "metadata": {},
   "outputs": [],
   "source": [
    "ET= (evap_sums['evap'] * 0.001) * geodata['area']\n",
    "ET_df = pd.DataFrame({'ET': ET})"
   ]
  },
  {
   "cell_type": "code",
   "execution_count": 16,
   "id": "49866324-3c00-4c05-8ca8-ac0666033e9a",
   "metadata": {},
   "outputs": [],
   "source": [
    "P= (prec_sums['prec'] * 0.001) * geodata['area']\n",
    "P_df = pd.DataFrame({'P': P})"
   ]
  },
  {
   "cell_type": "code",
   "execution_count": 17,
   "id": "6876dcb5-2901-4057-af1f-516481564fd0",
   "metadata": {},
   "outputs": [],
   "source": [
    "# Convert indices to int64\n",
    "cloc_sums.index = cloc_sums.index.astype(int)\n",
    "S_df.index = S_df.index.astype(int)"
   ]
  },
  {
   "cell_type": "code",
   "execution_count": 18,
   "id": "ea1211d2-d89a-41ec-905f-60a4411e2067",
   "metadata": {},
   "outputs": [],
   "source": [
    "wb= P_df['P'] - cloc_sums['cloc'] - S_df['S'] - ET_df['ET']"
   ]
  },
  {
   "cell_type": "code",
   "execution_count": 19,
   "id": "211b0da0-411e-46f4-9f9e-c535f0e3d68d",
   "metadata": {},
   "outputs": [
    {
     "data": {
      "text/plain": [
       "58675   -3.449469e+08\n",
       "58674   -7.255165e+07\n",
       "58673    2.297515e+08\n",
       "58672    6.524056e+08\n",
       "58671    2.518863e+08\n",
       "             ...     \n",
       "58185    3.759978e+06\n",
       "58231    2.055179e+08\n",
       "58184    1.309183e+07\n",
       "58228    3.114033e+07\n",
       "58183    6.256683e+07\n",
       "Length: 473, dtype: float64"
      ]
     },
     "execution_count": 19,
     "metadata": {},
     "output_type": "execute_result"
    }
   ],
   "source": [
    "wb"
   ]
  },
  {
   "cell_type": "markdown",
   "id": "a5920ca4-4d5a-4506-8c17-ffafa6f07dc4",
   "metadata": {},
   "source": [
    "### Snow/rainfall fractions"
   ]
  },
  {
   "cell_type": "code",
   "execution_count": 13,
   "id": "be710045-0ab1-4f72-b964-8f39eb6363a1",
   "metadata": {},
   "outputs": [],
   "source": [
    "cprc_sums = cprc.iloc[:].sum()"
   ]
  },
  {
   "cell_type": "code",
   "execution_count": 15,
   "id": "ee963569-4aa7-4bf3-b413-6f1ab677bf7e",
   "metadata": {},
   "outputs": [],
   "source": [
    "cprc_sums2= sum(cprc_sums)"
   ]
  },
  {
   "cell_type": "code",
   "execution_count": 16,
   "id": "39af5a1f-6fe9-4dba-b967-7b050651de33",
   "metadata": {},
   "outputs": [
    {
     "data": {
      "text/plain": [
       "6827712.208999997"
      ]
     },
     "execution_count": 16,
     "metadata": {},
     "output_type": "execute_result"
    }
   ],
   "source": [
    "cprc_sums2"
   ]
  },
  {
   "cell_type": "code",
   "execution_count": 17,
   "id": "2ee50721-eafb-4688-a093-63972a8980e0",
   "metadata": {},
   "outputs": [],
   "source": [
    "cprf_sum= cprf.iloc[:].sum()"
   ]
  },
  {
   "cell_type": "code",
   "execution_count": 19,
   "id": "cb157cf7-8b47-4c6b-b5c1-3c86f0083d31",
   "metadata": {},
   "outputs": [],
   "source": [
    "cpsf_sum= cpsf.iloc[:].sum()"
   ]
  },
  {
   "cell_type": "code",
   "execution_count": 20,
   "id": "3b4b78ec-143a-4510-a618-9d6c6fc228f6",
   "metadata": {},
   "outputs": [
    {
     "ename": "NameError",
     "evalue": "name 'cpsf_sum' is not defined",
     "output_type": "error",
     "traceback": [
      "\u001b[0;31m---------------------------------------------------------------------------\u001b[0m",
      "\u001b[0;31mNameError\u001b[0m                                 Traceback (most recent call last)",
      "\u001b[0;32m/tmp/ipykernel_26430/975618888.py\u001b[0m in \u001b[0;36m<module>\u001b[0;34m\u001b[0m\n\u001b[0;32m----> 1\u001b[0;31m \u001b[0mbal\u001b[0m\u001b[0;34m=\u001b[0m \u001b[0mcpsf_sum\u001b[0m\u001b[0;34m+\u001b[0m \u001b[0mcprf_sum\u001b[0m\u001b[0;34m\u001b[0m\u001b[0;34m\u001b[0m\u001b[0m\n\u001b[0m",
      "\u001b[0;31mNameError\u001b[0m: name 'cpsf_sum' is not defined"
     ]
    }
   ],
   "source": [
    "bal= cpsf_sum+ cprf_sum"
   ]
  },
  {
   "cell_type": "code",
   "execution_count": 22,
   "id": "6ff2e1f8-8ee4-4668-bd03-48976c3f33f3",
   "metadata": {},
   "outputs": [],
   "source": [
    "bal_sum= sum(bal)"
   ]
  },
  {
   "cell_type": "code",
   "execution_count": 27,
   "id": "39590a95-c15a-45ad-904d-71256e6d89cf",
   "metadata": {},
   "outputs": [],
   "source": [
    "error= bal_sum -cprc_sums2"
   ]
  },
  {
   "cell_type": "code",
   "execution_count": 28,
   "id": "f509b71f-4627-4428-b4d9-59589306d9d8",
   "metadata": {},
   "outputs": [
    {
     "data": {
      "text/plain": [
       "-24.20700000412762"
      ]
     },
     "execution_count": 28,
     "metadata": {},
     "output_type": "execute_result"
    }
   ],
   "source": [
    "error"
   ]
  },
  {
   "cell_type": "code",
   "execution_count": 29,
   "id": "e4f85369-c784-45ec-82a5-dedc91821a7b",
   "metadata": {},
   "outputs": [
    {
     "data": {
      "text/plain": [
       "-3.545404267657766e-06"
      ]
     },
     "execution_count": 29,
     "metadata": {},
     "output_type": "execute_result"
    }
   ],
   "source": [
    "error/ cprc_sums2"
   ]
  },
  {
   "cell_type": "code",
   "execution_count": 30,
   "id": "98b263e5-1754-4f68-ad45-606d14af7685",
   "metadata": {},
   "outputs": [
    {
     "data": {
      "text/plain": [
       "0.2707428109760273"
      ]
     },
     "execution_count": 30,
     "metadata": {},
     "output_type": "execute_result"
    }
   ],
   "source": [
    "snow= sum(cpsf_sum) / cprc_sums2\n",
    "snow"
   ]
  },
  {
   "cell_type": "code",
   "execution_count": 31,
   "id": "3fb60fab-d450-42de-b099-f5d6644acb3b",
   "metadata": {},
   "outputs": [
    {
     "data": {
      "text/plain": [
       "0.7292536436197063"
      ]
     },
     "execution_count": 31,
     "metadata": {},
     "output_type": "execute_result"
    }
   ],
   "source": [
    "rain= sum(cprf_sum) / cprc_sums2\n",
    "rain"
   ]
  },
  {
   "cell_type": "code",
   "execution_count": 23,
   "id": "36f3ab3a-d55f-4e87-9604-ab1665c3a908",
   "metadata": {},
   "outputs": [],
   "source": [
    "result = max_difference_between_corresponding_values(bal, cprc_sums)"
   ]
  },
  {
   "cell_type": "code",
   "execution_count": 24,
   "id": "ac3f3a41-abdd-41bc-b02b-d71672e70fc3",
   "metadata": {},
   "outputs": [
    {
     "data": {
      "text/plain": [
       "0.1349999999983993"
      ]
     },
     "execution_count": 24,
     "metadata": {},
     "output_type": "execute_result"
    }
   ],
   "source": [
    "result"
   ]
  },
  {
   "cell_type": "code",
   "execution_count": null,
   "id": "32fba4eb-bc83-4947-996b-2d270f78af19",
   "metadata": {},
   "outputs": [],
   "source": []
  }
 ],
 "metadata": {
  "kernelspec": {
   "display_name": "easymore-env",
   "language": "python",
   "name": "easymore-env"
  },
  "language_info": {
   "codemirror_mode": {
    "name": "ipython",
    "version": 3
   },
   "file_extension": ".py",
   "mimetype": "text/x-python",
   "name": "python",
   "nbconvert_exporter": "python",
   "pygments_lexer": "ipython3",
   "version": "3.8.10"
  }
 },
 "nbformat": 4,
 "nbformat_minor": 5
}
