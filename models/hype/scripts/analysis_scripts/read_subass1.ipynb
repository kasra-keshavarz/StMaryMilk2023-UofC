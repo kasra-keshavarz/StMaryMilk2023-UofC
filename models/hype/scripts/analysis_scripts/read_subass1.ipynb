{
 "cells": [
  {
   "cell_type": "code",
   "execution_count": 1,
   "id": "6f6e957e-927a-4063-8c24-20ec2a1a40d6",
   "metadata": {},
   "outputs": [],
   "source": [
    "import pandas as pd"
   ]
  },
  {
   "cell_type": "code",
   "execution_count": 2,
   "id": "1d2ae854-381b-4b69-ab81-b891bd44dcc3",
   "metadata": {},
   "outputs": [],
   "source": [
    "df = pd.read_csv('../../model/results/subass1.txt', delimiter='\\t', skiprows=1)"
   ]
  },
  {
   "cell_type": "code",
   "execution_count": 3,
   "id": "2fa39d3f-cc6e-4e29-aeeb-8962162c17f2",
   "metadata": {},
   "outputs": [],
   "source": [
    "# Assuming df is your DataFrame\n",
    "columns_to_keep = ['SUBID','NSE', 'Bias', 'KGE']\n",
    "\n",
    "# Select only the columns that exist in columns_to_keep\n",
    "df = df[columns_to_keep]"
   ]
  },
  {
   "cell_type": "code",
   "execution_count": 4,
   "id": "7c6af62f-6c9c-4e88-8b6e-e46e55932a75",
   "metadata": {},
   "outputs": [],
   "source": [
    "# Assuming df is your DataFrame\n",
    "df = df.set_index(df.columns[0])"
   ]
  },
  {
   "cell_type": "code",
   "execution_count": 5,
   "id": "5edc9a1a-9657-4b7b-be53-a8de12113022",
   "metadata": {},
   "outputs": [
    {
     "data": {
      "text/html": [
       "<div>\n",
       "<style scoped>\n",
       "    .dataframe tbody tr th:only-of-type {\n",
       "        vertical-align: middle;\n",
       "    }\n",
       "\n",
       "    .dataframe tbody tr th {\n",
       "        vertical-align: top;\n",
       "    }\n",
       "\n",
       "    .dataframe thead th {\n",
       "        text-align: right;\n",
       "    }\n",
       "</style>\n",
       "<table border=\"1\" class=\"dataframe\">\n",
       "  <thead>\n",
       "    <tr style=\"text-align: right;\">\n",
       "      <th></th>\n",
       "      <th>NSE</th>\n",
       "      <th>Bias</th>\n",
       "      <th>KGE</th>\n",
       "    </tr>\n",
       "    <tr>\n",
       "      <th>SUBID</th>\n",
       "      <th></th>\n",
       "      <th></th>\n",
       "      <th></th>\n",
       "    </tr>\n",
       "  </thead>\n",
       "  <tbody>\n",
       "    <tr>\n",
       "      <th>58643</th>\n",
       "      <td>-0.1697</td>\n",
       "      <td>-0.3228</td>\n",
       "      <td>0.3304</td>\n",
       "    </tr>\n",
       "    <tr>\n",
       "      <th>58408</th>\n",
       "      <td>0.1595</td>\n",
       "      <td>-0.1178</td>\n",
       "      <td>0.5543</td>\n",
       "    </tr>\n",
       "    <tr>\n",
       "      <th>58308</th>\n",
       "      <td>0.1862</td>\n",
       "      <td>-1.2212</td>\n",
       "      <td>0.4203</td>\n",
       "    </tr>\n",
       "    <tr>\n",
       "      <th>58346</th>\n",
       "      <td>0.5224</td>\n",
       "      <td>0.3067</td>\n",
       "      <td>0.5996</td>\n",
       "    </tr>\n",
       "    <tr>\n",
       "      <th>58356</th>\n",
       "      <td>-0.0697</td>\n",
       "      <td>0.3427</td>\n",
       "      <td>0.3154</td>\n",
       "    </tr>\n",
       "    <tr>\n",
       "      <th>58363</th>\n",
       "      <td>-0.0679</td>\n",
       "      <td>0.1643</td>\n",
       "      <td>0.4861</td>\n",
       "    </tr>\n",
       "    <tr>\n",
       "      <th>58418</th>\n",
       "      <td>0.4128</td>\n",
       "      <td>0.0822</td>\n",
       "      <td>0.4518</td>\n",
       "    </tr>\n",
       "    <tr>\n",
       "      <th>58435</th>\n",
       "      <td>-0.1969</td>\n",
       "      <td>-0.4918</td>\n",
       "      <td>-0.2173</td>\n",
       "    </tr>\n",
       "    <tr>\n",
       "      <th>58290</th>\n",
       "      <td>-0.0075</td>\n",
       "      <td>0.1089</td>\n",
       "      <td>0.4699</td>\n",
       "    </tr>\n",
       "    <tr>\n",
       "      <th>58328</th>\n",
       "      <td>0.3049</td>\n",
       "      <td>0.0048</td>\n",
       "      <td>0.5168</td>\n",
       "    </tr>\n",
       "    <tr>\n",
       "      <th>58292</th>\n",
       "      <td>-5.3237</td>\n",
       "      <td>0.7405</td>\n",
       "      <td>-1.4663</td>\n",
       "    </tr>\n",
       "    <tr>\n",
       "      <th>58232</th>\n",
       "      <td>0.3862</td>\n",
       "      <td>-3.3426</td>\n",
       "      <td>0.2925</td>\n",
       "    </tr>\n",
       "    <tr>\n",
       "      <th>58213</th>\n",
       "      <td>0.6935</td>\n",
       "      <td>-5.3245</td>\n",
       "      <td>0.7077</td>\n",
       "    </tr>\n",
       "    <tr>\n",
       "      <th>58208</th>\n",
       "      <td>0.6980</td>\n",
       "      <td>-3.3536</td>\n",
       "      <td>0.8007</td>\n",
       "    </tr>\n",
       "  </tbody>\n",
       "</table>\n",
       "</div>"
      ],
      "text/plain": [
       "          NSE    Bias     KGE\n",
       "SUBID                        \n",
       "58643 -0.1697 -0.3228  0.3304\n",
       "58408  0.1595 -0.1178  0.5543\n",
       "58308  0.1862 -1.2212  0.4203\n",
       "58346  0.5224  0.3067  0.5996\n",
       "58356 -0.0697  0.3427  0.3154\n",
       "58363 -0.0679  0.1643  0.4861\n",
       "58418  0.4128  0.0822  0.4518\n",
       "58435 -0.1969 -0.4918 -0.2173\n",
       "58290 -0.0075  0.1089  0.4699\n",
       "58328  0.3049  0.0048  0.5168\n",
       "58292 -5.3237  0.7405 -1.4663\n",
       "58232  0.3862 -3.3426  0.2925\n",
       "58213  0.6935 -5.3245  0.7077\n",
       "58208  0.6980 -3.3536  0.8007"
      ]
     },
     "execution_count": 5,
     "metadata": {},
     "output_type": "execute_result"
    }
   ],
   "source": [
    "df"
   ]
  },
  {
   "cell_type": "code",
   "execution_count": 7,
   "id": "707e6705-299d-46b4-80ad-e83bcf3c115b",
   "metadata": {},
   "outputs": [],
   "source": [
    "# Save the DataFrame as a CSV file\n",
    "df.to_csv('../../model/plots/preformance_metrics.csv', index=True)\n"
   ]
  },
  {
   "cell_type": "code",
   "execution_count": null,
   "id": "6048e717-b2c9-4a37-b902-743058791c80",
   "metadata": {},
   "outputs": [],
   "source": []
  }
 ],
 "metadata": {
  "kernelspec": {
   "display_name": "easymore-env",
   "language": "python",
   "name": "easymore-env"
  },
  "language_info": {
   "codemirror_mode": {
    "name": "ipython",
    "version": 3
   },
   "file_extension": ".py",
   "mimetype": "text/x-python",
   "name": "python",
   "nbconvert_exporter": "python",
   "pygments_lexer": "ipython3",
   "version": "3.8.10"
  }
 },
 "nbformat": 4,
 "nbformat_minor": 5
}
