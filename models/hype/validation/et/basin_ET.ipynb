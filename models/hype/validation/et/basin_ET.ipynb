{
 "cells": [
  {
   "cell_type": "code",
   "execution_count": 1,
   "id": "0326b1ac-1672-4a0f-a64d-6a37bb0f4700",
   "metadata": {},
   "outputs": [],
   "source": [
    "import pandas as pd"
   ]
  },
  {
   "cell_type": "markdown",
   "id": "481cc83f-522a-4823-8b5f-97dc3c2c9ebc",
   "metadata": {},
   "source": [
    "### Inputs"
   ]
  },
  {
   "cell_type": "code",
   "execution_count": 2,
   "id": "13d57b16-9c2f-4a94-bcf3-737e8c036ce8",
   "metadata": {},
   "outputs": [],
   "source": [
    "# Read basin ET\n",
    "et = pd.read_csv('./ET_Time_Series_Full_Basin.csv',delimiter=',',index_col=0)"
   ]
  },
  {
   "cell_type": "code",
   "execution_count": 3,
   "id": "58e1e571-f5df-44a6-9764-b1eb52a4a5b3",
   "metadata": {},
   "outputs": [],
   "source": [
    "# Read  hype ET\n",
    "hype = pd.read_csv('../../model/results/timeEVAP_DD.txt',delimiter='\\t',index_col=0,skiprows=1)"
   ]
  },
  {
   "cell_type": "markdown",
   "id": "512ab46c-5ffc-4edf-8e5e-7a93f79c8dfc",
   "metadata": {},
   "source": [
    "### Analysis"
   ]
  },
  {
   "cell_type": "code",
   "execution_count": 4,
   "id": "58ac17b3-5b62-419d-a109-7f982925c784",
   "metadata": {},
   "outputs": [],
   "source": [
    "# Sum the columns to get basin ET\n",
    "hype_basin_et = hype.sum(axis=1)\n",
    "\n",
    "# Create a new DataFrame for basin ET\n",
    "hype_basin_et_df = pd.DataFrame({'Basin_ET': hype_basin_et})"
   ]
  },
  {
   "cell_type": "code",
   "execution_count": 5,
   "id": "cb0448e9-776a-4e81-8e4b-9d3379c251b0",
   "metadata": {},
   "outputs": [
    {
     "data": {
      "text/html": [
       "<div>\n",
       "<style scoped>\n",
       "    .dataframe tbody tr th:only-of-type {\n",
       "        vertical-align: middle;\n",
       "    }\n",
       "\n",
       "    .dataframe tbody tr th {\n",
       "        vertical-align: top;\n",
       "    }\n",
       "\n",
       "    .dataframe thead th {\n",
       "        text-align: right;\n",
       "    }\n",
       "</style>\n",
       "<table border=\"1\" class=\"dataframe\">\n",
       "  <thead>\n",
       "    <tr style=\"text-align: right;\">\n",
       "      <th></th>\n",
       "      <th>Basin_ET</th>\n",
       "    </tr>\n",
       "    <tr>\n",
       "      <th>DATE</th>\n",
       "      <th></th>\n",
       "    </tr>\n",
       "  </thead>\n",
       "  <tbody>\n",
       "    <tr>\n",
       "      <th>1980-01-01</th>\n",
       "      <td>0.600</td>\n",
       "    </tr>\n",
       "    <tr>\n",
       "      <th>1980-01-02</th>\n",
       "      <td>0.412</td>\n",
       "    </tr>\n",
       "    <tr>\n",
       "      <th>1980-01-03</th>\n",
       "      <td>5.551</td>\n",
       "    </tr>\n",
       "    <tr>\n",
       "      <th>1980-01-04</th>\n",
       "      <td>7.358</td>\n",
       "    </tr>\n",
       "    <tr>\n",
       "      <th>1980-01-05</th>\n",
       "      <td>7.636</td>\n",
       "    </tr>\n",
       "    <tr>\n",
       "      <th>...</th>\n",
       "      <td>...</td>\n",
       "    </tr>\n",
       "    <tr>\n",
       "      <th>2015-12-27</th>\n",
       "      <td>22.325</td>\n",
       "    </tr>\n",
       "    <tr>\n",
       "      <th>2015-12-28</th>\n",
       "      <td>36.920</td>\n",
       "    </tr>\n",
       "    <tr>\n",
       "      <th>2015-12-29</th>\n",
       "      <td>21.249</td>\n",
       "    </tr>\n",
       "    <tr>\n",
       "      <th>2015-12-30</th>\n",
       "      <td>34.687</td>\n",
       "    </tr>\n",
       "    <tr>\n",
       "      <th>2015-12-31</th>\n",
       "      <td>47.272</td>\n",
       "    </tr>\n",
       "  </tbody>\n",
       "</table>\n",
       "<p>13149 rows × 1 columns</p>\n",
       "</div>"
      ],
      "text/plain": [
       "            Basin_ET\n",
       "DATE                \n",
       "1980-01-01     0.600\n",
       "1980-01-02     0.412\n",
       "1980-01-03     5.551\n",
       "1980-01-04     7.358\n",
       "1980-01-05     7.636\n",
       "...              ...\n",
       "2015-12-27    22.325\n",
       "2015-12-28    36.920\n",
       "2015-12-29    21.249\n",
       "2015-12-30    34.687\n",
       "2015-12-31    47.272\n",
       "\n",
       "[13149 rows x 1 columns]"
      ]
     },
     "execution_count": 5,
     "metadata": {},
     "output_type": "execute_result"
    }
   ],
   "source": [
    "hype_basin_et_df"
   ]
  },
  {
   "cell_type": "code",
   "execution_count": 6,
   "id": "93f12658-1da0-4c11-a051-fdb588ede6b8",
   "metadata": {},
   "outputs": [],
   "source": [
    "# Drop all columns except 'ET' and 'month'\n",
    "columns_to_keep = ['ET']\n",
    "et = et[columns_to_keep]"
   ]
  },
  {
   "cell_type": "code",
   "execution_count": 7,
   "id": "c70286a8-0555-467f-8516-dfc92e6c7346",
   "metadata": {},
   "outputs": [],
   "source": [
    "# Extract the index (assuming the index is the first column)\n",
    "index_values = et.index\n",
    "\n",
    "# Remove 'A' from the index and convert the rest to datetime\n",
    "index_values = index_values.str[1:]  # Remove the 'A'\n",
    "index_values = pd.to_datetime(index_values, format='%Y%j')  # Convert to datetime\n",
    "\n",
    "# Assign the modified index back to the DataFrame\n",
    "et.index = index_values"
   ]
  },
  {
   "cell_type": "code",
   "execution_count": 18,
   "id": "3c94a6b4-fe65-49de-90e1-a7f698fa27f7",
   "metadata": {},
   "outputs": [],
   "source": [
    "# Convert index to datetime\n",
    "hype_basin_et_df.index = pd.to_datetime(hype_basin_et_df.index)"
   ]
  },
  {
   "cell_type": "code",
   "execution_count": 19,
   "id": "0c4f1c8f-25d8-4dba-b033-124336090c9b",
   "metadata": {},
   "outputs": [],
   "source": [
    "start_date = et.index.min()\n",
    "end_date = et.index.max()"
   ]
  },
  {
   "cell_type": "code",
   "execution_count": 20,
   "id": "d1381db2-30d8-41a6-bc3a-0602f9735039",
   "metadata": {},
   "outputs": [],
   "source": [
    "hype_basin_et_df_trimmed = hype_basin_et_df[start_date:end_date]"
   ]
  },
  {
   "cell_type": "code",
   "execution_count": 22,
   "id": "1939b5d7-b87a-479b-8758-ad66349c74e6",
   "metadata": {},
   "outputs": [],
   "source": [
    "# Resample both DataFrames to monthly frequency by summing\n",
    "et_monthly = et.resample('M').sum()\n",
    "hype_basin_et_df_monthly = hype_basin_et_df_trimmed.resample('M').sum()"
   ]
  },
  {
   "cell_type": "code",
   "execution_count": null,
   "id": "468d3cc9-def1-43f1-a03f-14511cc09a4b",
   "metadata": {},
   "outputs": [],
   "source": []
  }
 ],
 "metadata": {
  "kernelspec": {
   "display_name": "easymore-env",
   "language": "python",
   "name": "easymore-env"
  },
  "language_info": {
   "codemirror_mode": {
    "name": "ipython",
    "version": 3
   },
   "file_extension": ".py",
   "mimetype": "text/x-python",
   "name": "python",
   "nbconvert_exporter": "python",
   "pygments_lexer": "ipython3",
   "version": "3.8.10"
  }
 },
 "nbformat": 4,
 "nbformat_minor": 5
}
