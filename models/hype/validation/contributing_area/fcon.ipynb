{
 "cells": [
  {
   "cell_type": "code",
   "execution_count": 2,
   "id": "8b52c02e-e30b-41f9-a785-c9933a2eaa61",
   "metadata": {},
   "outputs": [],
   "source": [
    "import pandas as pd"
   ]
  },
  {
   "cell_type": "markdown",
   "id": "f8bf36ed-4ced-4d7e-b03e-08fafd224294",
   "metadata": {},
   "source": [
    "### Read Inputs"
   ]
  },
  {
   "cell_type": "code",
   "execution_count": 3,
   "id": "d3a4193e-4c8e-4db3-8200-796b0b936123",
   "metadata": {},
   "outputs": [],
   "source": [
    "# read hype sca\n",
    "fcon = pd.read_csv('../../model/results/timeFCON_DD.txt', sep='\\t',skiprows=1, index_col=0)"
   ]
  },
  {
   "cell_type": "code",
   "execution_count": 7,
   "id": "ba2135ee-5691-4cf8-8f8b-82b4f7fbdcdc",
   "metadata": {},
   "outputs": [],
   "source": [
    "# read hype cilv\n",
    "cilv = pd.read_csv('../../model/results/timeCILV_DD.txt', sep='\\t',skiprows=1, index_col=0)"
   ]
  },
  {
   "cell_type": "markdown",
   "id": "2111de44-d493-426f-992a-7add7be0efac",
   "metadata": {},
   "source": [
    "### Analysis"
   ]
  },
  {
   "cell_type": "code",
   "execution_count": 5,
   "id": "5254b263-f94d-4c69-8123-1e1c805912f0",
   "metadata": {},
   "outputs": [],
   "source": [
    "# remove st mary where there are no ilakes\n",
    "# Replace -9999 with NaN\n",
    "fcon.replace(-9999, pd.NA, inplace=True)\n",
    "\n",
    "# Drop columns with all NaN values\n",
    "fcon.dropna(axis=1, how='all', inplace=True)\n",
    "\n",
    "# Replace -9999 with NaN\n",
    "cilv.replace(-9999, pd.NA, inplace=True)\n",
    "\n",
    "# Drop columns with all NaN values\n",
    "cilv.dropna(axis=1, how='all', inplace=True)"
   ]
  },
  {
   "cell_type": "code",
   "execution_count": 14,
   "id": "669fe40f-31d9-4768-9d41-347d0556bbf4",
   "metadata": {},
   "outputs": [],
   "source": [
    "# remove spin up period\n",
    "fcon = fcon.iloc[365:]"
   ]
  },
  {
   "cell_type": "code",
   "execution_count": 15,
   "id": "057342e5-0245-4b9e-b73b-d1d2f0cf56e9",
   "metadata": {},
   "outputs": [],
   "source": [
    "# Filter columns where no value is equal to 1\n",
    "never_contribute = fcon.columns[(fcon != 1).any()]"
   ]
  },
  {
   "cell_type": "code",
   "execution_count": 16,
   "id": "70f98314-6a51-4f42-8afd-343c9c80e3bf",
   "metadata": {},
   "outputs": [
    {
     "data": {
      "text/plain": [
       "Index(['58675', '58674', '58673', '58672', '58671', '58670', '58669', '58668',\n",
       "       '58667', '58666',\n",
       "       ...\n",
       "       '58376', '58316', '58339', '58244', '58246', '58303', '58571', '58243',\n",
       "       '58288', '58242'],\n",
       "      dtype='object', length=433)"
      ]
     },
     "execution_count": 16,
     "metadata": {},
     "output_type": "execute_result"
    }
   ],
   "source": [
    "never_contribute"
   ]
  },
  {
   "cell_type": "code",
   "execution_count": 17,
   "id": "35b30ea2-75c8-496a-9edf-8ca90c3a5054",
   "metadata": {},
   "outputs": [
    {
     "data": {
      "text/plain": [
       "433"
      ]
     },
     "execution_count": 17,
     "metadata": {},
     "output_type": "execute_result"
    }
   ],
   "source": [
    "len(never_contribute)"
   ]
  },
  {
   "cell_type": "code",
   "execution_count": null,
   "id": "e1626e27-69ab-4979-82b1-2b3941dd1f4e",
   "metadata": {},
   "outputs": [],
   "source": []
  }
 ],
 "metadata": {
  "kernelspec": {
   "display_name": "easymore-env",
   "language": "python",
   "name": "easymore-env"
  },
  "language_info": {
   "codemirror_mode": {
    "name": "ipython",
    "version": 3
   },
   "file_extension": ".py",
   "mimetype": "text/x-python",
   "name": "python",
   "nbconvert_exporter": "python",
   "pygments_lexer": "ipython3",
   "version": "3.8.10"
  }
 },
 "nbformat": 4,
 "nbformat_minor": 5
}
