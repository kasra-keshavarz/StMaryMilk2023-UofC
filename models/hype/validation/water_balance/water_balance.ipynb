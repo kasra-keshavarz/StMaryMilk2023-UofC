{
 "cells": [
  {
   "cell_type": "code",
   "execution_count": 1,
   "id": "176e4be4-fb7e-4c92-90a9-515c19510b4d",
   "metadata": {},
   "outputs": [],
   "source": [
    "import pandas as pd\n",
    "import geopandas as gpd"
   ]
  },
  {
   "cell_type": "markdown",
   "id": "75c22cc0-13d2-4bbb-bff9-964a38973c8d",
   "metadata": {},
   "source": [
    "### Inputs"
   ]
  },
  {
   "cell_type": "code",
   "execution_count": 2,
   "id": "39fb75f5-9c55-4841-beba-7c31b743b2ae",
   "metadata": {},
   "outputs": [],
   "source": [
    "# Read hype precipitation\n",
    "prec = pd.read_csv('../../model/results/timePREC_DD.txt',delimiter='\\t',index_col=0,skiprows=1)"
   ]
  },
  {
   "cell_type": "code",
   "execution_count": 3,
   "id": "e9b0e06f-7e71-4851-ad6a-525456beac08",
   "metadata": {},
   "outputs": [],
   "source": [
    "# Read hype ET\n",
    "evap = pd.read_csv('../../model/results/timeEVAP_DD.txt',delimiter='\\t',index_col=0,skiprows=1)"
   ]
  },
  {
   "cell_type": "code",
   "execution_count": 4,
   "id": "fbb3daaf-b108-4f05-a390-2a80fe205372",
   "metadata": {},
   "outputs": [],
   "source": [
    "# read internal lake volume\n",
    "vol = pd.read_csv('../../model/results/timeCILV_DD.txt',delimiter='\\t',index_col=0,skiprows=1)"
   ]
  },
  {
   "cell_type": "code",
   "execution_count": 5,
   "id": "193dc214-657a-44e4-a36c-d85192f13b64",
   "metadata": {},
   "outputs": [],
   "source": [
    "# read modified shapefile\n",
    "gdf = gpd.read_file('../../geospacial/shapefiles/modified_shapefiles/Modified_SMMcat.shp')"
   ]
  },
  {
   "cell_type": "markdown",
   "id": "c94cb205-6cdd-4812-b018-8e539fa9662e",
   "metadata": {},
   "source": [
    "### Analysis"
   ]
  },
  {
   "cell_type": "code",
   "execution_count": 6,
   "id": "ae130a5e-1d0c-4551-a1f4-ae36fb60563f",
   "metadata": {},
   "outputs": [],
   "source": [
    "# Convert GeoDataFrame to DataFrame\n",
    "area = gdf[['seg_nhm', 'Shape_Area']].copy()\n",
    "\n",
    "# Set 'seg_nhm' as index\n",
    "area.set_index('seg_nhm', inplace=True)\n",
    "\n",
    "# Rename 'Shape Area' column to remove space\n",
    "area.rename(columns={'Shape_Area': 'area'}, inplace=True)"
   ]
  },
  {
   "cell_type": "code",
   "execution_count": 7,
   "id": "0f559275-7a23-4309-9f9c-51bc92a15d88",
   "metadata": {},
   "outputs": [
    {
     "data": {
      "text/html": [
       "<div>\n",
       "<style scoped>\n",
       "    .dataframe tbody tr th:only-of-type {\n",
       "        vertical-align: middle;\n",
       "    }\n",
       "\n",
       "    .dataframe tbody tr th {\n",
       "        vertical-align: top;\n",
       "    }\n",
       "\n",
       "    .dataframe thead th {\n",
       "        text-align: right;\n",
       "    }\n",
       "</style>\n",
       "<table border=\"1\" class=\"dataframe\">\n",
       "  <thead>\n",
       "    <tr style=\"text-align: right;\">\n",
       "      <th></th>\n",
       "      <th>area</th>\n",
       "    </tr>\n",
       "    <tr>\n",
       "      <th>seg_nhm</th>\n",
       "      <th></th>\n",
       "    </tr>\n",
       "  </thead>\n",
       "  <tbody>\n",
       "    <tr>\n",
       "      <th>58183</th>\n",
       "      <td>3.652090e+07</td>\n",
       "    </tr>\n",
       "    <tr>\n",
       "      <th>58184</th>\n",
       "      <td>1.750700e+07</td>\n",
       "    </tr>\n",
       "    <tr>\n",
       "      <th>58185</th>\n",
       "      <td>5.667200e+06</td>\n",
       "    </tr>\n",
       "    <tr>\n",
       "      <th>58186</th>\n",
       "      <td>3.803350e+07</td>\n",
       "    </tr>\n",
       "    <tr>\n",
       "      <th>58188</th>\n",
       "      <td>2.801800e+06</td>\n",
       "    </tr>\n",
       "    <tr>\n",
       "      <th>...</th>\n",
       "      <td>...</td>\n",
       "    </tr>\n",
       "    <tr>\n",
       "      <th>58671</th>\n",
       "      <td>3.860121e+08</td>\n",
       "    </tr>\n",
       "    <tr>\n",
       "      <th>58672</th>\n",
       "      <td>9.586554e+08</td>\n",
       "    </tr>\n",
       "    <tr>\n",
       "      <th>58673</th>\n",
       "      <td>2.876408e+08</td>\n",
       "    </tr>\n",
       "    <tr>\n",
       "      <th>58674</th>\n",
       "      <td>2.727878e+08</td>\n",
       "    </tr>\n",
       "    <tr>\n",
       "      <th>58675</th>\n",
       "      <td>2.730521e+08</td>\n",
       "    </tr>\n",
       "  </tbody>\n",
       "</table>\n",
       "<p>473 rows × 1 columns</p>\n",
       "</div>"
      ],
      "text/plain": [
       "                 area\n",
       "seg_nhm              \n",
       "58183    3.652090e+07\n",
       "58184    1.750700e+07\n",
       "58185    5.667200e+06\n",
       "58186    3.803350e+07\n",
       "58188    2.801800e+06\n",
       "...               ...\n",
       "58671    3.860121e+08\n",
       "58672    9.586554e+08\n",
       "58673    2.876408e+08\n",
       "58674    2.727878e+08\n",
       "58675    2.730521e+08\n",
       "\n",
       "[473 rows x 1 columns]"
      ]
     },
     "execution_count": 7,
     "metadata": {},
     "output_type": "execute_result"
    }
   ],
   "source": [
    "area"
   ]
  },
  {
   "cell_type": "code",
   "execution_count": 8,
   "id": "496c98ff-24b8-4f37-b2da-739f0d9a2d4c",
   "metadata": {},
   "outputs": [],
   "source": [
    "# Convert index to datetime\n",
    "prec.index = pd.to_datetime(prec.index)\n",
    "evap.index = pd.to_datetime(evap.index)"
   ]
  },
  {
   "cell_type": "code",
   "execution_count": 9,
   "id": "ac1cabd5-81b6-4254-bac9-e2c45ef9477e",
   "metadata": {},
   "outputs": [],
   "source": [
    "# find total prec and evap\n",
    "total_prec = prec.sum()\n",
    "total_prec = pd.DataFrame(total_prec, columns=['Sum'])\n",
    "\n",
    "total_evap= evap.sum()\n",
    "total_evap = pd.DataFrame(total_evap, columns=['Sum'])"
   ]
  },
  {
   "cell_type": "code",
   "execution_count": 10,
   "id": "30804377-25e4-49ed-8bd7-d0aa07e0a4d4",
   "metadata": {},
   "outputs": [],
   "source": [
    "# convert prec and evap to m\n",
    "total_prec = total_prec / 1000\n",
    "total_evap = total_evap / 1000"
   ]
  },
  {
   "cell_type": "code",
   "execution_count": 11,
   "id": "d754a79a-6a2c-490d-8725-ae77bd6d8622",
   "metadata": {},
   "outputs": [],
   "source": [
    "# Convert index to integer\n",
    "total_prec.index = total_prec.index.astype(int)\n",
    "total_evap.index = total_evap.index.astype(int)\n",
    "area.index = area.index.astype(int)"
   ]
  },
  {
   "cell_type": "code",
   "execution_count": 12,
   "id": "4bd1d89c-4284-4bc8-979a-64207fe44783",
   "metadata": {},
   "outputs": [],
   "source": [
    "# Multiply each value in 'prec_df' by the corresponding value in the 'Area' column\n",
    "total_prec = total_prec.multiply(area['area'], axis='index') # m3\n",
    "total_evap = total_evap.multiply(area['area'], axis='index') # m3"
   ]
  },
  {
   "cell_type": "code",
   "execution_count": null,
   "id": "eff467c7-623c-4613-b390-5c23459284e7",
   "metadata": {},
   "outputs": [],
   "source": []
  }
 ],
 "metadata": {
  "kernelspec": {
   "display_name": "easymore-env",
   "language": "python",
   "name": "easymore-env"
  },
  "language_info": {
   "codemirror_mode": {
    "name": "ipython",
    "version": 3
   },
   "file_extension": ".py",
   "mimetype": "text/x-python",
   "name": "python",
   "nbconvert_exporter": "python",
   "pygments_lexer": "ipython3",
   "version": "3.8.10"
  }
 },
 "nbformat": 4,
 "nbformat_minor": 5
}
