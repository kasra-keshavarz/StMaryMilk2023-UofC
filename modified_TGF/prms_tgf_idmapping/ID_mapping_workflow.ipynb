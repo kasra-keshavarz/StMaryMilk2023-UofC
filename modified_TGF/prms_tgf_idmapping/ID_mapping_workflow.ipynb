{
 "cells": [
  {
   "cell_type": "markdown",
   "id": "cb929c64-beb2-40ee-9c2f-3c98b4bd54d9",
   "metadata": {
    "user_expressions": []
   },
   "source": [
    "# Workflow to map IDs of `TGF` and `PRMS-TGF`"
   ]
  },
  {
   "cell_type": "markdown",
   "id": "cd0c645e-06be-46ea-b5df-a009664a97e4",
   "metadata": {},
   "source": [
    "Since the polygons IDs provided by the `PRMS` team are different from that of the [`TGF`](https://www.sciencebase.gov/catalog/item/5efcbb9582ce3fd7e8a5b9ea) dataset, a correspondence between the polygons IDs of the two datasets is needed. The following workflow, attempts to provide the relevant information:"
   ]
  },
  {
   "cell_type": "markdown",
   "id": "131ff984-57b3-44a4-b2b8-d75cfc61d6e0",
   "metadata": {
    "tags": [],
    "user_expressions": []
   },
   "source": [
    "## Importing necessary libraries"
   ]
  },
  {
   "cell_type": "code",
   "execution_count": 1,
   "id": "7551ad88-49c1-4344-aef0-8f2472b5697b",
   "metadata": {
    "tags": []
   },
   "outputs": [],
   "source": [
    "import xarray as xr # version 2023.2.0\n",
    "import pandas as pd # version 1.5.3\n",
    "import numpy as np # version 1.24.2\n",
    "import geopandas as gpd # version 0.12.2\n",
    "import networkx as nx # version 3.1\n",
    "\n",
    "import matplotlib.pyplot as plt # version 3.7.0\n",
    "\n",
    "import fiona # version 1.9.2\n",
    "\n",
    "from typing import (\n",
    "    Dict,\n",
    "    Tuple,\n",
    "    Union,\n",
    "    List,\n",
    ")\n",
    "\n",
    "from collections.abc import (\n",
    "    Callable,\n",
    ")"
   ]
  },
  {
   "cell_type": "markdown",
   "id": "387ae820-88ef-44f9-b015-82d5ea7fb5d5",
   "metadata": {
    "tags": [],
    "user_expressions": []
   },
   "source": [
    "### Defining paths and preparing objects"
   ]
  },
  {
   "cell_type": "code",
   "execution_count": 2,
   "id": "2682658b-c0e9-4bf3-8dfd-ad3f4ffa5eae",
   "metadata": {
    "tags": []
   },
   "outputs": [
    {
     "data": {
      "text/plain": [
       "['POIs', 'waterbodies', 'nhru', 'nsegment']"
      ]
     },
     "execution_count": 2,
     "metadata": {},
     "output_type": "execute_result"
    }
   ],
   "source": [
    "# defining paths\n",
    "# downloaded from https://www.sciencebase.gov/catalog/item/5d967365e4b0c4f70d113923\n",
    "tgf_path = '/Users/kasrakeshavarz/Documents/geospatial-data/NHM_TGF/TGF.gdb/'\n",
    "# obtained from Jamie Kolodinsky (jamie.kolodinsky@ec.gc.ca)\n",
    "prms_cat_path = '/Users/kasrakeshavarz/Documents/hydrological-models/20230605_gm_byHWobs_st_mary_and_milk_rivers/GIS/model_nhru.shp'\n",
    "# slope values - downloaded from https://www.sciencebase.gov/catalog/item/5efcbb9582ce3fd7e8a5b9ea\n",
    "prms_riv_path = '/Users/kasrakeshavarz/Documents/hydrological-models/20230605_gm_byHWobs_st_mary_and_milk_rivers/GIS/model_nsegment.shp'\n",
    "\n",
    "# list tgf layers\n",
    "fiona.listlayers(tgf_path)"
   ]
  },
  {
   "cell_type": "code",
   "execution_count": 3,
   "id": "8bad3111-a0a9-43e6-ae28-92559ab65533",
   "metadata": {
    "tags": []
   },
   "outputs": [],
   "source": [
    "# read layers\n",
    "## tgf river segments layer\n",
    "tgf_riv = gpd.read_file(tgf_path, driver='FileGDB', layer='nsegment')\n",
    "## tgf sub-basin layer\n",
    "tgf_cat = gpd.read_file(tgf_path, driver='FileGDB', layer='nhru')\n",
    "## prms river segments layer\n",
    "prms_riv = gpd.read_file(prms_riv_path)\n",
    "## prms sub-basin layer\n",
    "prms_cat = gpd.read_file(prms_cat_path)"
   ]
  },
  {
   "cell_type": "markdown",
   "id": "eaf25122-79ee-4714-bf2d-46b0ec4ef571",
   "metadata": {
    "tags": [],
    "user_expressions": []
   },
   "source": [
    "## Necessary functions"
   ]
  },
  {
   "cell_type": "code",
   "execution_count": 4,
   "id": "438b3b96-feff-4b2f-bbec-522b59f3f960",
   "metadata": {},
   "outputs": [],
   "source": [
    "# ChatGPT prompt: Calculate the centroid of each polygon in two given\n",
    "#                 shapefiles and find the closest polygon ID from the\n",
    "#                 second shapefile for each polygon in the first\n",
    "#                 shapefile using parallel processing based on\n",
    "#                 centroid values.\n",
    "\n",
    "import geopandas as gpd\n",
    "from joblib import Parallel, delayed\n",
    "\n",
    "# Read the shapefiles\n",
    "shapefile1 = prms_cat.copy()\n",
    "shapefile2 = tgf_cat.copy()\n",
    "\n",
    "# Calculate the centroid of each polygon in both shapefiles\n",
    "shapefile1['centroid'] = shapefile1.centroid\n",
    "shapefile2['centroid'] = shapefile2.centroid\n",
    "\n",
    "# Function to find closest polygon ID\n",
    "def find_closest_polygon(row1, shapefile2):\n",
    "    closest_id = None\n",
    "    closest_distance = float('inf')\n",
    "    for idx2, row2 in shapefile2.iterrows():\n",
    "        distance = row1['centroid'].distance(row2['centroid'])\n",
    "        if distance < closest_distance:\n",
    "            closest_distance = distance\n",
    "            closest_id = row2['hru_id_nhm']  # Replace 'id' with the column name containing the ID value\n",
    "        \n",
    "    return row1['nhm_id'], closest_id"
   ]
  },
  {
   "cell_type": "markdown",
   "id": "9aff3cd2-638e-4f8d-9b3d-01bf2e79660e",
   "metadata": {},
   "source": [
    "## Printing outputs"
   ]
  },
  {
   "cell_type": "code",
   "execution_count": 5,
   "id": "51d6351a-7505-4de9-8844-9070edd90c45",
   "metadata": {},
   "outputs": [
    {
     "name": "stderr",
     "output_type": "stream",
     "text": [
      "/Users/kasrakeshavarz/Documents/virtualenvs/jupyter/lib/python3.11/site-packages/joblib/externals/loky/process_executor.py:700: UserWarning: A worker stopped while some jobs were given to the executor. This can be caused by a too short worker timeout or by a memory leak.\n",
      "  warnings.warn(\n"
     ]
    }
   ],
   "source": [
    "# Parallelize the centroid proximity calculation\n",
    "closest_ids = Parallel(n_jobs=-1)(delayed(find_closest_polygon)(row1, shapefile2) for idx1, row1 in shapefile1.iterrows())"
   ]
  },
  {
   "cell_type": "code",
   "execution_count": 6,
   "id": "1aac0ff2-26f3-4eb5-851e-4104fe03caeb",
   "metadata": {},
   "outputs": [],
   "source": [
    "# Make a pandas DataFrame\n",
    "df_ids = pd.DataFrame(closest_ids)\n",
    "# Set the first column as the index\n",
    "df_ids.set_index(keys=[0], inplace=True)\n",
    "# assign a column name for the sole column\n",
    "df_ids.columns = ['TGF_nhm_id']\n",
    "# concatenate and make correspondence\n",
    "shp = gpd.GeoDataFrame(pd.concat([prms_cat.set_index(keys=['nhm_id'], inplace=False), df_ids], axis=1)).reset_index(names='prms_nhm_id')"
   ]
  },
  {
   "cell_type": "code",
   "execution_count": 7,
   "id": "6c948de8-bbbf-4878-a818-b7be97046785",
   "metadata": {},
   "outputs": [
    {
     "name": "stderr",
     "output_type": "stream",
     "text": [
      "/var/folders/rw/ngg2x10x2s139yr4lchhykz40000gn/T/ipykernel_66104/1267443433.py:2: UserWarning: Column names longer than 10 characters will be truncated when saved to ESRI Shapefile.\n",
      "  shp.to_file('./map_ids.shp')\n"
     ]
    }
   ],
   "source": [
    "# save the shapefile if necessary\n",
    "shp.to_file('./map_ids.shp')"
   ]
  },
  {
   "cell_type": "code",
   "execution_count": 8,
   "id": "ff359201-5d07-4c22-84ac-cba4527b0884",
   "metadata": {},
   "outputs": [],
   "source": [
    "# assign indexing slice method from pandas specifically\n",
    "idx = pd.IndexSlice\n",
    "\n",
    "# select the two columns of data mapping polygons values between\n",
    "# the two object\n",
    "df = shp.loc[:, idx['prms_nhm_id', 'TGF_nhm_id']]"
   ]
  },
  {
   "cell_type": "code",
   "execution_count": 9,
   "id": "55ce0506-cc51-4af4-8599-81dc4c426643",
   "metadata": {},
   "outputs": [],
   "source": [
    "# save the mapping data as a .csv file\n",
    "df.to_csv('./map_ids.csv')"
   ]
  }
 ],
 "metadata": {
  "kernelspec": {
   "display_name": "jupyter",
   "language": "python",
   "name": "jupyter"
  },
  "language_info": {
   "codemirror_mode": {
    "name": "ipython",
    "version": 3
   },
   "file_extension": ".py",
   "mimetype": "text/x-python",
   "name": "python",
   "nbconvert_exporter": "python",
   "pygments_lexer": "ipython3",
   "version": "3.11.2"
  },
  "toc-autonumbering": true,
  "toc-showtags": false
 },
 "nbformat": 4,
 "nbformat_minor": 5
}
