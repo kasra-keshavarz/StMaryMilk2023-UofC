{
 "cells": [
  {
   "cell_type": "markdown",
   "id": "cb929c64-beb2-40ee-9c2f-3c98b4bd54d9",
   "metadata": {
    "user_expressions": []
   },
   "source": [
    "# Workflow to verify `NHD+ HR` dataset"
   ]
  },
  {
   "cell_type": "markdown",
   "id": "131ff984-57b3-44a4-b2b8-d75cfc61d6e0",
   "metadata": {
    "user_expressions": []
   },
   "source": [
    "## Importing necessary libraries"
   ]
  },
  {
   "cell_type": "code",
   "execution_count": 1,
   "id": "7551ad88-49c1-4344-aef0-8f2472b5697b",
   "metadata": {
    "tags": []
   },
   "outputs": [],
   "source": [
    "import xarray as xr\n",
    "import pandas as pd\n",
    "import numpy as np\n",
    "import geopandas as gpd\n",
    "import networkx as nx\n",
    "\n",
    "import fiona\n",
    "\n",
    "from typing import (\n",
    "    Dict,\n",
    "    Tuple,\n",
    "    Union,\n",
    ")"
   ]
  },
  {
   "cell_type": "code",
   "execution_count": 2,
   "id": "2682658b-c0e9-4bf3-8dfd-ad3f4ffa5eae",
   "metadata": {
    "tags": []
   },
   "outputs": [
    {
     "data": {
      "text/plain": [
       "['POIs', 'waterbodies', 'nhru', 'nsegment']"
      ]
     },
     "execution_count": 2,
     "metadata": {},
     "output_type": "execute_result"
    }
   ],
   "source": [
    "# defining paths\n",
    "# downloaded from https://www.sciencebase.gov/catalog/item/5d967365e4b0c4f70d113923\n",
    "tgf_path = '/Users/kasrakeshavarz/Documents/geospatial-data/StMary-Milk/TGF/TGF.gdb/'\n",
    "\n",
    "# list tgf layers\n",
    "fiona.listlayers(tgf_path)"
   ]
  },
  {
   "cell_type": "code",
   "execution_count": 3,
   "id": "8bad3111-a0a9-43e6-ae28-92559ab65533",
   "metadata": {
    "tags": []
   },
   "outputs": [],
   "source": [
    "# read tgf layers\n",
    "## river segments\n",
    "tgf_riv = gpd.read_file(tgf_path, driver='FileGDB', layer='nsegment')\n",
    "## basin segments\n",
    "tgf_cat = gpd.read_file(tgf_path, driver='FileGDB', layer='nhru')\n",
    "## Points of Interest (POIs)\n",
    "tgf_poi = gpd.read_file(tgf_path, driver='FileGDB', layer='POIs')"
   ]
  },
  {
   "cell_type": "markdown",
   "id": "eaf25122-79ee-4714-bf2d-46b0ec4ef571",
   "metadata": {
    "tags": [],
    "user_expressions": []
   },
   "source": [
    "## Necessary functions"
   ]
  },
  {
   "cell_type": "code",
   "execution_count": 4,
   "id": "b7fbe484-0891-4fd5-9b87-2ccc220d7cd6",
   "metadata": {
    "tags": []
   },
   "outputs": [],
   "source": [
    "# Checking wether spatial connectivities are valid\n",
    "\n",
    "def spatial_conn(\n",
    "    gdf: gpd.GeoDataFrame,\n",
    "    main_id: str=None,\n",
    "    ds_main_id: str=None,\n",
    "    print_err: bool=True,\n",
    ") -> Tuple[Dict, Dict]:\n",
    "    \n",
    "    '''Validates downstream IDs and checks spatial connectivity \n",
    "    of river elements\n",
    "    \n",
    "    Parameters:\n",
    "    -----------\n",
    "    gdf: geopandas.GeoDataFrame\n",
    "        a GeoPandas dataframe containing details of a river network\n",
    "        with minimum details of element ID, downstream element ID, and\n",
    "        geometries\n",
    "    main_id: str, defaults to `None`\n",
    "        String defining the column of element IDs in the input geopandas\n",
    "        dataframe\n",
    "    ds_main_id: str, defaults to `None`\n",
    "        String defining the column of downstream element IDs in the\n",
    "        input geopandas dataframe\n",
    "    print_err: bool, defaults to `True` (optional)\n",
    "        Argument to specify either print the detailed errors within the\n",
    "        input `gdf`\n",
    "        \n",
    "    Returns:\n",
    "    --------\n",
    "    connections: Dict\n",
    "        A dictionary of connections with keys as `main_id` and\n",
    "        values of `ds_main_id` if no issues were found\n",
    "    wrong_conns: Dict\n",
    "        A dictionary of problematic connections with keys as `main_id`\n",
    "        and values defining the nature of the problem, available error\n",
    "        types: 1) spatial disconnection (`spdis`), 2) missing downstream\n",
    "        element (misds)\n",
    "        \n",
    "    '''\n",
    "    \n",
    "    # necessary initializations\n",
    "    connections = {} # key: `main_id`, value: `ds_main_id`\n",
    "    wrong_conns = {} # key: `main_id`, value: error type\n",
    "    \n",
    "    \n",
    "    if main_id is None:\n",
    "        raise ValueError(\"main_id cannot be `None`\")\n",
    "        \n",
    "    if ds_main_id is None:\n",
    "        raise ValueError(\"ds_main_id cannot be `None`\")\n",
    "\n",
    "    # Loop through each feature in the shapefile\n",
    "    for idx, feature in gdf.iterrows():\n",
    "\n",
    "        # Skip over features with DS_Main_ID = 0\n",
    "        if feature[ds_main_id] == 0:\n",
    "            continue\n",
    "\n",
    "        # Find the corresponding descendant feature\n",
    "        descendant = riv.loc[riv[main_id] == feature[ds_main_id]]\n",
    "\n",
    "        # Check if the descendant DataFrame is empty\n",
    "        if descendant.empty:\n",
    "            # find possible downstream IDs of 'DS_Main_ID' does not exist\n",
    "            possible_ds = gdf.geometry.intersects(gdf.loc[idx].geometry)\n",
    "            possible_ds_list = gdf[possible_ds][main_id].tolist()\n",
    "            \n",
    "            # add the `Main_ID` to the `wrong_conns` list\n",
    "            wrong_conns[feature[main_id]] = 'misds'\n",
    "\n",
    "            # print details\n",
    "            if print_err:\n",
    "                print(f\"Warning: No descendant feature found for Main_ID {feature[main_id]} with DS_Main_ID {feature[ds_main_id]}\")\n",
    "                print(f\"  Possible downstream IDs are: {possible_ds_list}\")\n",
    "\n",
    "            continue\n",
    "\n",
    "        # Check if the feature's geometry intersects with the descendant's geometry\n",
    "        if not feature.geometry.intersects(descendant.geometry.iloc[0]):\n",
    "\n",
    "            if print_err:\n",
    "                print(f\"Feature with Main_ID {feature['Main_ID']} is not spatially connected to its descendant with DS_Main_ID {feature['DS_Main_ID']}\")\n",
    "                \n",
    "            # add the `Main_ID` to the `wrong_conns` dictionary\n",
    "            wrong_conns[feature['Main_ID']] = 'spdis'\n",
    "        else:\n",
    "            # add the `Main_ID` to the `connections` dictionary\n",
    "            connections[feature[\"Main_ID\"]] = feature[\"DS_Main_ID\"]\n",
    "            \n",
    "    return connections, wrong_conns"
   ]
  },
  {
   "cell_type": "code",
   "execution_count": 5,
   "id": "583fdbcd-719a-46c9-9b30-2abbcac6752e",
   "metadata": {
    "tags": []
   },
   "outputs": [],
   "source": [
    "def find_cycles(\n",
    "    gdf: gpd.GeoDataFrame,\n",
    "    main_id: str,\n",
    "    ds_main_id: str,\n",
    "    l: int=None,\n",
    "    print_err: bool=True,\n",
    ") -> list[...]:\n",
    "    '''Returns the cycles of length `l` of a river network given \n",
    "    as a geopandas GeoDataFrame\n",
    "    \n",
    "    Parameters:\n",
    "    -----------\n",
    "    gdf: geopandas.GeoDataFrame\n",
    "        GeoDataFrame of river segments including at least three pieces\n",
    "        of information: 1) geometries of segments, 2) segment IDs, and\n",
    "        3) downstream segment IDs\n",
    "    main_id: str, defaults to `None`\n",
    "        String defining the column of element IDs in the input geopandas\n",
    "        dataframe\n",
    "    ds_main_id: str, defaults to `None`\n",
    "        String defining the column of downstream element IDs in the\n",
    "        input geopandas dataframe\n",
    "    l: int, defaults to None (optional)\n",
    "        length of cycles to be found, leave as None to find\n",
    "        cycles of any length\n",
    "    print_err: bool, defaults to `True` (optional)\n",
    "        print cycles if stated\n",
    "    \n",
    "    Returns:\n",
    "    --------\n",
    "    cycles: list\n",
    "        List of `main_id`s indicating cycles\n",
    "    \n",
    "    '''\n",
    "    \n",
    "    # creating a DiGraph out of `gdf` object\n",
    "    riv_graph = nx.from_pandas_edgelist(gdf, source=main_id, target=ds_main_id, create_using=nx.DiGraph)\n",
    "\n",
    "    # extracting cycles\n",
    "    cycles = list(nx.simple_cycles(riv_graph, l))\n",
    "    \n",
    "    if print_err:\n",
    "        print(cycles)\n",
    "    \n",
    "    return cycles"
   ]
  },
  {
   "cell_type": "code",
   "execution_count": 6,
   "id": "c798ca9a-b3ef-4102-bf46-b9202f662a4d",
   "metadata": {
    "tags": []
   },
   "outputs": [],
   "source": [
    "def find_upstream(\n",
    "    gdf: gpd.GeoDataFrame,\n",
    "    target_id: Union[str, int, ...],\n",
    "    main_id: str,\n",
    "    ds_main_id: str,\n",
    ") -> set[...]:\n",
    "    '''Find \"ancestors\" or upstream segments in a river network given\n",
    "    in the from of a geopandas.GeoDataFrame `gdf`\n",
    "    \n",
    "    Parameters:\n",
    "    -----------\n",
    "    gdf: geopandas.GeoDataFrame\n",
    "        GeoDataFrame of river segments including at least three pieces\n",
    "        of information: 1) geometries of segments, 2) segment IDs, and\n",
    "        3) downstream segment IDs\n",
    "    target_id: str, int, or any other data type as included in `gdf`\n",
    "        Indicating the target ID anscestor or upstream of which is\n",
    "        desired\n",
    "    main_id: str\n",
    "        String defining the column of element IDs in the input geopandas\n",
    "        dataframe\n",
    "    ds_main_id: str\n",
    "        String defining the column of downstream element IDs in the\n",
    "        input geopandas dataframe\n",
    "    \n",
    "    Returns:\n",
    "    --------\n",
    "    nodes: list\n",
    "        IDs of nodes being upstream or anscestor of the `target_id`\n",
    "    \n",
    "    '''\n",
    "    # creating a DiGraph out of `gdf` object\n",
    "    riv_graph = nx.from_pandas_edgelist(gdf, source=main_id, target=ds_main_id, create_using=nx.DiGraph)\n",
    "    \n",
    "    # return nodes in a list\n",
    "    nodes = nx.ancestors(riv_graph, target_id)\n",
    "    \n",
    "    return nodes"
   ]
  },
  {
   "cell_type": "markdown",
   "id": "efed2d6a-7879-4855-ad32-b28512da889c",
   "metadata": {
    "tags": [],
    "user_expressions": []
   },
   "source": [
    "## Modifiying the river segments"
   ]
  },
  {
   "cell_type": "markdown",
   "id": "92324544-e5b7-463d-a15f-b00da37e3872",
   "metadata": {
    "user_expressions": []
   },
   "source": [
    "### Correcting inaccurate `Main_ID` and `DS_Main_ID` values"
   ]
  },
  {
   "cell_type": "code",
   "execution_count": 7,
   "id": "f57fe943-f860-45ac-b275-a2dc4361200e",
   "metadata": {
    "tags": []
   },
   "outputs": [],
   "source": [
    "# safe copy of `tgf_riv` for further analysis\n",
    "riv = tgf_riv.copy()"
   ]
  },
  {
   "cell_type": "code",
   "execution_count": 8,
   "id": "9cc23be1-6eca-431f-9d5d-e6685539ecd7",
   "metadata": {
    "tags": []
   },
   "outputs": [
    {
     "name": "stderr",
     "output_type": "stream",
     "text": [
      "/Users/kasrakeshavarz/Documents/virtualenvs/jupyter/lib/python3.11/site-packages/pandas/core/dtypes/cast.py:380: RuntimeWarning: invalid value encountered in cast\n",
      "  new_result = trans(result).astype(dtype)\n"
     ]
    }
   ],
   "source": [
    "# list of columns to be chosen for dtype downcast\n",
    "col_list = ['Main_ID', 'DS_Main_ID']\n",
    "\n",
    "# downcast dtype of necessary columns to integer, if possible\n",
    "fcols = riv[col_list].select_dtypes('float').columns\n",
    "riv[fcols] = riv[fcols].apply(pd.to_numeric, downcast='integer')"
   ]
  },
  {
   "cell_type": "code",
   "execution_count": 9,
   "id": "7f823953-b586-4772-9872-f931666cb602",
   "metadata": {
    "tags": []
   },
   "outputs": [
    {
     "name": "stdout",
     "output_type": "stream",
     "text": [
      "Downcasting for the dtype of column `Main_ID` is right:  True\n",
      "Downcasting for the dtype of column `DS_Main_ID` is right:  True\n"
     ]
    }
   ],
   "source": [
    "# checking if downcasting is done right\n",
    "for col in col_list:\n",
    "    print(f'Downcasting for the dtype of column `{col}` is right: ', (tgf_riv[col] == riv[col]).astype(int).sum() == tgf_riv.shape[0])"
   ]
  },
  {
   "cell_type": "markdown",
   "id": "8048fb26-45be-49aa-8504-6553178b135b",
   "metadata": {
    "tags": [],
    "user_expressions": []
   },
   "source": [
    "### Check if each element (`Main_ID`) is spatially connected to its `DS_Main_ID`"
   ]
  },
  {
   "cell_type": "code",
   "execution_count": 10,
   "id": "a4f4ad51-2925-4fae-8e1a-1e130fe54895",
   "metadata": {},
   "outputs": [
    {
     "name": "stdout",
     "output_type": "stream",
     "text": [
      "Feature with Main_ID 65000100001397 is not spatially connected to its descendant with DS_Main_ID 65000100007950\n",
      "Feature with Main_ID 65000100004140 is not spatially connected to its descendant with DS_Main_ID 65000100003646\n",
      "Feature with Main_ID 65000200011511 is not spatially connected to its descendant with DS_Main_ID 65000200007422\n",
      "Feature with Main_ID 65000300007677 is not spatially connected to its descendant with DS_Main_ID 65000300008719\n",
      "Feature with Main_ID 65000300007818 is not spatially connected to its descendant with DS_Main_ID 65000300008719\n",
      "Feature with Main_ID 55001100010923 is not spatially connected to its descendant with DS_Main_ID 55001100001643\n",
      "Feature with Main_ID 55001100031439 is not spatially connected to its descendant with DS_Main_ID 55001100001635\n",
      "Feature with Main_ID 55001100063905 is not spatially connected to its descendant with DS_Main_ID 55001100029740\n",
      "Feature with Main_ID 55000500001843 is not spatially connected to its descendant with DS_Main_ID 55000500013227\n",
      "Feature with Main_ID 55000500001863 is not spatially connected to its descendant with DS_Main_ID 55000500013227\n",
      "Feature with Main_ID 55000500002751 is not spatially connected to its descendant with DS_Main_ID 55000500036088\n",
      "Warning: No descendant feature found for Main_ID 55000800013451 with DS_Main_ID 55000800012317\n",
      "  Possible downstream IDs are: [55000800013451, 55000800014076, 55000800015452, 55000800039418]\n",
      "Warning: No descendant feature found for Main_ID 55000800016316 with DS_Main_ID 55000800012317\n",
      "  Possible downstream IDs are: [55000800016316, 55000800016973, 55000800020554, 55000800024559, 55000800013888]\n",
      "Warning: No descendant feature found for Main_ID 55000800017535 with DS_Main_ID 55000800012317\n",
      "  Possible downstream IDs are: [55000800017535, 55000800018941, 55000800026339, 55000800016193]\n",
      "Warning: No descendant feature found for Main_ID 55000800020554 with DS_Main_ID 55000800012317\n",
      "  Possible downstream IDs are: [55000800016316, 55000800020554, 55000800013888]\n",
      "Warning: No descendant feature found for Main_ID 55000800032134 with DS_Main_ID 55000800012317\n",
      "  Possible downstream IDs are: [55000800032134, 55000800043852, 55000800030365]\n",
      "Feature with Main_ID 65000100007459 is not spatially connected to its descendant with DS_Main_ID 65000100000259\n"
     ]
    }
   ],
   "source": [
    "conns, err_conns = spatial_conn(riv, 'Main_ID', 'DS_Main_ID', True)"
   ]
  },
  {
   "cell_type": "markdown",
   "id": "c40c6626-30fb-409d-9c78-62691bec73e5",
   "metadata": {
    "user_expressions": []
   },
   "source": [
    "### Checking existing directed cycles"
   ]
  },
  {
   "cell_type": "markdown",
   "id": "1dbdd34d-f7bc-49f9-a881-044b7d71a202",
   "metadata": {
    "user_expressions": []
   },
   "source": [
    "River networks could be considered a special case of directed acyclic graphs (DAGs), therefore, for verification purposes of this Notebook, we could use algorithms designed for this specific type of graphs. `NetworkX` usually has necessary algorithms for graph analysis!"
   ]
  },
  {
   "cell_type": "code",
   "execution_count": 11,
   "id": "677239c0-41b0-415b-b7aa-3da4659e643d",
   "metadata": {},
   "outputs": [
    {
     "name": "stdout",
     "output_type": "stream",
     "text": [
      "[[65000300006184], [55000500004665, 55000500004677]]\n"
     ]
    }
   ],
   "source": [
    "cycles = find_cycles(riv, 'Main_ID', 'DS_Main_ID')"
   ]
  },
  {
   "cell_type": "markdown",
   "id": "c7071a5b-cb62-4ab3-92c9-df2274ed1bad",
   "metadata": {
    "user_expressions": []
   },
   "source": [
    "### Fixing irregular river segment IDs"
   ]
  },
  {
   "cell_type": "markdown",
   "id": "fcb7701b-75d3-40b2-a308-6eef8f644fac",
   "metadata": {
    "user_expressions": []
   },
   "source": [
    "#### Invalid downstream IDs"
   ]
  },
  {
   "cell_type": "markdown",
   "id": "fc4c3df0-b033-4710-bf97-2134962feaa8",
   "metadata": {
    "user_expressions": []
   },
   "source": [
    "Visually, valid IDs are evaluated and assigned to those reported above. If the downstream/upstream element connectivity detail is correct, but spatial disconnectivity is observed, no correction is needed as data are fed into routing models for hydrology, and spatial connectivity does not matter."
   ]
  },
  {
   "cell_type": "code",
   "execution_count": 12,
   "id": "acd62861-0180-4fd9-8ea4-9df71ceff472",
   "metadata": {},
   "outputs": [],
   "source": [
    "# for the segment ID of `err_conns`, the correct downstream IDs are assigned\n",
    "misds_corr = {\n",
    "    55000800013451: 55000800039418,\n",
    "    55000800016316: 55000800013888,\n",
    "    55000800017535: 55000800016193,\n",
    "    55000800020554: 55000800013888,\n",
    "    55000800032134: 55000800030365,\n",
    "}\n",
    "\n",
    "for us, ds in misds_corr.items():\n",
    "    riv.loc[riv['Main_ID'] == us, 'DS_Main_ID'] = ds"
   ]
  },
  {
   "cell_type": "code",
   "execution_count": 13,
   "id": "1d58b4b0-9369-46da-89a6-7b2ab4fd6658",
   "metadata": {},
   "outputs": [
    {
     "name": "stdout",
     "output_type": "stream",
     "text": [
      "Feature with Main_ID 65000100001397 is not spatially connected to its descendant with DS_Main_ID 65000100007950\n",
      "Feature with Main_ID 65000100004140 is not spatially connected to its descendant with DS_Main_ID 65000100003646\n",
      "Feature with Main_ID 65000200011511 is not spatially connected to its descendant with DS_Main_ID 65000200007422\n",
      "Feature with Main_ID 65000300007677 is not spatially connected to its descendant with DS_Main_ID 65000300008719\n",
      "Feature with Main_ID 65000300007818 is not spatially connected to its descendant with DS_Main_ID 65000300008719\n",
      "Feature with Main_ID 55001100010923 is not spatially connected to its descendant with DS_Main_ID 55001100001643\n",
      "Feature with Main_ID 55001100031439 is not spatially connected to its descendant with DS_Main_ID 55001100001635\n",
      "Feature with Main_ID 55001100063905 is not spatially connected to its descendant with DS_Main_ID 55001100029740\n",
      "Feature with Main_ID 55000500001843 is not spatially connected to its descendant with DS_Main_ID 55000500013227\n",
      "Feature with Main_ID 55000500001863 is not spatially connected to its descendant with DS_Main_ID 55000500013227\n",
      "Feature with Main_ID 55000500002751 is not spatially connected to its descendant with DS_Main_ID 55000500036088\n",
      "Feature with Main_ID 65000100007459 is not spatially connected to its descendant with DS_Main_ID 65000100000259\n"
     ]
    }
   ],
   "source": [
    "conns, err_conns = spatial_conn(riv, 'Main_ID', 'DS_Main_ID', True)"
   ]
  },
  {
   "cell_type": "markdown",
   "id": "1f9b0fad-3d3a-4877-b44c-1fee14fa2836",
   "metadata": {
    "tags": [],
    "user_expressions": []
   },
   "source": [
    "#### Cycles"
   ]
  },
  {
   "cell_type": "markdown",
   "id": "083f3cc9-9325-4352-afc2-e966042c13f2",
   "metadata": {
    "user_expressions": []
   },
   "source": [
    "Iteratively, the cycles are corrected manually. I cannot think of any automated way to correct the cycles. Feel free to let me know if you are aware of any!"
   ]
  },
  {
   "cell_type": "code",
   "execution_count": 14,
   "id": "cb0b463e-7bbc-403a-bb1b-ff1a49ef119d",
   "metadata": {
    "tags": []
   },
   "outputs": [
    {
     "name": "stdout",
     "output_type": "stream",
     "text": [
      "[[55000500004714, 55000500004677]]\n"
     ]
    }
   ],
   "source": [
    "# Iteration 1\n",
    "# cycles found are corrected by assigning the right downstream IDs inspected visually\n",
    "\n",
    "cycles_corr = {\n",
    "    65000300006184: 65000300005651,\n",
    "    55000500004677: 55000500004714,\n",
    "}\n",
    "\n",
    "for us, ds in cycles_corr.items():\n",
    "    riv.loc[riv['Main_ID'] == us, 'DS_Main_ID'] = ds\n",
    "    \n",
    "cycles = find_cycles(riv, 'Main_ID', 'DS_Main_ID')"
   ]
  },
  {
   "cell_type": "code",
   "execution_count": 15,
   "id": "953f6bd1-3913-4085-8b60-46606183c8c0",
   "metadata": {
    "tags": []
   },
   "outputs": [
    {
     "name": "stdout",
     "output_type": "stream",
     "text": [
      "[]\n"
     ]
    }
   ],
   "source": [
    "# Iteration 2\n",
    "# cycles found are corrected by assigning the right downstream IDs inspected visually\n",
    "\n",
    "cycles_corr[55000500004714] = 55000500004576\n",
    "\n",
    "for us, ds in cycles_corr.items():\n",
    "    riv.loc[riv['Main_ID'] == us, 'DS_Main_ID'] = ds\n",
    "    \n",
    "cycles = find_cycles(riv, 'Main_ID', 'DS_Main_ID')"
   ]
  },
  {
   "cell_type": "markdown",
   "id": "03a46139-8f2a-4ece-adbe-2758b37e3e74",
   "metadata": {
    "user_expressions": []
   },
   "source": [
    "## Dissolving left-/rightbanks of sub-basins"
   ]
  },
  {
   "cell_type": "markdown",
   "id": "207b9853-5618-4718-845a-89f0a99642a4",
   "metadata": {},
   "source": [
    "For `dissolving` the sub-basins with identical IDs, the `hru_segment_nhm` attribute has been chosen as the main ID. Upon evaluations of the "
   ]
  },
  {
   "cell_type": "code",
   "execution_count": 59,
   "id": "51ad0bf7-4a22-4922-84ef-97f9ddfd99e9",
   "metadata": {
    "tags": []
   },
   "outputs": [
    {
     "data": {
      "text/html": [
       "<div>\n",
       "<style scoped>\n",
       "    .dataframe tbody tr th:only-of-type {\n",
       "        vertical-align: middle;\n",
       "    }\n",
       "\n",
       "    .dataframe tbody tr th {\n",
       "        vertical-align: top;\n",
       "    }\n",
       "\n",
       "    .dataframe thead th {\n",
       "        text-align: right;\n",
       "    }\n",
       "</style>\n",
       "<table border=\"1\" class=\"dataframe\">\n",
       "  <thead>\n",
       "    <tr style=\"text-align: right;\">\n",
       "      <th></th>\n",
       "      <th>POI_ID</th>\n",
       "      <th>hru_id</th>\n",
       "      <th>hru_segment</th>\n",
       "      <th>hru_id_tb</th>\n",
       "      <th>hru_segment_tb</th>\n",
       "      <th>hru_id_nhm</th>\n",
       "      <th>hru_segment_nhm</th>\n",
       "      <th>Type_NCA</th>\n",
       "      <th>HUC04</th>\n",
       "      <th>Coastal_HRU</th>\n",
       "      <th>Shape_Length</th>\n",
       "      <th>Shape_Area</th>\n",
       "      <th>geometry</th>\n",
       "    </tr>\n",
       "  </thead>\n",
       "  <tbody>\n",
       "    <tr>\n",
       "      <th>0</th>\n",
       "      <td>5.000100e+12</td>\n",
       "      <td>1</td>\n",
       "      <td>115</td>\n",
       "      <td>1</td>\n",
       "      <td>115</td>\n",
       "      <td>109952</td>\n",
       "      <td>56575</td>\n",
       "      <td>0</td>\n",
       "      <td>0101</td>\n",
       "      <td>0</td>\n",
       "      <td>68572.964172</td>\n",
       "      <td>5.598540e+07</td>\n",
       "      <td>MULTIPOLYGON (((1965355.000 2853505.000, 19653...</td>\n",
       "    </tr>\n",
       "    <tr>\n",
       "      <th>1</th>\n",
       "      <td>5.000100e+12</td>\n",
       "      <td>2</td>\n",
       "      <td>115</td>\n",
       "      <td>2</td>\n",
       "      <td>115</td>\n",
       "      <td>109953</td>\n",
       "      <td>56575</td>\n",
       "      <td>0</td>\n",
       "      <td>0101</td>\n",
       "      <td>0</td>\n",
       "      <td>77310.884173</td>\n",
       "      <td>7.214900e+07</td>\n",
       "      <td>MULTIPOLYGON (((1965255.000 2853515.000, 19652...</td>\n",
       "    </tr>\n",
       "    <tr>\n",
       "      <th>2</th>\n",
       "      <td>5.000100e+12</td>\n",
       "      <td>3</td>\n",
       "      <td>102</td>\n",
       "      <td>3</td>\n",
       "      <td>102</td>\n",
       "      <td>109954</td>\n",
       "      <td>56562</td>\n",
       "      <td>0</td>\n",
       "      <td>0101</td>\n",
       "      <td>0</td>\n",
       "      <td>114903.231027</td>\n",
       "      <td>1.221173e+08</td>\n",
       "      <td>MULTIPOLYGON (((1998635.000 2855765.000, 19989...</td>\n",
       "    </tr>\n",
       "    <tr>\n",
       "      <th>3</th>\n",
       "      <td>5.000100e+12</td>\n",
       "      <td>4</td>\n",
       "      <td>102</td>\n",
       "      <td>4</td>\n",
       "      <td>102</td>\n",
       "      <td>109955</td>\n",
       "      <td>56562</td>\n",
       "      <td>0</td>\n",
       "      <td>0101</td>\n",
       "      <td>0</td>\n",
       "      <td>77169.650027</td>\n",
       "      <td>5.707688e+07</td>\n",
       "      <td>MULTIPOLYGON (((1995185.000 2855915.000, 19951...</td>\n",
       "    </tr>\n",
       "    <tr>\n",
       "      <th>4</th>\n",
       "      <td>5.000100e+12</td>\n",
       "      <td>5</td>\n",
       "      <td>83</td>\n",
       "      <td>5</td>\n",
       "      <td>83</td>\n",
       "      <td>109956</td>\n",
       "      <td>56543</td>\n",
       "      <td>0</td>\n",
       "      <td>0101</td>\n",
       "      <td>0</td>\n",
       "      <td>10189.003249</td>\n",
       "      <td>4.672174e+06</td>\n",
       "      <td>MULTIPOLYGON (((2168483.261 2873639.810, 21684...</td>\n",
       "    </tr>\n",
       "    <tr>\n",
       "      <th>...</th>\n",
       "      <td>...</td>\n",
       "      <td>...</td>\n",
       "      <td>...</td>\n",
       "      <td>...</td>\n",
       "      <td>...</td>\n",
       "      <td>...</td>\n",
       "      <td>...</td>\n",
       "      <td>...</td>\n",
       "      <td>...</td>\n",
       "      <td>...</td>\n",
       "      <td>...</td>\n",
       "      <td>...</td>\n",
       "      <td>...</td>\n",
       "    </tr>\n",
       "    <tr>\n",
       "      <th>12158</th>\n",
       "      <td>5.500080e+13</td>\n",
       "      <td>2748</td>\n",
       "      <td>0</td>\n",
       "      <td>12159</td>\n",
       "      <td>0</td>\n",
       "      <td>122110</td>\n",
       "      <td>0</td>\n",
       "      <td>0</td>\n",
       "      <td>1711</td>\n",
       "      <td>1</td>\n",
       "      <td>97979.999801</td>\n",
       "      <td>4.467460e+07</td>\n",
       "      <td>MULTIPOLYGON (((-1965705.000 3111385.000, -196...</td>\n",
       "    </tr>\n",
       "    <tr>\n",
       "      <th>12159</th>\n",
       "      <td>5.500080e+13</td>\n",
       "      <td>2749</td>\n",
       "      <td>0</td>\n",
       "      <td>12160</td>\n",
       "      <td>0</td>\n",
       "      <td>122111</td>\n",
       "      <td>0</td>\n",
       "      <td>0</td>\n",
       "      <td>1711</td>\n",
       "      <td>1</td>\n",
       "      <td>29939.999800</td>\n",
       "      <td>2.136320e+07</td>\n",
       "      <td>MULTIPOLYGON (((-1960875.000 3119755.000, -196...</td>\n",
       "    </tr>\n",
       "    <tr>\n",
       "      <th>12160</th>\n",
       "      <td>5.500080e+13</td>\n",
       "      <td>2750</td>\n",
       "      <td>558</td>\n",
       "      <td>12161</td>\n",
       "      <td>5197</td>\n",
       "      <td>122112</td>\n",
       "      <td>61657</td>\n",
       "      <td>0</td>\n",
       "      <td>1711</td>\n",
       "      <td>0</td>\n",
       "      <td>89608.432529</td>\n",
       "      <td>8.206560e+07</td>\n",
       "      <td>MULTIPOLYGON (((-1953402.339 3174948.721, -195...</td>\n",
       "    </tr>\n",
       "    <tr>\n",
       "      <th>12161</th>\n",
       "      <td>5.500080e+13</td>\n",
       "      <td>2751</td>\n",
       "      <td>0</td>\n",
       "      <td>12162</td>\n",
       "      <td>0</td>\n",
       "      <td>122113</td>\n",
       "      <td>0</td>\n",
       "      <td>0</td>\n",
       "      <td>1711</td>\n",
       "      <td>1</td>\n",
       "      <td>114200.010001</td>\n",
       "      <td>9.240170e+07</td>\n",
       "      <td>MULTIPOLYGON (((-1956185.000 3164605.000, -195...</td>\n",
       "    </tr>\n",
       "    <tr>\n",
       "      <th>12162</th>\n",
       "      <td>5.500080e+13</td>\n",
       "      <td>2752</td>\n",
       "      <td>0</td>\n",
       "      <td>12163</td>\n",
       "      <td>0</td>\n",
       "      <td>122114</td>\n",
       "      <td>0</td>\n",
       "      <td>0</td>\n",
       "      <td>1711</td>\n",
       "      <td>1</td>\n",
       "      <td>232859.987703</td>\n",
       "      <td>2.332306e+08</td>\n",
       "      <td>MULTIPOLYGON (((-1955545.000 3188295.000, -195...</td>\n",
       "    </tr>\n",
       "  </tbody>\n",
       "</table>\n",
       "<p>12163 rows × 13 columns</p>\n",
       "</div>"
      ],
      "text/plain": [
       "             POI_ID  hru_id  hru_segment  hru_id_tb  hru_segment_tb  \\\n",
       "0      5.000100e+12       1          115          1             115   \n",
       "1      5.000100e+12       2          115          2             115   \n",
       "2      5.000100e+12       3          102          3             102   \n",
       "3      5.000100e+12       4          102          4             102   \n",
       "4      5.000100e+12       5           83          5              83   \n",
       "...             ...     ...          ...        ...             ...   \n",
       "12158  5.500080e+13    2748            0      12159               0   \n",
       "12159  5.500080e+13    2749            0      12160               0   \n",
       "12160  5.500080e+13    2750          558      12161            5197   \n",
       "12161  5.500080e+13    2751            0      12162               0   \n",
       "12162  5.500080e+13    2752            0      12163               0   \n",
       "\n",
       "       hru_id_nhm  hru_segment_nhm  Type_NCA HUC04  Coastal_HRU  \\\n",
       "0          109952            56575         0  0101            0   \n",
       "1          109953            56575         0  0101            0   \n",
       "2          109954            56562         0  0101            0   \n",
       "3          109955            56562         0  0101            0   \n",
       "4          109956            56543         0  0101            0   \n",
       "...           ...              ...       ...   ...          ...   \n",
       "12158      122110                0         0  1711            1   \n",
       "12159      122111                0         0  1711            1   \n",
       "12160      122112            61657         0  1711            0   \n",
       "12161      122113                0         0  1711            1   \n",
       "12162      122114                0         0  1711            1   \n",
       "\n",
       "        Shape_Length    Shape_Area  \\\n",
       "0       68572.964172  5.598540e+07   \n",
       "1       77310.884173  7.214900e+07   \n",
       "2      114903.231027  1.221173e+08   \n",
       "3       77169.650027  5.707688e+07   \n",
       "4       10189.003249  4.672174e+06   \n",
       "...              ...           ...   \n",
       "12158   97979.999801  4.467460e+07   \n",
       "12159   29939.999800  2.136320e+07   \n",
       "12160   89608.432529  8.206560e+07   \n",
       "12161  114200.010001  9.240170e+07   \n",
       "12162  232859.987703  2.332306e+08   \n",
       "\n",
       "                                                geometry  \n",
       "0      MULTIPOLYGON (((1965355.000 2853505.000, 19653...  \n",
       "1      MULTIPOLYGON (((1965255.000 2853515.000, 19652...  \n",
       "2      MULTIPOLYGON (((1998635.000 2855765.000, 19989...  \n",
       "3      MULTIPOLYGON (((1995185.000 2855915.000, 19951...  \n",
       "4      MULTIPOLYGON (((2168483.261 2873639.810, 21684...  \n",
       "...                                                  ...  \n",
       "12158  MULTIPOLYGON (((-1965705.000 3111385.000, -196...  \n",
       "12159  MULTIPOLYGON (((-1960875.000 3119755.000, -196...  \n",
       "12160  MULTIPOLYGON (((-1953402.339 3174948.721, -195...  \n",
       "12161  MULTIPOLYGON (((-1956185.000 3164605.000, -195...  \n",
       "12162  MULTIPOLYGON (((-1955545.000 3188295.000, -195...  \n",
       "\n",
       "[12163 rows x 13 columns]"
      ]
     },
     "execution_count": 59,
     "metadata": {},
     "output_type": "execute_result"
    }
   ],
   "source": [
    "cat"
   ]
  },
  {
   "cell_type": "code",
   "execution_count": null,
   "id": "bcbe68f7-6d02-4b18-8b98-85ea6a38ce8b",
   "metadata": {},
   "outputs": [],
   "source": []
  },
  {
   "cell_type": "markdown",
   "id": "04a7acdf-79c9-4a0a-9d95-26a6742bff29",
   "metadata": {
    "user_expressions": []
   },
   "source": [
    "## Correcting river segments without a corresponding sub-basin ID (nhru)"
   ]
  },
  {
   "cell_type": "markdown",
   "id": "c2dfb24f-6e28-4092-b25d-0d2bd7ab2ec8",
   "metadata": {
    "user_expressions": []
   },
   "source": [
    "## Extracting river segments of the `SMM` area based on upstream/downstream connectivity"
   ]
  },
  {
   "cell_type": "markdown",
   "id": "e4694c61-6ea0-427a-81af-bc7f090956fb",
   "metadata": {
    "user_expressions": []
   },
   "source": [
    "Based on the boundary of the HUC12 dataset shared by [Jamie Kolodinsky](jamie.kolodinsky@ec.gc.ca), for the St. Mary portion, the most downstream river segment is `65000400000239`, and for the Milk portion is `23002800001207`."
   ]
  },
  {
   "cell_type": "code",
   "execution_count": 16,
   "id": "58253611-7e46-4666-8acb-08e1bd43974c",
   "metadata": {
    "tags": []
   },
   "outputs": [],
   "source": [
    "# empty dictionary for extracting ancestor nodes\n",
    "nodes = {}\n",
    "\n",
    "# dictionary of target ids\n",
    "target_ids = {\n",
    "    'st_mary': 65000400000239,\n",
    "    'milk': 23002800001207,\n",
    "}\n",
    "\n",
    "# extracting ancestors\n",
    "for river, target in target_ids.items():\n",
    "    # extracting ancestors\n",
    "    ancestors = find_upstream(riv, target, 'Main_ID', 'DS_Main_ID')\n",
    "    # adding target node to the `ancestors` set\n",
    "    ancestors.add(target)\n",
    "    # adding to the ancestor dictionary\n",
    "    nodes[river] = ancestors"
   ]
  },
  {
   "cell_type": "markdown",
   "id": "a0a6cd8f-9efb-4363-8787-7b84503cfbe7",
   "metadata": {
    "user_expressions": []
   },
   "source": [
    "## Extracting river segments of the `SMM` area based on spatial overlap with the pre-defined boundary"
   ]
  },
  {
   "cell_type": "markdown",
   "id": "b62ca233-557e-4cef-ab20-808f5ee0e51e",
   "metadata": {
    "user_expressions": []
   },
   "source": [
    "## Final verifications"
   ]
  },
  {
   "cell_type": "code",
   "execution_count": null,
   "id": "698565fb-2135-46fb-8e11-20dfc0615d1b",
   "metadata": {},
   "outputs": [],
   "source": []
  },
  {
   "cell_type": "code",
   "execution_count": null,
   "id": "718a1669-88d2-4b17-8e33-210bb9d6263a",
   "metadata": {},
   "outputs": [],
   "source": []
  },
  {
   "cell_type": "code",
   "execution_count": null,
   "id": "54e0103b-4766-4219-90be-50e499225d14",
   "metadata": {},
   "outputs": [],
   "source": []
  },
  {
   "cell_type": "code",
   "execution_count": null,
   "id": "cfba8cd5-2cda-4706-a7ec-3c1384d027f3",
   "metadata": {},
   "outputs": [],
   "source": []
  },
  {
   "cell_type": "code",
   "execution_count": null,
   "id": "f0a0c8de-efae-4133-8773-feb78a482096",
   "metadata": {},
   "outputs": [],
   "source": []
  },
  {
   "cell_type": "markdown",
   "id": "890feea8-1156-4b57-8837-80000d8a2728",
   "metadata": {
    "user_expressions": []
   },
   "source": [
    "____"
   ]
  },
  {
   "cell_type": "code",
   "execution_count": 77,
   "id": "193dfe60-4fac-43da-ab69-1abcff944d8b",
   "metadata": {
    "tags": []
   },
   "outputs": [],
   "source": [
    "freq_count = cat.hru_segment_nhm.value_counts()\n",
    "f = freq_count.sort_values()"
   ]
  },
  {
   "cell_type": "code",
   "execution_count": 80,
   "id": "d755695c-e720-4cba-b370-f4d3acfba05b",
   "metadata": {
    "tags": []
   },
   "outputs": [
    {
     "data": {
      "text/plain": [
       "61398      3\n",
       "60122      3\n",
       "59982      3\n",
       "57791      3\n",
       "61228      3\n",
       "        ... \n",
       "60270      4\n",
       "60006      4\n",
       "59474      5\n",
       "57444      5\n",
       "0        565\n",
       "Name: hru_segment_nhm, Length: 93, dtype: int64"
      ]
     },
     "execution_count": 80,
     "metadata": {},
     "output_type": "execute_result"
    }
   ],
   "source": [
    "f[f>2]"
   ]
  },
  {
   "cell_type": "code",
   "execution_count": 66,
   "id": "d6d0d5c3-0c41-4601-a67b-a538b4cb0a42",
   "metadata": {
    "tags": []
   },
   "outputs": [],
   "source": [
    "filtered_cat = cat[cat['hru_segment_nhm'] != 0]"
   ]
  },
  {
   "cell_type": "code",
   "execution_count": 67,
   "id": "bb285e0f-3749-4289-848b-212ca48de5a9",
   "metadata": {
    "tags": []
   },
   "outputs": [],
   "source": [
    "d = filtered_cat.dissolve(by='POI_ID', as_index=False)"
   ]
  },
  {
   "cell_type": "code",
   "execution_count": 68,
   "id": "4896c1cf-2764-417a-81e8-e710a3e7b3f7",
   "metadata": {},
   "outputs": [],
   "source": [
    "# Get polygons with zero 'hru_segment' values\n",
    "zero_values_gdf = cat[cat['hru_segment_nhm'] == 0]\n",
    "\n",
    "# Append polygons with zero 'hru_segment' values to the dissolved GeoDataFrame\n",
    "final_gdf = gpd.GeoDataFrame(pd.concat([d, zero_values_gdf]))"
   ]
  },
  {
   "cell_type": "code",
   "execution_count": 69,
   "id": "3d6ae360-86a2-41ea-8272-d7339fd531d5",
   "metadata": {},
   "outputs": [
    {
     "data": {
      "text/html": [
       "<div>\n",
       "<style scoped>\n",
       "    .dataframe tbody tr th:only-of-type {\n",
       "        vertical-align: middle;\n",
       "    }\n",
       "\n",
       "    .dataframe tbody tr th {\n",
       "        vertical-align: top;\n",
       "    }\n",
       "\n",
       "    .dataframe thead th {\n",
       "        text-align: right;\n",
       "    }\n",
       "</style>\n",
       "<table border=\"1\" class=\"dataframe\">\n",
       "  <thead>\n",
       "    <tr style=\"text-align: right;\">\n",
       "      <th></th>\n",
       "      <th>POI_ID</th>\n",
       "      <th>geometry</th>\n",
       "      <th>hru_id</th>\n",
       "      <th>hru_segment</th>\n",
       "      <th>hru_id_tb</th>\n",
       "      <th>hru_segment_tb</th>\n",
       "      <th>hru_id_nhm</th>\n",
       "      <th>hru_segment_nhm</th>\n",
       "      <th>Type_NCA</th>\n",
       "      <th>HUC04</th>\n",
       "      <th>Coastal_HRU</th>\n",
       "      <th>Shape_Length</th>\n",
       "      <th>Shape_Area</th>\n",
       "    </tr>\n",
       "  </thead>\n",
       "  <tbody>\n",
       "    <tr>\n",
       "      <th>0</th>\n",
       "      <td>5.000100e+12</td>\n",
       "      <td>POLYGON ((2243155.000 2905805.000, 2243145.000...</td>\n",
       "      <td>66</td>\n",
       "      <td>1</td>\n",
       "      <td>66</td>\n",
       "      <td>1</td>\n",
       "      <td>110017</td>\n",
       "      <td>56461</td>\n",
       "      <td>0</td>\n",
       "      <td>0101</td>\n",
       "      <td>0</td>\n",
       "      <td>25880.003500</td>\n",
       "      <td>1.329690e+07</td>\n",
       "    </tr>\n",
       "    <tr>\n",
       "      <th>1</th>\n",
       "      <td>5.000100e+12</td>\n",
       "      <td>POLYGON ((2241435.000 2902295.000, 2241445.000...</td>\n",
       "      <td>53</td>\n",
       "      <td>2</td>\n",
       "      <td>53</td>\n",
       "      <td>2</td>\n",
       "      <td>110004</td>\n",
       "      <td>56462</td>\n",
       "      <td>0</td>\n",
       "      <td>0101</td>\n",
       "      <td>0</td>\n",
       "      <td>57756.700675</td>\n",
       "      <td>8.006604e+07</td>\n",
       "    </tr>\n",
       "    <tr>\n",
       "      <th>2</th>\n",
       "      <td>5.000100e+12</td>\n",
       "      <td>POLYGON ((2227975.000 2900555.000, 2227975.000...</td>\n",
       "      <td>46</td>\n",
       "      <td>3</td>\n",
       "      <td>46</td>\n",
       "      <td>3</td>\n",
       "      <td>109997</td>\n",
       "      <td>56463</td>\n",
       "      <td>0</td>\n",
       "      <td>0101</td>\n",
       "      <td>0</td>\n",
       "      <td>21188.830216</td>\n",
       "      <td>3.240654e+06</td>\n",
       "    </tr>\n",
       "    <tr>\n",
       "      <th>3</th>\n",
       "      <td>5.000100e+12</td>\n",
       "      <td>MULTIPOLYGON (((2229045.000 2897345.000, 22290...</td>\n",
       "      <td>41</td>\n",
       "      <td>4</td>\n",
       "      <td>41</td>\n",
       "      <td>4</td>\n",
       "      <td>109992</td>\n",
       "      <td>56464</td>\n",
       "      <td>0</td>\n",
       "      <td>0101</td>\n",
       "      <td>0</td>\n",
       "      <td>184064.496781</td>\n",
       "      <td>3.333918e+08</td>\n",
       "    </tr>\n",
       "    <tr>\n",
       "      <th>4</th>\n",
       "      <td>5.000100e+12</td>\n",
       "      <td>MULTIPOLYGON (((2198495.000 2891445.000, 21985...</td>\n",
       "      <td>27</td>\n",
       "      <td>5</td>\n",
       "      <td>27</td>\n",
       "      <td>5</td>\n",
       "      <td>109978</td>\n",
       "      <td>56465</td>\n",
       "      <td>0</td>\n",
       "      <td>0101</td>\n",
       "      <td>0</td>\n",
       "      <td>145703.907164</td>\n",
       "      <td>2.449532e+08</td>\n",
       "    </tr>\n",
       "    <tr>\n",
       "      <th>...</th>\n",
       "      <td>...</td>\n",
       "      <td>...</td>\n",
       "      <td>...</td>\n",
       "      <td>...</td>\n",
       "      <td>...</td>\n",
       "      <td>...</td>\n",
       "      <td>...</td>\n",
       "      <td>...</td>\n",
       "      <td>...</td>\n",
       "      <td>...</td>\n",
       "      <td>...</td>\n",
       "      <td>...</td>\n",
       "      <td>...</td>\n",
       "    </tr>\n",
       "    <tr>\n",
       "      <th>5802</th>\n",
       "      <td>6.500040e+13</td>\n",
       "      <td>POLYGON ((-1307965.000 2985175.000, -1307973.0...</td>\n",
       "      <td>5</td>\n",
       "      <td>57</td>\n",
       "      <td>3543</td>\n",
       "      <td>1777</td>\n",
       "      <td>113494</td>\n",
       "      <td>58237</td>\n",
       "      <td>0</td>\n",
       "      <td>0904</td>\n",
       "      <td>0</td>\n",
       "      <td>23397.478246</td>\n",
       "      <td>1.271348e+07</td>\n",
       "    </tr>\n",
       "    <tr>\n",
       "      <th>5803</th>\n",
       "      <td>6.500040e+13</td>\n",
       "      <td>POLYGON ((-1292815.000 3054565.000, -1292815.0...</td>\n",
       "      <td>86</td>\n",
       "      <td>58</td>\n",
       "      <td>3624</td>\n",
       "      <td>1778</td>\n",
       "      <td>113575</td>\n",
       "      <td>58238</td>\n",
       "      <td>0</td>\n",
       "      <td>0904</td>\n",
       "      <td>0</td>\n",
       "      <td>107065.656064</td>\n",
       "      <td>7.048516e+07</td>\n",
       "    </tr>\n",
       "    <tr>\n",
       "      <th>5804</th>\n",
       "      <td>6.500040e+13</td>\n",
       "      <td>POLYGON ((-1316195.000 3045775.000, -1316205.0...</td>\n",
       "      <td>73</td>\n",
       "      <td>59</td>\n",
       "      <td>3611</td>\n",
       "      <td>1779</td>\n",
       "      <td>113562</td>\n",
       "      <td>58239</td>\n",
       "      <td>0</td>\n",
       "      <td>0904</td>\n",
       "      <td>0</td>\n",
       "      <td>44926.283398</td>\n",
       "      <td>2.182766e+07</td>\n",
       "    </tr>\n",
       "    <tr>\n",
       "      <th>5805</th>\n",
       "      <td>6.500040e+13</td>\n",
       "      <td>POLYGON ((-1252665.000 3056795.000, -1252675.0...</td>\n",
       "      <td>93</td>\n",
       "      <td>60</td>\n",
       "      <td>3631</td>\n",
       "      <td>1780</td>\n",
       "      <td>113582</td>\n",
       "      <td>58240</td>\n",
       "      <td>0</td>\n",
       "      <td>0904</td>\n",
       "      <td>0</td>\n",
       "      <td>43697.357486</td>\n",
       "      <td>1.207924e+07</td>\n",
       "    </tr>\n",
       "    <tr>\n",
       "      <th>5806</th>\n",
       "      <td>6.500040e+13</td>\n",
       "      <td>POLYGON ((-1307975.000 2985185.000, -1307975.0...</td>\n",
       "      <td>3</td>\n",
       "      <td>61</td>\n",
       "      <td>3541</td>\n",
       "      <td>1781</td>\n",
       "      <td>113492</td>\n",
       "      <td>58241</td>\n",
       "      <td>0</td>\n",
       "      <td>0904</td>\n",
       "      <td>0</td>\n",
       "      <td>21647.733026</td>\n",
       "      <td>1.159305e+07</td>\n",
       "    </tr>\n",
       "  </tbody>\n",
       "</table>\n",
       "<p>5807 rows × 13 columns</p>\n",
       "</div>"
      ],
      "text/plain": [
       "            POI_ID                                           geometry  hru_id  \\\n",
       "0     5.000100e+12  POLYGON ((2243155.000 2905805.000, 2243145.000...      66   \n",
       "1     5.000100e+12  POLYGON ((2241435.000 2902295.000, 2241445.000...      53   \n",
       "2     5.000100e+12  POLYGON ((2227975.000 2900555.000, 2227975.000...      46   \n",
       "3     5.000100e+12  MULTIPOLYGON (((2229045.000 2897345.000, 22290...      41   \n",
       "4     5.000100e+12  MULTIPOLYGON (((2198495.000 2891445.000, 21985...      27   \n",
       "...            ...                                                ...     ...   \n",
       "5802  6.500040e+13  POLYGON ((-1307965.000 2985175.000, -1307973.0...       5   \n",
       "5803  6.500040e+13  POLYGON ((-1292815.000 3054565.000, -1292815.0...      86   \n",
       "5804  6.500040e+13  POLYGON ((-1316195.000 3045775.000, -1316205.0...      73   \n",
       "5805  6.500040e+13  POLYGON ((-1252665.000 3056795.000, -1252675.0...      93   \n",
       "5806  6.500040e+13  POLYGON ((-1307975.000 2985185.000, -1307975.0...       3   \n",
       "\n",
       "      hru_segment  hru_id_tb  hru_segment_tb  hru_id_nhm  hru_segment_nhm  \\\n",
       "0               1         66               1      110017            56461   \n",
       "1               2         53               2      110004            56462   \n",
       "2               3         46               3      109997            56463   \n",
       "3               4         41               4      109992            56464   \n",
       "4               5         27               5      109978            56465   \n",
       "...           ...        ...             ...         ...              ...   \n",
       "5802           57       3543            1777      113494            58237   \n",
       "5803           58       3624            1778      113575            58238   \n",
       "5804           59       3611            1779      113562            58239   \n",
       "5805           60       3631            1780      113582            58240   \n",
       "5806           61       3541            1781      113492            58241   \n",
       "\n",
       "      Type_NCA HUC04  Coastal_HRU   Shape_Length    Shape_Area  \n",
       "0            0  0101            0   25880.003500  1.329690e+07  \n",
       "1            0  0101            0   57756.700675  8.006604e+07  \n",
       "2            0  0101            0   21188.830216  3.240654e+06  \n",
       "3            0  0101            0  184064.496781  3.333918e+08  \n",
       "4            0  0101            0  145703.907164  2.449532e+08  \n",
       "...        ...   ...          ...            ...           ...  \n",
       "5802         0  0904            0   23397.478246  1.271348e+07  \n",
       "5803         0  0904            0  107065.656064  7.048516e+07  \n",
       "5804         0  0904            0   44926.283398  2.182766e+07  \n",
       "5805         0  0904            0   43697.357486  1.207924e+07  \n",
       "5806         0  0904            0   21647.733026  1.159305e+07  \n",
       "\n",
       "[5807 rows x 13 columns]"
      ]
     },
     "execution_count": 69,
     "metadata": {},
     "output_type": "execute_result"
    }
   ],
   "source": [
    "d"
   ]
  },
  {
   "cell_type": "code",
   "execution_count": 70,
   "id": "16856d9e-1c6e-4b3f-89c3-7147e5f18abc",
   "metadata": {
    "tags": []
   },
   "outputs": [
    {
     "data": {
      "text/html": [
       "<div>\n",
       "<style scoped>\n",
       "    .dataframe tbody tr th:only-of-type {\n",
       "        vertical-align: middle;\n",
       "    }\n",
       "\n",
       "    .dataframe tbody tr th {\n",
       "        vertical-align: top;\n",
       "    }\n",
       "\n",
       "    .dataframe thead th {\n",
       "        text-align: right;\n",
       "    }\n",
       "</style>\n",
       "<table border=\"1\" class=\"dataframe\">\n",
       "  <thead>\n",
       "    <tr style=\"text-align: right;\">\n",
       "      <th></th>\n",
       "      <th>POI_ID</th>\n",
       "      <th>geometry</th>\n",
       "      <th>hru_id</th>\n",
       "      <th>hru_segment</th>\n",
       "      <th>hru_id_tb</th>\n",
       "      <th>hru_segment_tb</th>\n",
       "      <th>hru_id_nhm</th>\n",
       "      <th>hru_segment_nhm</th>\n",
       "      <th>Type_NCA</th>\n",
       "      <th>HUC04</th>\n",
       "      <th>Coastal_HRU</th>\n",
       "      <th>Shape_Length</th>\n",
       "      <th>Shape_Area</th>\n",
       "    </tr>\n",
       "  </thead>\n",
       "  <tbody>\n",
       "    <tr>\n",
       "      <th>0</th>\n",
       "      <td>5.000100e+12</td>\n",
       "      <td>POLYGON ((2243155.000 2905805.000, 2243145.000...</td>\n",
       "      <td>66</td>\n",
       "      <td>1</td>\n",
       "      <td>66</td>\n",
       "      <td>1</td>\n",
       "      <td>110017</td>\n",
       "      <td>56461</td>\n",
       "      <td>0</td>\n",
       "      <td>0101</td>\n",
       "      <td>0</td>\n",
       "      <td>25880.003500</td>\n",
       "      <td>1.329690e+07</td>\n",
       "    </tr>\n",
       "    <tr>\n",
       "      <th>1</th>\n",
       "      <td>5.000100e+12</td>\n",
       "      <td>POLYGON ((2241435.000 2902295.000, 2241445.000...</td>\n",
       "      <td>53</td>\n",
       "      <td>2</td>\n",
       "      <td>53</td>\n",
       "      <td>2</td>\n",
       "      <td>110004</td>\n",
       "      <td>56462</td>\n",
       "      <td>0</td>\n",
       "      <td>0101</td>\n",
       "      <td>0</td>\n",
       "      <td>57756.700675</td>\n",
       "      <td>8.006604e+07</td>\n",
       "    </tr>\n",
       "    <tr>\n",
       "      <th>2</th>\n",
       "      <td>5.000100e+12</td>\n",
       "      <td>POLYGON ((2227975.000 2900555.000, 2227975.000...</td>\n",
       "      <td>46</td>\n",
       "      <td>3</td>\n",
       "      <td>46</td>\n",
       "      <td>3</td>\n",
       "      <td>109997</td>\n",
       "      <td>56463</td>\n",
       "      <td>0</td>\n",
       "      <td>0101</td>\n",
       "      <td>0</td>\n",
       "      <td>21188.830216</td>\n",
       "      <td>3.240654e+06</td>\n",
       "    </tr>\n",
       "    <tr>\n",
       "      <th>3</th>\n",
       "      <td>5.000100e+12</td>\n",
       "      <td>MULTIPOLYGON (((2229045.000 2897345.000, 22290...</td>\n",
       "      <td>41</td>\n",
       "      <td>4</td>\n",
       "      <td>41</td>\n",
       "      <td>4</td>\n",
       "      <td>109992</td>\n",
       "      <td>56464</td>\n",
       "      <td>0</td>\n",
       "      <td>0101</td>\n",
       "      <td>0</td>\n",
       "      <td>184064.496781</td>\n",
       "      <td>3.333918e+08</td>\n",
       "    </tr>\n",
       "    <tr>\n",
       "      <th>4</th>\n",
       "      <td>5.000100e+12</td>\n",
       "      <td>MULTIPOLYGON (((2198495.000 2891445.000, 21985...</td>\n",
       "      <td>27</td>\n",
       "      <td>5</td>\n",
       "      <td>27</td>\n",
       "      <td>5</td>\n",
       "      <td>109978</td>\n",
       "      <td>56465</td>\n",
       "      <td>0</td>\n",
       "      <td>0101</td>\n",
       "      <td>0</td>\n",
       "      <td>145703.907164</td>\n",
       "      <td>2.449532e+08</td>\n",
       "    </tr>\n",
       "    <tr>\n",
       "      <th>...</th>\n",
       "      <td>...</td>\n",
       "      <td>...</td>\n",
       "      <td>...</td>\n",
       "      <td>...</td>\n",
       "      <td>...</td>\n",
       "      <td>...</td>\n",
       "      <td>...</td>\n",
       "      <td>...</td>\n",
       "      <td>...</td>\n",
       "      <td>...</td>\n",
       "      <td>...</td>\n",
       "      <td>...</td>\n",
       "      <td>...</td>\n",
       "    </tr>\n",
       "    <tr>\n",
       "      <th>12156</th>\n",
       "      <td>5.500080e+13</td>\n",
       "      <td>MULTIPOLYGON (((-1957275.000 3104325.000, -195...</td>\n",
       "      <td>2746</td>\n",
       "      <td>0</td>\n",
       "      <td>12157</td>\n",
       "      <td>0</td>\n",
       "      <td>122108</td>\n",
       "      <td>0</td>\n",
       "      <td>0</td>\n",
       "      <td>1711</td>\n",
       "      <td>1</td>\n",
       "      <td>64520.001701</td>\n",
       "      <td>2.716830e+07</td>\n",
       "    </tr>\n",
       "    <tr>\n",
       "      <th>12158</th>\n",
       "      <td>5.500080e+13</td>\n",
       "      <td>MULTIPOLYGON (((-1965705.000 3111385.000, -196...</td>\n",
       "      <td>2748</td>\n",
       "      <td>0</td>\n",
       "      <td>12159</td>\n",
       "      <td>0</td>\n",
       "      <td>122110</td>\n",
       "      <td>0</td>\n",
       "      <td>0</td>\n",
       "      <td>1711</td>\n",
       "      <td>1</td>\n",
       "      <td>97979.999801</td>\n",
       "      <td>4.467460e+07</td>\n",
       "    </tr>\n",
       "    <tr>\n",
       "      <th>12159</th>\n",
       "      <td>5.500080e+13</td>\n",
       "      <td>MULTIPOLYGON (((-1960875.000 3119755.000, -196...</td>\n",
       "      <td>2749</td>\n",
       "      <td>0</td>\n",
       "      <td>12160</td>\n",
       "      <td>0</td>\n",
       "      <td>122111</td>\n",
       "      <td>0</td>\n",
       "      <td>0</td>\n",
       "      <td>1711</td>\n",
       "      <td>1</td>\n",
       "      <td>29939.999800</td>\n",
       "      <td>2.136320e+07</td>\n",
       "    </tr>\n",
       "    <tr>\n",
       "      <th>12161</th>\n",
       "      <td>5.500080e+13</td>\n",
       "      <td>MULTIPOLYGON (((-1956185.000 3164605.000, -195...</td>\n",
       "      <td>2751</td>\n",
       "      <td>0</td>\n",
       "      <td>12162</td>\n",
       "      <td>0</td>\n",
       "      <td>122113</td>\n",
       "      <td>0</td>\n",
       "      <td>0</td>\n",
       "      <td>1711</td>\n",
       "      <td>1</td>\n",
       "      <td>114200.010001</td>\n",
       "      <td>9.240170e+07</td>\n",
       "    </tr>\n",
       "    <tr>\n",
       "      <th>12162</th>\n",
       "      <td>5.500080e+13</td>\n",
       "      <td>MULTIPOLYGON (((-1955545.000 3188295.000, -195...</td>\n",
       "      <td>2752</td>\n",
       "      <td>0</td>\n",
       "      <td>12163</td>\n",
       "      <td>0</td>\n",
       "      <td>122114</td>\n",
       "      <td>0</td>\n",
       "      <td>0</td>\n",
       "      <td>1711</td>\n",
       "      <td>1</td>\n",
       "      <td>232859.987703</td>\n",
       "      <td>2.332306e+08</td>\n",
       "    </tr>\n",
       "  </tbody>\n",
       "</table>\n",
       "<p>6372 rows × 13 columns</p>\n",
       "</div>"
      ],
      "text/plain": [
       "             POI_ID                                           geometry  \\\n",
       "0      5.000100e+12  POLYGON ((2243155.000 2905805.000, 2243145.000...   \n",
       "1      5.000100e+12  POLYGON ((2241435.000 2902295.000, 2241445.000...   \n",
       "2      5.000100e+12  POLYGON ((2227975.000 2900555.000, 2227975.000...   \n",
       "3      5.000100e+12  MULTIPOLYGON (((2229045.000 2897345.000, 22290...   \n",
       "4      5.000100e+12  MULTIPOLYGON (((2198495.000 2891445.000, 21985...   \n",
       "...             ...                                                ...   \n",
       "12156  5.500080e+13  MULTIPOLYGON (((-1957275.000 3104325.000, -195...   \n",
       "12158  5.500080e+13  MULTIPOLYGON (((-1965705.000 3111385.000, -196...   \n",
       "12159  5.500080e+13  MULTIPOLYGON (((-1960875.000 3119755.000, -196...   \n",
       "12161  5.500080e+13  MULTIPOLYGON (((-1956185.000 3164605.000, -195...   \n",
       "12162  5.500080e+13  MULTIPOLYGON (((-1955545.000 3188295.000, -195...   \n",
       "\n",
       "       hru_id  hru_segment  hru_id_tb  hru_segment_tb  hru_id_nhm  \\\n",
       "0          66            1         66               1      110017   \n",
       "1          53            2         53               2      110004   \n",
       "2          46            3         46               3      109997   \n",
       "3          41            4         41               4      109992   \n",
       "4          27            5         27               5      109978   \n",
       "...       ...          ...        ...             ...         ...   \n",
       "12156    2746            0      12157               0      122108   \n",
       "12158    2748            0      12159               0      122110   \n",
       "12159    2749            0      12160               0      122111   \n",
       "12161    2751            0      12162               0      122113   \n",
       "12162    2752            0      12163               0      122114   \n",
       "\n",
       "       hru_segment_nhm  Type_NCA HUC04  Coastal_HRU   Shape_Length  \\\n",
       "0                56461         0  0101            0   25880.003500   \n",
       "1                56462         0  0101            0   57756.700675   \n",
       "2                56463         0  0101            0   21188.830216   \n",
       "3                56464         0  0101            0  184064.496781   \n",
       "4                56465         0  0101            0  145703.907164   \n",
       "...                ...       ...   ...          ...            ...   \n",
       "12156                0         0  1711            1   64520.001701   \n",
       "12158                0         0  1711            1   97979.999801   \n",
       "12159                0         0  1711            1   29939.999800   \n",
       "12161                0         0  1711            1  114200.010001   \n",
       "12162                0         0  1711            1  232859.987703   \n",
       "\n",
       "         Shape_Area  \n",
       "0      1.329690e+07  \n",
       "1      8.006604e+07  \n",
       "2      3.240654e+06  \n",
       "3      3.333918e+08  \n",
       "4      2.449532e+08  \n",
       "...             ...  \n",
       "12156  2.716830e+07  \n",
       "12158  4.467460e+07  \n",
       "12159  2.136320e+07  \n",
       "12161  9.240170e+07  \n",
       "12162  2.332306e+08  \n",
       "\n",
       "[6372 rows x 13 columns]"
      ]
     },
     "execution_count": 70,
     "metadata": {},
     "output_type": "execute_result"
    }
   ],
   "source": [
    "final_gdf"
   ]
  },
  {
   "cell_type": "code",
   "execution_count": null,
   "id": "65980c73-4b47-4dfd-8f40-a8fc665bf3f6",
   "metadata": {},
   "outputs": [],
   "source": []
  },
  {
   "cell_type": "markdown",
   "id": "073d244d-64fc-4c9e-b5bf-39912f729cbe",
   "metadata": {
    "user_expressions": []
   },
   "source": [
    "____"
   ]
  },
  {
   "cell_type": "code",
   "execution_count": null,
   "id": "85c19f98-6033-44ef-aff3-452945d895b4",
   "metadata": {},
   "outputs": [],
   "source": []
  },
  {
   "cell_type": "code",
   "execution_count": null,
   "id": "0bf67186-4887-4726-80ee-fc2edcb9cbd2",
   "metadata": {},
   "outputs": [],
   "source": []
  },
  {
   "cell_type": "code",
   "execution_count": null,
   "id": "26314824-ae9b-4fac-b46e-726146bb7aba",
   "metadata": {},
   "outputs": [],
   "source": []
  },
  {
   "cell_type": "code",
   "execution_count": null,
   "id": "178eb2e8-1591-430a-a76e-8da1542ee6e2",
   "metadata": {},
   "outputs": [],
   "source": []
  },
  {
   "cell_type": "code",
   "execution_count": null,
   "id": "d35d84c0-56ab-4b40-ae1b-8db70d72db66",
   "metadata": {},
   "outputs": [],
   "source": []
  },
  {
   "cell_type": "code",
   "execution_count": null,
   "id": "d744f3d4-244b-4c16-853a-3a7ed7c77feb",
   "metadata": {},
   "outputs": [],
   "source": []
  },
  {
   "cell_type": "code",
   "execution_count": null,
   "id": "6328b59f-dfd9-47d9-9ee0-9d027e919d93",
   "metadata": {},
   "outputs": [],
   "source": []
  },
  {
   "cell_type": "code",
   "execution_count": null,
   "id": "629f2f71-03e8-4604-b152-ad12dff39393",
   "metadata": {},
   "outputs": [],
   "source": []
  },
  {
   "cell_type": "code",
   "execution_count": null,
   "id": "89ca1ed8-da0e-4ff9-bdd9-2265a8f42c3e",
   "metadata": {},
   "outputs": [],
   "source": []
  },
  {
   "cell_type": "code",
   "execution_count": null,
   "id": "388e5e61-73a9-4d5d-b217-87beb06e1a19",
   "metadata": {},
   "outputs": [],
   "source": []
  },
  {
   "cell_type": "code",
   "execution_count": null,
   "id": "8947493e-6adb-431c-a149-ba9e581aaca0",
   "metadata": {},
   "outputs": [],
   "source": []
  },
  {
   "cell_type": "code",
   "execution_count": null,
   "id": "f0a54f4b-8875-4e5e-ad4f-bca9134ac8fd",
   "metadata": {},
   "outputs": [],
   "source": []
  },
  {
   "cell_type": "code",
   "execution_count": null,
   "id": "c0ae45d3-4c5f-4917-a08e-6c124159a8a1",
   "metadata": {},
   "outputs": [],
   "source": []
  },
  {
   "cell_type": "code",
   "execution_count": null,
   "id": "e8cdb81e-4567-42d8-a8fe-d87d3359f088",
   "metadata": {},
   "outputs": [],
   "source": []
  },
  {
   "cell_type": "code",
   "execution_count": null,
   "id": "1b4766c0-5302-4718-82e9-7669debac25b",
   "metadata": {},
   "outputs": [],
   "source": []
  },
  {
   "cell_type": "code",
   "execution_count": null,
   "id": "1b7e85e2-7037-4cda-ba70-417f04b9bdf5",
   "metadata": {
    "tags": []
   },
   "outputs": [],
   "source": [
    "import easymore\n",
    "\n",
    "# easymore initiation\n",
    "esmr = easymore.easymore()\n",
    "\n",
    "# find all upstream river segments for the outlets of the  St. Mary and Milk river basins\n",
    "seg_ids = riv['Main_ID']\n",
    "down_seg_ids = riv['DS_Main_ID']\n",
    "ntopo = esmr.get_all_downstream(seg_ids, down_seg_ids)"
   ]
  },
  {
   "cell_type": "code",
   "execution_count": null,
   "id": "13f99ee5-1f43-4e4f-bb50-ce49dfba442c",
   "metadata": {},
   "outputs": [],
   "source": [
    "upstream_ids = esmr.get_all_upstream(23002800001207, ntopo).astype(int)"
   ]
  },
  {
   "cell_type": "code",
   "execution_count": null,
   "id": "83030599-efad-4bfa-abd4-04751265522a",
   "metadata": {
    "tags": []
   },
   "outputs": [],
   "source": [
    "smm_riv = riv.loc[riv['Main_ID'].isin(upstream_ids), :]"
   ]
  },
  {
   "cell_type": "code",
   "execution_count": null,
   "id": "c89e3659-2d7a-4965-a4a0-acd8c5cd3520",
   "metadata": {
    "tags": []
   },
   "outputs": [],
   "source": [
    "upstream_stmary = esmr.get_all_upstream(65000400000239, ntopo).astype(int)"
   ]
  },
  {
   "cell_type": "code",
   "execution_count": null,
   "id": "232b3770-19dd-4ffa-bd5f-8f4253530f1e",
   "metadata": {
    "tags": []
   },
   "outputs": [],
   "source": [
    "stmary_riv = riv.loc[riv['Main_ID'].isin(upstream_stmary), :]"
   ]
  },
  {
   "cell_type": "code",
   "execution_count": null,
   "id": "d8d791db-a758-46ed-8ff9-47c81fb1aa87",
   "metadata": {
    "tags": []
   },
   "outputs": [],
   "source": [
    "len(stmary_riv)"
   ]
  },
  {
   "cell_type": "code",
   "execution_count": null,
   "id": "80a2ebcf-dc91-4c70-b2e7-eb7c12f537f8",
   "metadata": {
    "tags": []
   },
   "outputs": [],
   "source": [
    "stmary_riv.to_file('/Users/kasrakeshavarz/Documents/temp/stmary.shp')"
   ]
  }
 ],
 "metadata": {
  "kernelspec": {
   "display_name": "jupyter",
   "language": "python",
   "name": "jupyter"
  },
  "language_info": {
   "codemirror_mode": {
    "name": "ipython",
    "version": 3
   },
   "file_extension": ".py",
   "mimetype": "text/x-python",
   "name": "python",
   "nbconvert_exporter": "python",
   "pygments_lexer": "ipython3",
   "version": "3.11.2"
  },
  "toc-autonumbering": true,
  "toc-showtags": false
 },
 "nbformat": 4,
 "nbformat_minor": 5
}
