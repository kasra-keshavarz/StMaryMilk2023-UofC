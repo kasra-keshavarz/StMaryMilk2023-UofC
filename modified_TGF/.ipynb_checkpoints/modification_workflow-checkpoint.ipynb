{
 "cells": [
  {
   "cell_type": "markdown",
   "id": "cb929c64-beb2-40ee-9c2f-3c98b4bd54d9",
   "metadata": {
    "user_expressions": []
   },
   "source": [
    "# Workflow to modify Transboundary Geospatial Fabric (TGF) to adapt to GWF's Hydrological Modelling Workflows"
   ]
  },
  {
   "cell_type": "markdown",
   "id": "131ff984-57b3-44a4-b2b8-d75cfc61d6e0",
   "metadata": {
    "user_expressions": []
   },
   "source": [
    "## Importing necessary libraries"
   ]
  },
  {
   "cell_type": "code",
   "execution_count": 7,
   "id": "7551ad88-49c1-4344-aef0-8f2472b5697b",
   "metadata": {
    "tags": []
   },
   "outputs": [],
   "source": [
    "import xarray as xr\n",
    "import pandas as pd\n",
    "import numpy as np\n",
    "import geopandas as gpd\n",
    "\n",
    "import fiona"
   ]
  },
  {
   "cell_type": "code",
   "execution_count": 2,
   "id": "2682658b-c0e9-4bf3-8dfd-ad3f4ffa5eae",
   "metadata": {
    "tags": []
   },
   "outputs": [
    {
     "data": {
      "text/plain": [
       "['POIs', 'waterbodies', 'nhru', 'nsegment']"
      ]
     },
     "execution_count": 2,
     "metadata": {},
     "output_type": "execute_result"
    }
   ],
   "source": [
    "# defining paths\n",
    "tgf_path = '/Users/kasrakeshavarz/Documents/geospatial-data/StMary-Milk/TGF/TGF.gdb/'\n",
    "\n",
    "# list tgf layers\n",
    "fiona.listlayers(tgf_path)"
   ]
  },
  {
   "cell_type": "code",
   "execution_count": 3,
   "id": "8bad3111-a0a9-43e6-ae28-92559ab65533",
   "metadata": {
    "tags": []
   },
   "outputs": [],
   "source": [
    "# read tgf layers\n",
    "## river segments\n",
    "tgf_riv = gpd.read_file(tgf_path, driver='FileGDB', layer='nsegment')\n",
    "\n",
    "## basin segments\n",
    "tgf_cat = gpd.read_file(tgf_path, driver='FileGDB', layer='nhru')\n",
    "## Points of Interest (POIs)\n",
    "tgf_poi = gpd.read_file(tgf_path, driver='FileGDB', layer='POIs')"
   ]
  },
  {
   "cell_type": "markdown",
   "id": "eaf25122-79ee-4714-bf2d-46b0ec4ef571",
   "metadata": {
    "user_expressions": []
   },
   "source": [
    "## Necessary functions"
   ]
  },
  {
   "cell_type": "markdown",
   "id": "efed2d6a-7879-4855-ad32-b28512da889c",
   "metadata": {
    "tags": [],
    "user_expressions": []
   },
   "source": [
    "## Modifiying the river segments"
   ]
  },
  {
   "cell_type": "markdown",
   "id": "92324544-e5b7-463d-a15f-b00da37e3872",
   "metadata": {
    "user_expressions": []
   },
   "source": [
    "### Correcting incorrect `Main_ID` and `DS_Main_ID` values"
   ]
  },
  {
   "cell_type": "code",
   "execution_count": 19,
   "id": "f57fe943-f860-45ac-b275-a2dc4361200e",
   "metadata": {
    "tags": []
   },
   "outputs": [],
   "source": [
    "# safe copy of `tgf_riv` for further analysis\n",
    "riv = tgf_riv.copy()"
   ]
  },
  {
   "cell_type": "code",
   "execution_count": 20,
   "id": "9cc23be1-6eca-431f-9d5d-e6685539ecd7",
   "metadata": {
    "tags": []
   },
   "outputs": [
    {
     "name": "stderr",
     "output_type": "stream",
     "text": [
      "/Users/kasrakeshavarz/Documents/virtualenvs/jupyter/lib/python3.11/site-packages/pandas/core/dtypes/cast.py:380: RuntimeWarning: invalid value encountered in cast\n",
      "  new_result = trans(result).astype(dtype)\n"
     ]
    }
   ],
   "source": [
    "# list of columns to be chosen for dtype downcast\n",
    "col_list = ['Main_ID', 'DS_Main_ID']\n",
    "\n",
    "# downcast dtype of necessary columns to integer, if possible\n",
    "fcols = riv[col_list].select_dtypes('float').columns\n",
    "riv[fcols] = riv[fcols].apply(pd.to_numeric, downcast='integer')"
   ]
  },
  {
   "cell_type": "code",
   "execution_count": 21,
   "id": "7f823953-b586-4772-9872-f931666cb602",
   "metadata": {
    "tags": []
   },
   "outputs": [
    {
     "name": "stdout",
     "output_type": "stream",
     "text": [
      "Downcasting for the dtype of column `Main_ID` is right:  True\n",
      "Downcasting for the dtype of column `DS_Main_ID` is right:  True\n"
     ]
    }
   ],
   "source": [
    "# checking if downcasting is done right\n",
    "for col in col_list:\n",
    "    print(f'Downcasting for the dtype of column `{col}` is right: ', (tgf_riv[col] == riv[col]).astype(int).sum() == tgf_riv.shape[0])"
   ]
  },
  {
   "cell_type": "code",
   "execution_count": 9,
   "id": "cb0b463e-7bbc-403a-bb1b-ff1a49ef119d",
   "metadata": {
    "tags": []
   },
   "outputs": [],
   "source": [
    "# find all circular river segments; in other words, if 'Main_ID' == 'DS_Main_ID'\n",
    "circ_seg = riv.loc[riv['Main_ID'] == riv['DS_Main_ID'], 'Main_ID'].tolist()\n",
    "\n",
    "# for the segment ID of `65000300006184`, the correct downstream ID is 65000300005651\n",
    "riv.loc[riv['Main_ID'] == 65000300006184, 'DS_Main_ID'] = 65000300005651\n",
    "\n",
    "# river segment ID `55000500004677` has the wrong downstream river segment and instead drains into its upstream segment\n",
    "# the correct downstream segment ID is: 55000500004714\n",
    "riv.loc[riv['Main_ID'] == 55000500004677, 'DS_Main_ID'] = 55000500004714\n",
    "\n",
    "# river segment ID `55000500004714` has the wrong downstream river segment and instead drains into upstream segments\n",
    "# the correct downstream segment ID is: 55000500004576\n",
    "riv.loc[riv['Main_ID'] == 55000500004714, 'DS_Main_ID'] = 55000500004576"
   ]
  },
  {
   "cell_type": "code",
   "execution_count": 14,
   "id": "24bfabb5-3664-4200-8216-5d888339499a",
   "metadata": {
    "tags": []
   },
   "outputs": [],
   "source": [
    "import networkx as nx\n",
    "import matplotlib.pyplot as plt"
   ]
  },
  {
   "cell_type": "code",
   "execution_count": 22,
   "id": "ab661668-b981-4595-8a60-8c5583548461",
   "metadata": {
    "tags": []
   },
   "outputs": [
    {
     "data": {
      "image/png": "[encoded data removed]",
      "text/plain": [
       "<Figure size 1000x400 with 1 Axes>"
      ]
     },
     "metadata": {},
     "output_type": "display_data"
    }
   ],
   "source": [
    "G = nx.from_pandas_edgelist(riv, source='Main_ID', target='DS_Main_ID', create_using=nx.DiGraph)\n",
    "\n",
    "# comps = nx.weakly_connected_components(G)\n",
    "# comp = next(comp for comp in comps if 23002800001207 in comp)\n",
    "# H = nx.subgraph(G, comp)\n",
    "# plt.figure(figsize=(10,4))\n",
    "# nx.draw(H, node_color='lightgreen', with_labels=False, node_size=500)"
   ]
  },
  {
   "cell_type": "code",
   "execution_count": 23,
   "id": "5991f88e-792c-4f78-88b0-244d852a70fd",
   "metadata": {
    "tags": []
   },
   "outputs": [
    {
     "data": {
      "text/plain": [
       "False"
      ]
     },
     "execution_count": 23,
     "metadata": {},
     "output_type": "execute_result"
    }
   ],
   "source": [
    "nx.is_directed_acyclic_graph(G)"
   ]
  },
  {
   "cell_type": "code",
   "execution_count": 30,
   "id": "0bfe0edb-9809-4698-9cde-552bca47e3fc",
   "metadata": {
    "tags": []
   },
   "outputs": [
    {
     "name": "stdout",
     "output_type": "stream",
     "text": [
      "[65000300006184]\n",
      "[55000500004665, 55000500004677]\n"
     ]
    }
   ],
   "source": [
    "for i in nx.simple_cycles(G):\n",
    "    print(i)\n",
    "    \n",
    "cycles = nx.simple_cycles(G)"
   ]
  },
  {
   "cell_type": "code",
   "execution_count": 31,
   "id": "26afd568-8958-4ba4-a347-1c643c35e86b",
   "metadata": {
    "tags": []
   },
   "outputs": [],
   "source": [
    "# Remove cycles by breaking a random edge in each cycle\n",
    "for cycle in cycles:\n",
    "    # Select a random edge from the cycle\n",
    "    edge = (cycle[-1], cycle[0])\n",
    "    for i in range(len(cycle) - 1):\n",
    "        if (cycle[i], cycle[i+1]) in G.edges:\n",
    "            edge = (cycle[i], cycle[i+1])\n",
    "            break\n",
    "    \n",
    "    # Remove the selected edge from the graph\n",
    "    G.remove_edge(edge[0], edge[1])"
   ]
  },
  {
   "cell_type": "code",
   "execution_count": 34,
   "id": "dedc9aff-268c-4e03-b985-54b94a07f350",
   "metadata": {
    "tags": []
   },
   "outputs": [],
   "source": [
    "for i in nx.simple_cycles(G):\n",
    "    print(i)\n",
    "    \n",
    "cycles = nx.simple_cycles(G)"
   ]
  },
  {
   "cell_type": "code",
   "execution_count": 141,
   "id": "56be0b05-d095-4900-aea6-7c0f5030553b",
   "metadata": {
    "tags": []
   },
   "outputs": [
    {
     "name": "stdout",
     "output_type": "stream",
     "text": [
      "Warning: Feature with Main_ID 65000100001397.0 is not connected to its descendant with DS_Main_ID 65000100007950.0\n",
      "Warning: Feature with Main_ID 65000100004140.0 is not connected to its descendant with DS_Main_ID 65000100003646.0\n",
      "Warning: Feature with Main_ID 65000200011511.0 is not connected to its descendant with DS_Main_ID 65000200007422.0\n",
      "Warning: Feature with Main_ID 65000300007677.0 is not connected to its descendant with DS_Main_ID 65000300008719.0\n",
      "Warning: Feature with Main_ID 65000300007818.0 is not connected to its descendant with DS_Main_ID 65000300008719.0\n",
      "Warning: Feature with Main_ID 55001100010923.0 is not connected to its descendant with DS_Main_ID 55001100001643.0\n",
      "Warning: Feature with Main_ID 55001100031439.0 is not connected to its descendant with DS_Main_ID 55001100001635.0\n",
      "Warning: Feature with Main_ID 55001100063905.0 is not connected to its descendant with DS_Main_ID 55001100029740.0\n",
      "Warning: Feature with Main_ID 55000500001843.0 is not connected to its descendant with DS_Main_ID 55000500013227.0\n",
      "Warning: Feature with Main_ID 55000500001863.0 is not connected to its descendant with DS_Main_ID 55000500013227.0\n",
      "Warning: Feature with Main_ID 55000500002751.0 is not connected to its descendant with DS_Main_ID 55000500036088.0\n",
      "No descendant feature found for Main_ID 55000800013451.0 with DS_Main_ID 55000800012317.0\n",
      "No descendant feature found for Main_ID 55000800016316.0 with DS_Main_ID 55000800012317.0\n",
      "No descendant feature found for Main_ID 55000800017535.0 with DS_Main_ID 55000800012317.0\n",
      "No descendant feature found for Main_ID 55000800020554.0 with DS_Main_ID 55000800012317.0\n",
      "No descendant feature found for Main_ID 55000800032134.0 with DS_Main_ID 55000800012317.0\n",
      "Warning: Feature with Main_ID 65000100007459.0 is not connected to its descendant with DS_Main_ID 65000100000259.0\n"
     ]
    }
   ],
   "source": [
    "shapefile = tgf_riv.copy()\n",
    "\n",
    "# Create a dictionary to store the connections between features\n",
    "connections = {}\n",
    "\n",
    "# Loop through each feature in the shapefile\n",
    "for idx, feature in shapefile.iterrows():\n",
    "    \n",
    "    # Skip over features with DS_Main_ID = 0\n",
    "    if feature[\"DS_Main_ID\"] == 0:\n",
    "        continue\n",
    "    \n",
    "    # Find the corresponding descendant feature\n",
    "    descendant = shapefile.loc[shapefile[\"Main_ID\"] == feature[\"DS_Main_ID\"]]\n",
    "    \n",
    "    # Check if the descendant DataFrame is empty\n",
    "    if descendant.empty:\n",
    "        print(f\"No descendant feature found for Main_ID {feature['Main_ID']} with DS_Main_ID {feature['DS_Main_ID']}\")\n",
    "        continue\n",
    "    \n",
    "    # Check if the feature's geometry intersects with the descendant's geometry\n",
    "    if not feature.geometry.intersects(descendant.geometry.iloc[0]):\n",
    "        print(f\"Warning: Feature with Main_ID {feature['Main_ID']} is not connected to its descendant with DS_Main_ID {feature['DS_Main_ID']}\")\n",
    "    else:\n",
    "        # Add the connection to the dictionary\n",
    "        if feature[\"Main_ID\"] in connections:\n",
    "            print(f\"Warning: Element with Main_ID {feature['Main_ID']} is connected to feature with Main_ID {connections[feature['Main_ID']]} but DS_Main_ID says it should be connected to {feature['DS_Main_ID']}\")\n",
    "        else:\n",
    "            connections[feature[\"Main_ID\"]] = feature[\"DS_Main_ID\"]\n",
    "            \n",
    "# Loop through the connections and print any conflicts\n",
    "for main_id, ds_main_id in connections.items():\n",
    "    feature = shapefile.loc[shapefile[\"Main_ID\"] == main_id]\n",
    "    if feature[\"DS_Main_ID\"].values[0] != ds_main_id:\n",
    "        print(f\"Warning: Element with Main_ID {main_id} is connected to feature with Main_ID {ds_main_id} but DS_Main_ID says it should be connected to {feature['DS_Main_ID'].values[0]}\")"
   ]
  },
  {
   "cell_type": "markdown",
   "id": "03b34206-864a-426d-b2b6-4288abd25780",
   "metadata": {
    "user_expressions": []
   },
   "source": [
    "____"
   ]
  },
  {
   "cell_type": "code",
   "execution_count": null,
   "id": "1b7e85e2-7037-4cda-ba70-417f04b9bdf5",
   "metadata": {
    "tags": []
   },
   "outputs": [],
   "source": [
    "# easymore initiation\n",
    "esmr = easymore.easymore()\n",
    "\n",
    "# find all upstream river segments for the outlets of the  St. Mary and Milk river basins\n",
    "seg_ids = riv['Main_ID']\n",
    "down_seg_ids = riv['DS_Main_ID']\n",
    "ntopo = esmr.get_all_downstream(seg_ids, down_seg_ids)"
   ]
  },
  {
   "cell_type": "code",
   "execution_count": null,
   "id": "13f99ee5-1f43-4e4f-bb50-ce49dfba442c",
   "metadata": {},
   "outputs": [],
   "source": [
    "upstream_ids = esmr.get_all_upstream(23002800001207, ntopo).astype(int)"
   ]
  },
  {
   "cell_type": "code",
   "execution_count": null,
   "id": "83030599-efad-4bfa-abd4-04751265522a",
   "metadata": {
    "tags": []
   },
   "outputs": [],
   "source": [
    "smm_riv = riv.loc[riv['Main_ID'].isin(upstream_ids), :]"
   ]
  },
  {
   "cell_type": "code",
   "execution_count": null,
   "id": "c89e3659-2d7a-4965-a4a0-acd8c5cd3520",
   "metadata": {
    "tags": []
   },
   "outputs": [],
   "source": [
    "upstream_stmary = esmr.get_all_upstream(65000400000239, ntopo).astype(int)"
   ]
  },
  {
   "cell_type": "code",
   "execution_count": null,
   "id": "232b3770-19dd-4ffa-bd5f-8f4253530f1e",
   "metadata": {
    "tags": []
   },
   "outputs": [],
   "source": [
    "stmary_riv = riv.loc[riv['Main_ID'].isin(upstream_stmary), :]"
   ]
  },
  {
   "cell_type": "code",
   "execution_count": null,
   "id": "80a2ebcf-dc91-4c70-b2e7-eb7c12f537f8",
   "metadata": {
    "tags": []
   },
   "outputs": [],
   "source": [
    "stmary_riv.to_file('/Users/kasrakeshavarz/Documents/temp/stmary.shp')"
   ]
  }
 ],
 "metadata": {
  "kernelspec": {
   "display_name": "jupyter",
   "language": "python",
   "name": "jupyter"
  },
  "language_info": {
   "codemirror_mode": {
    "name": "ipython",
    "version": 3
   },
   "file_extension": ".py",
   "mimetype": "text/x-python",
   "name": "python",
   "nbconvert_exporter": "python",
   "pygments_lexer": "ipython3",
   "version": "3.11.2"
  },
  "toc-autonumbering": true
 },
 "nbformat": 4,
 "nbformat_minor": 5
}
